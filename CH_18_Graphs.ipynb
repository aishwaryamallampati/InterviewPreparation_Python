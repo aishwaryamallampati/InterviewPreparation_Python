{
 "cells": [
  {
   "cell_type": "markdown",
   "metadata": {},
   "source": [
    "# CH18 Graphs"
   ]
  },
  {
   "cell_type": "code",
   "execution_count": 1,
   "metadata": {},
   "outputs": [],
   "source": [
    "# Some important notes:\n",
    "# A directed acyclic graph (DAG) is a directed graph in which there are no cycles, i.e., paths which contain one or more edges and which begin and end at the same vertex.\n",
    "# A topological ordering of the vertices in a DAG is an ordering of the vertices in which each edge is from a vertex earlier in the ordering to a vertex later in the ordering\n",
    "# If G is an undirected graph, vertices u and o are said tobe connected if G contains a path from uto v;otherwise, u and v aresaid to be disconnected\n",
    "# A graph is said to be connected if every pair of vertices in the graph is connected.\n",
    "# A connected component is a maximal set of vertices C such that each pair of vertices in C is connected in G\n",
    "# A directed graph is called \n",
    "# - weakly connected if replacing all of its directed edges with undirected edges produces an undirected graph that is connected\n",
    "# - conntected if it contains a directed path from u to v or a directed path from v to u for every pair of vertices u and v.\n",
    "# - strongly connected if it contains a directed path from u to v and a directed path from v to u for every pair of vertices u and v.\n",
    "# A graph can be implemented in two ways-using adjacency lists or an adjacency matrix\n",
    "# - In the adjacency list representation, each vertex v, has a list of vertices to which it has an edge. \n",
    "# - The adjacency matrix representation uses a |V| x |V| Boolean-valued matrix indexed by vertices, with a 1 indicating the presence of an edge.\n",
    "# A free (sometimes called a free tree) is a special sort of graph-it is an undirected graph that is connected but has no cycles. \n",
    "# - Many equivalent definitions exist, e.g., a graph is a free tree if and only if there exists a unique path between every pair of vertices.\n",
    "# - Given a graph G = (V,E),if the graph G' = (V,E') where E' c E, is a tree, then G' is referred to as a spanning tree of G.\n",
    "\n",
    "# Graphs are ideal for modeling and analyzing relationships between pairs of objects.\n",
    "# Use graphs when the problem involves spatially connected objects such as roads etc.\n",
    "# Use graph when you need to analyze any binary relationship between objects such as interlinked webpages, followers in a social graph\n",
    "# Some graph problems entail anlayzing structure, ex: looking for cycles or connected componenets. DFS works well for these problems\n",
    "# BFS, Dijkstra shortest path and minimum spanning tree are examples of graph algorithms for optimization problems ex: find shortest path from one vertex to another.\n",
    "\n",
    "# Graph Search:\n",
    "# DFS and BFS => Time complexity: O(|V| + |E|)\n",
    "# BFS can be used to compute distances from the start vertex and DFS can be used to check for the presence of cycles."
   ]
  },
  {
   "cell_type": "code",
   "execution_count": null,
   "metadata": {},
   "outputs": [],
   "source": [
    "# Given a set of matches results between two teams, is there a sequence of teams starting with A and ending with B such that \n",
    "# each team in the sequence has beatend"
   ]
  },
  {
   "cell_type": "markdown",
   "metadata": {},
   "source": [
    "## 18.1 Search a Maze"
   ]
  },
  {
   "cell_type": "code",
   "execution_count": null,
   "metadata": {},
   "outputs": [],
   "source": [
    "# Given a2D array of black and white entries representing amaze with designated entrance and exit\n",
    "# points, find a path from the entrance to the exit, if one exists.\n",
    "\n",
    "# Solution: Use recursive DFS(easy as DFS stack is mainted by the compiler) or BFS(gives the shortest path from entry to exit but hard to code)\n",
    "\n",
    "WHITE, BLACK = range(2)\n",
    "Coordinate = collections.namedtuple('Coordinate', ('x','y'))\n",
    "\n",
    "def search_maze(maze, s, e):\n",
    "    def search_maze_helper(curr:\n",
    "        # checks cur is within maze an is a white pixel\n",
    "        if not(0<=curr.x<len(maze) and 0<=curr.y<len(maze[curr.x]) and maze[curr.x][curry] == WHITE):\n",
    "            return False\n",
    "        path.append(curr)\n",
    "        maze[curr.x][curry] = BLACK\n",
    "        if curr == e:\n",
    "            return True\n",
    "    \n",
    "                           "
   ]
  }
 ],
 "metadata": {
  "kernelspec": {
   "display_name": "Python 3",
   "language": "python",
   "name": "python3"
  },
  "language_info": {
   "codemirror_mode": {
    "name": "ipython",
    "version": 3
   },
   "file_extension": ".py",
   "mimetype": "text/x-python",
   "name": "python",
   "nbconvert_exporter": "python",
   "pygments_lexer": "ipython3",
   "version": "3.8.3"
  }
 },
 "nbformat": 4,
 "nbformat_minor": 2
}
