{
 "cells": [
  {
   "cell_type": "markdown",
   "metadata": {},
   "source": [
    "# CH15 Recursion"
   ]
  },
  {
   "cell_type": "code",
   "execution_count": null,
   "metadata": {},
   "outputs": [],
   "source": [
    "# Some important notes:\n",
    "# Recursion: identify base case and make sure recursion converges to the solution\n",
    "# A divide-and-conquer algorithm works by repeatedly decomposing a problem into two or more smaller independent subproblems of the same kind, until it gets to instances that are simple enough to be solved directly. \n",
    "# The solutions to the subproblems are then combined to give a solution to the original problem. Merge sort and quicksort are classical examples of divide-and-conquer\n",
    "# Divide and conquer is different from recursion. In recursion, there can be single sub problem(binary search), the sub problem may not be independent(dynamic programming), subproblem may not be same as original(regular expression matching).\n",
    "# Recursion is a good choice for search, enumeration, and divide-and-conquer.\n",
    "# Use recursion as alternative to deeply nested iteration loops\n",
    "# If you are asked to remove recursion from a program, consider mimicking call stack with the stack data structure.\n",
    "# Recursion can be easily removed from a tail-recursive program by using a while-loop-no stack is needed. (Optimizing compilers do this.)\n",
    "# If a recursive function may end up being called with the same arguments more than once, cache the results-this is the idea behind Dynamic Programming"
   ]
  },
  {
   "cell_type": "code",
   "execution_count": 3,
   "metadata": {},
   "outputs": [
    {
     "name": "stdout",
     "output_type": "stream",
     "text": [
      "2\n",
      "4\n",
      "1\n"
     ]
    }
   ],
   "source": [
    "# Find GCD(x,y) => if y>x then gcd(x,y) = gcd(x, y-x) = gcd(y, x % y)\n",
    "# Time Complexity: O(log max(x,y)) as one of the input is atmost halved each time. Space Complexity: O(1) as the program loops\n",
    "def gcd(x,y):\n",
    "    return x if y == 0 else gcd(y, x%y)\n",
    "\n",
    "print(gcd(2,4))\n",
    "print(gcd(40,4))\n",
    "print(gcd(40,3))"
   ]
  },
  {
   "cell_type": "markdown",
   "metadata": {},
   "source": [
    "## 15.1 The Towers of Hanoi Problem"
   ]
  },
  {
   "cell_type": "code",
   "execution_count": 7,
   "metadata": {},
   "outputs": [
    {
     "name": "stdout",
     "output_type": "stream",
     "text": [
      "Steps for 3 rings:[[0, 1], [0, 2], [1, 2], [0, 1], [2, 0], [2, 1], [0, 1]]\n",
      "Steps for 4 rings:[[0, 2], [0, 1], [2, 1], [0, 2], [1, 0], [1, 2], [0, 2], [0, 1], [2, 1], [2, 0], [1, 0], [2, 1], [0, 2], [0, 1], [2, 1]]\n"
     ]
    }
   ],
   "source": [
    "# Write a program which prints a sequence of operations that transfers n rings from one peg toanother. \n",
    "# You have a third peg, which is initially empty. The only operation you can perform is taking a single ring from the top of one peg and placing it on the top of another peg. \n",
    "# You must never place a larger ring above a smaller ring.\n",
    "\n",
    "# Soulution: If we have n rings, put n-1 on third peg and the nth ring on second peg. then transfer n-1 pegs from third to second.\n",
    "# Transferring n-1 rings from first to third and transferring n-1 rings from third to second are recursive operations.\n",
    "# Suppose T(n, from_peg, to_peg, use_peg) is our function. Then we use the following three steps:\n",
    "# - T(n-1, from_peg, use_peg, to_peg)\n",
    "# - T(1, from_peg, to_peg, use_peg)\n",
    "# - T(n-1, use_peg, to_peg, from_peg)\n",
    "# T(n) = T(n-1) + 1 + T(n-1) = 2^n - 1 => Time Complexity: O(2^n)\n",
    "NUM_PEGS = 3\n",
    "def compute_tower_hanoi(num_rings):\n",
    "    def compute_tower_hanoi_steps(num_of_rings_to_move, from_peg, to_peg, use_peg):\n",
    "        if num_of_rings_to_move > 0:\n",
    "            compute_tower_hanoi_steps(num_of_rings_to_move - 1, from_peg, use_peg, to_peg)\n",
    "            pegs[to_peg].append(pegs[from_peg].pop()) # base case actual transfer happens and the step is stored in result\n",
    "            result.append([from_peg, to_peg])\n",
    "            compute_tower_hanoi_steps(num_of_rings_to_move - 1, use_peg, to_peg, from_peg)\n",
    "    \n",
    "    # Initialize pegs\n",
    "    result = []\n",
    "    pegs = [list(reversed(range(1, num_rings+1)))] + [[] for _ in range(1, NUM_PEGS)] # first peg is filled with all rings and the remaining two pegs are empty\n",
    "    compute_tower_hanoi_steps(num_rings, 0, 1, 2)\n",
    "    return result\n",
    "\n",
    "print(f'Steps for 3 rings:{compute_tower_hanoi(3)}')\n",
    "print(f'Steps for 4 rings:{compute_tower_hanoi(4)}')"
   ]
  },
  {
   "cell_type": "code",
   "execution_count": 17,
   "metadata": {},
   "outputs": [
    {
     "name": "stdout",
     "output_type": "stream",
     "text": [
      "[]\n",
      "[[0, 1]]\n"
     ]
    },
    {
     "ename": "IndexError",
     "evalue": "pop from empty list",
     "output_type": "error",
     "traceback": [
      "\u001b[1;31m---------------------------------------------------------------------------\u001b[0m",
      "\u001b[1;31mIndexError\u001b[0m                                Traceback (most recent call last)",
      "\u001b[1;32m<ipython-input-17-ad592618457f>\u001b[0m in \u001b[0;36m<module>\u001b[1;34m\u001b[0m\n\u001b[0;32m     20\u001b[0m     \u001b[1;32mreturn\u001b[0m\u001b[1;33m(\u001b[0m\u001b[0mresult\u001b[0m\u001b[1;33m)\u001b[0m\u001b[1;33m\u001b[0m\u001b[1;33m\u001b[0m\u001b[0m\n\u001b[0;32m     21\u001b[0m \u001b[1;33m\u001b[0m\u001b[0m\n\u001b[1;32m---> 22\u001b[1;33m \u001b[0mprint\u001b[0m\u001b[1;33m(\u001b[0m\u001b[1;34mf'Steps for 3 rings:{compute_tower_hanoi_stack(3)}'\u001b[0m\u001b[1;33m)\u001b[0m\u001b[1;33m\u001b[0m\u001b[1;33m\u001b[0m\u001b[0m\n\u001b[0m\u001b[0;32m     23\u001b[0m \u001b[0mprint\u001b[0m\u001b[1;33m(\u001b[0m\u001b[1;34mf'Steps for 4 rings:{compute_tower_hanoi_stack(4)}'\u001b[0m\u001b[1;33m)\u001b[0m\u001b[1;33m\u001b[0m\u001b[1;33m\u001b[0m\u001b[0m\n",
      "\u001b[1;32m<ipython-input-17-ad592618457f>\u001b[0m in \u001b[0;36mcompute_tower_hanoi_stack\u001b[1;34m(num_rings)\u001b[0m\n\u001b[0;32m     15\u001b[0m             \u001b[0mprint\u001b[0m\u001b[1;33m(\u001b[0m\u001b[0mresult\u001b[0m\u001b[1;33m)\u001b[0m\u001b[1;33m\u001b[0m\u001b[1;33m\u001b[0m\u001b[0m\n\u001b[0;32m     16\u001b[0m             \u001b[0mstack\u001b[0m\u001b[1;33m.\u001b[0m\u001b[0mappend\u001b[0m\u001b[1;33m(\u001b[0m\u001b[0mstep\u001b[0m\u001b[1;33m(\u001b[0m\u001b[0mstep_popped\u001b[0m\u001b[1;33m.\u001b[0m\u001b[0mnum_of_rings_to_move\u001b[0m \u001b[1;33m-\u001b[0m \u001b[1;36m1\u001b[0m\u001b[1;33m,\u001b[0m \u001b[0mstep_popped\u001b[0m\u001b[1;33m.\u001b[0m\u001b[0mfrom_peg\u001b[0m\u001b[1;33m,\u001b[0m \u001b[0mstep_popped\u001b[0m\u001b[1;33m.\u001b[0m\u001b[0muse_peg\u001b[0m\u001b[1;33m,\u001b[0m \u001b[0mstep_popped\u001b[0m\u001b[1;33m.\u001b[0m\u001b[0mto_peg\u001b[0m\u001b[1;33m)\u001b[0m\u001b[1;33m)\u001b[0m\u001b[1;33m\u001b[0m\u001b[1;33m\u001b[0m\u001b[0m\n\u001b[1;32m---> 17\u001b[1;33m             \u001b[0mpegs\u001b[0m\u001b[1;33m[\u001b[0m\u001b[0mstep_popped\u001b[0m\u001b[1;33m.\u001b[0m\u001b[0mto_peg\u001b[0m\u001b[1;33m]\u001b[0m\u001b[1;33m.\u001b[0m\u001b[0mappend\u001b[0m\u001b[1;33m(\u001b[0m\u001b[0mpegs\u001b[0m\u001b[1;33m[\u001b[0m\u001b[0mstep_popped\u001b[0m\u001b[1;33m.\u001b[0m\u001b[0mfrom_peg\u001b[0m\u001b[1;33m]\u001b[0m\u001b[1;33m.\u001b[0m\u001b[0mpop\u001b[0m\u001b[1;33m(\u001b[0m\u001b[1;33m)\u001b[0m\u001b[1;33m)\u001b[0m\u001b[1;33m\u001b[0m\u001b[1;33m\u001b[0m\u001b[0m\n\u001b[0m\u001b[0;32m     18\u001b[0m             \u001b[0mresult\u001b[0m\u001b[1;33m.\u001b[0m\u001b[0mappend\u001b[0m\u001b[1;33m(\u001b[0m\u001b[1;33m[\u001b[0m\u001b[0mstep_popped\u001b[0m\u001b[1;33m.\u001b[0m\u001b[0mfrom_peg\u001b[0m\u001b[1;33m,\u001b[0m \u001b[0mstep_popped\u001b[0m\u001b[1;33m.\u001b[0m\u001b[0mto_peg\u001b[0m \u001b[1;33m]\u001b[0m\u001b[1;33m)\u001b[0m\u001b[1;33m\u001b[0m\u001b[1;33m\u001b[0m\u001b[0m\n\u001b[0;32m     19\u001b[0m             \u001b[0mstack\u001b[0m\u001b[1;33m.\u001b[0m\u001b[0mappend\u001b[0m\u001b[1;33m(\u001b[0m\u001b[0mstep\u001b[0m\u001b[1;33m(\u001b[0m\u001b[0mstep_popped\u001b[0m\u001b[1;33m.\u001b[0m\u001b[0mnum_of_rings_to_move\u001b[0m \u001b[1;33m-\u001b[0m \u001b[1;36m1\u001b[0m\u001b[1;33m,\u001b[0m \u001b[0mstep_popped\u001b[0m\u001b[1;33m.\u001b[0m\u001b[0muse_peg\u001b[0m\u001b[1;33m,\u001b[0m \u001b[0mstep_popped\u001b[0m\u001b[1;33m.\u001b[0m\u001b[0mto_peg\u001b[0m\u001b[1;33m,\u001b[0m \u001b[0mstep_popped\u001b[0m\u001b[1;33m.\u001b[0m\u001b[0mfrom_peg\u001b[0m\u001b[1;33m)\u001b[0m\u001b[1;33m)\u001b[0m\u001b[1;33m\u001b[0m\u001b[1;33m\u001b[0m\u001b[0m\n",
      "\u001b[1;31mIndexError\u001b[0m: pop from empty list"
     ]
    }
   ],
   "source": [
    "# Variant: Solve the same problem without using recursion\n",
    "import collections\n",
    "NUM_PEGS = 3\n",
    "def compute_tower_hanoi_stack(num_rings):\n",
    "    # Initialize pegs\n",
    "    result = []\n",
    "    pegs = [list(reversed(range(1, num_rings+1)))] + [[] for _ in range(1, NUM_PEGS)] # first peg is filled with all rings and the remaining two pegs are empty\n",
    "    \n",
    "    step = collections.namedtuple('step', ('num_of_rings_to_move', 'from_peg', 'to_peg', 'use_peg'))\n",
    "    stack = []\n",
    "    stack.append(step(num_rings, 0, 1, 2)) # initializing the stack\n",
    "    while len(stack) > 0:\n",
    "        step_popped = stack.pop()\n",
    "        if step_popped.num_of_rings_to_move > 0:\n",
    "            print(result)\n",
    "            stack.append(step(step_popped.num_of_rings_to_move - 1, step_popped.from_peg, step_popped.use_peg, step_popped.to_peg))\n",
    "            pegs[step_popped.to_peg].append(pegs[step_popped.from_peg].pop())\n",
    "            result.append([step_popped.from_peg, step_popped.to_peg ])\n",
    "            stack.append(step(step_popped.num_of_rings_to_move - 1, step_popped.use_peg, step_popped.to_peg, step_popped.from_peg))\n",
    "    return(result)\n",
    "        \n",
    "print(f'Steps for 3 rings:{compute_tower_hanoi_stack(3)}')\n",
    "print(f'Steps for 4 rings:{compute_tower_hanoi_stack(4)}') "
   ]
  },
  {
   "cell_type": "markdown",
   "metadata": {},
   "source": [
    "## 15.2 Generate all nonattacking placemenets of n-Queens"
   ]
  },
  {
   "cell_type": "code",
   "execution_count": 11,
   "metadata": {},
   "outputs": [
    {
     "name": "stdout",
     "output_type": "stream",
     "text": [
      "The placement of 4 queens is [[1, 3, 0, 2], [2, 0, 3, 1]]\n",
      "The placement of 5 queens is [[0, 2, 4, 1, 3], [0, 3, 1, 4, 2], [1, 3, 0, 2, 4], [1, 4, 2, 0, 3], [2, 0, 3, 1, 4], [2, 4, 1, 3, 0], [3, 0, 2, 4, 1], [3, 1, 4, 2, 0], [4, 1, 3, 0, 2], [4, 2, 0, 3, 1]]\n"
     ]
    }
   ],
   "source": [
    "#A nonattacking placement of queens is one in which no two queens are in the same row column, or diagonal\n",
    "# Write a program which returns all distinct nonattacking placements of n queens on an n x n chessboard, where n is an input to the program.\n",
    "# Ref for understanding the question: https://www.youtube.com/watch?v=xFv_Hl4B83A\n",
    "\n",
    "# Brute Force:consider all placements which is n^2Cn which grows very large with n. \n",
    "# Opt: since we have n queens, each row needs to have one queen. now the question boils down to finding the col for each queen in a row\n",
    "# such that its placement does not lead to diagonal or col conflict.\n",
    "# Time Complexity: no know exact value but it can be something around n!/c^n where c = 2.54 which is exponential\n",
    "def n_queens(n):\n",
    "    def solve_n_queens(row):\n",
    "        if row == n:\n",
    "            # all queens are placed as required\n",
    "            result.append(list(col_placement))\n",
    "            return\n",
    "        for col in range(n): # we are going to place new queen at col - so check if it conflicts with old queens\n",
    "            # To avoid column conflicts: abs(c - col) must not be equal to 0\n",
    "            # To avoid diagonal conflicts: abs(c - col) must not be equal to (row - i)  here row is the current row for which we are finding col position and i belongs to row valua of previous queen\n",
    "            # co_placement[:row] gives the column postions of previous queens before the current row which can be used for our comparison\n",
    "            # placing the queen in the current col should not lead to conflict with any of the previously placed queens so we use all()\n",
    "            if all(abs(c-col) not in (0, row - i) for i, c in enumerate(col_placement[:row])):\n",
    "                col_placement[row] = col\n",
    "                #print(f'row = {row} col={col} col_placement:{col_placement}')\n",
    "                solve_n_queens(row + 1)\n",
    "            \n",
    "            \n",
    "    # col placement is a 1d array with n cols and one row. ind represents row and col_placemnet[ind] represents col value of the queen\n",
    "    result, col_placement = [], [0] * n \n",
    "    #print(col_placement)\n",
    "    solve_n_queens(0)\n",
    "    return result\n",
    "\n",
    "print(f'The placement of 4 queens is {n_queens(4)}')\n",
    "print(f'The placement of 5 queens is {n_queens(5)}')"
   ]
  },
  {
   "cell_type": "markdown",
   "metadata": {},
   "source": [
    "# 15.3 Generate Permutations"
   ]
  },
  {
   "cell_type": "code",
   "execution_count": 20,
   "metadata": {},
   "outputs": [
    {
     "name": "stdout",
     "output_type": "stream",
     "text": [
      "The permutations are:[[7, 3, 5], [7, 5, 3], [3, 7, 5], [3, 5, 7], [5, 3, 7], [5, 7, 3]]\n",
      "The permutations are:[[3, 5, 7], [3, 7, 5], [5, 3, 7], [5, 7, 3], [7, 3, 5], [7, 5, 3]]\n",
      "The total number of permutations are:24\n",
      "The total number of permutations are:12\n",
      "The permutations are:[[0, 2, 2, 3], [0, 2, 3, 2], [0, 3, 2, 2], [2, 0, 2, 3], [2, 0, 3, 2], [2, 2, 0, 3], [2, 2, 3, 0], [2, 3, 0, 2], [2, 3, 2, 0], [3, 0, 2, 2], [3, 2, 0, 2], [3, 2, 2, 0]]\n"
     ]
    }
   ],
   "source": [
    "# Write a program which takes as input an array of distinct integers and generates all permutations of that array. No permutation of the array may appear more than once.\n",
    "# Brute Force: generate all possible arrays. Time Complexity: n^n \n",
    "\n",
    "# Optimized: every permutation of A begins with either A[0], A[1], ..., A[n-1]. So, computer all permutations beginning with A[0], then all permutations beggginning A[1] and so on.\n",
    "# Computing all permutations starting with A[0] implies find permutations of A[1,n-1]. To compute all permutations of A[1], swap A[0] with A[1] and do the same. So, recursion can be used.\n",
    "# Time Complexity: O(n * n!) since we perform O(n) computations outside recursive call\n",
    "# Does not work if input array has duplicates\n",
    "def permutations(A):\n",
    "    def directed_permutations(i):\n",
    "        if i == len(A) - 1:\n",
    "            result.append(A.copy())\n",
    "        for j in range(i, len(A)):\n",
    "            A[i], A[j] = A[j], A[i] #swap\n",
    "            directed_permutations(i + 1)\n",
    "            A[i], A[j] = A[j], A[i] # after finding the permutation starting with i, we place them in original places just to make sure we start fresh\n",
    "    \n",
    "    result = []\n",
    "    directed_permutations(0)\n",
    "    return result\n",
    "\n",
    "A = [7, 3, 5]\n",
    "print(f'The permutations are:{permutations(A)}')\n",
    "\n",
    "# Another approach: first sort the elements of the input array, then find next permutation given a permutation\n",
    "# Example: If input array is <7,3,5> => sort it = <3,5,7> so the next permutation is <3,7,5> then <5,3,7>, <5,7,3> and so on.\n",
    "def next_permutation(perm):\n",
    "    inversion_point = len(perm) - 2\n",
    "    while(inversion_point >= 0 and perm[inversion_point] >= perm[inversion_point + 1]):\n",
    "        inversion_point -= 1\n",
    "    if(inversion_point == -1):\n",
    "        return []\n",
    "    \n",
    "    for i in reversed(range(inversion_point+1, len(perm))):\n",
    "        if perm[i] > perm[inversion_point]:\n",
    "            perm[i], perm[inversion_point] = perm[inversion_point], perm[i]\n",
    "            break\n",
    "    perm[inversion_point + 1:] = reversed(perm[inversion_point + 1 :])\n",
    "    return perm\n",
    "\n",
    "# Time Complexity: O(n*n!) since there are n! permutations and we spend O(n) time to store each one.\n",
    "# Works even if input array has duplicates\n",
    "def permutations_using_next_perm(A):\n",
    "    A.sort() # the first perm in dictionary order is the sorted input array\n",
    "    result = []\n",
    "    while True:\n",
    "        result.append(A.copy())\n",
    "        A = next_permutation(A)\n",
    "        if not A:\n",
    "            break\n",
    "    return result\n",
    "A = [7,3,5]\n",
    "print(f'The permutations are:{permutations_using_next_perm(A)}')\n",
    "\n",
    "A = [2,2,3,0]\n",
    "print(f'The total number of permutations are:{len(permutations(A))}') # this approach does not work with duplicates\n",
    "print(f'The total number of permutations are:{len(permutations_using_next_perm(A))}') # it works with duplicates as it follows dictioanry ordering\n",
    "print(f'The permutations are:{permutations_using_next_perm(A)}')"
   ]
  },
  {
   "cell_type": "markdown",
   "metadata": {},
   "source": [
    "## 15.4 Generate the power set"
   ]
  },
  {
   "cell_type": "code",
   "execution_count": 32,
   "metadata": {},
   "outputs": [
    {
     "name": "stdout",
     "output_type": "stream",
     "text": [
      "The power set is [[], [2], [1], [1, 2], [0], [0, 2], [0, 1], [0, 1, 2]]\n",
      "The power set is [[], [0], [1], [0, 1], [2], [0, 2], [1, 2], [0, 1, 2]]\n",
      "The power set is [[], [1], [2], [1, 2], [3], [1, 3], [2, 3], [1, 2, 3], [2, 2], [1, 2, 2], [2, 2, 3], [1, 2, 2, 3]] and the total count of power set is 12\n"
     ]
    }
   ],
   "source": [
    "# The power set of a set S is the set of all subsets of S, including both the empty set 0 and S itself. \n",
    "# Ex: The power set of {0,1,2] is {null, {0}, {1}, {2},{0,1},{1,2},{0,2}, {0, 1,2}}\n",
    "\n",
    "# Task: Write a function that takes as input a set and retums its power set.\n",
    "\n",
    "# Brute Force: compute all subsets U which do not include a particular element then compute subsets V that include that element. The compute all subsets = U union V.\n",
    "# - construction is recursive with base case as empty.\n",
    "# Time Complexity:O(n2^n) = Space Complexity\n",
    "def generate_power_set(input_set):\n",
    "    def directed_power_set(to_be_selected, selected_so_far):\n",
    "        if to_be_selected == len(input_set): # reached the end - so append it to the result\n",
    "            power_set.append(list(selected_so_far))\n",
    "            return\n",
    "        directed_power_set(to_be_selected + 1, selected_so_far)\n",
    "        # Generate all subsets that contain input_set[to_be_selected]\n",
    "        directed_power_set(to_be_selected + 1, selected_so_far + [input_set[to_be_selected]])\n",
    "    \n",
    "    power_set = []\n",
    "    directed_power_set(0, [])\n",
    "    return power_set\n",
    "\n",
    "input_set = [0,1,2]\n",
    "print(f'The power set is {generate_power_set(input_set)}')\n",
    "\n",
    "# Another Approach: For a given ordering of the elements of S, there exists a one-to-one correspondence between the 2^n bit arrays of length n and the set of all subsets of S - the 1s in the n-length bit array v indicate the elements of S in the subset corresponding to v. \n",
    "# For example, if S = {a,b,c,d},the bit array (1,0,1,1) denotes the subset {a,c,d}\n",
    "# we can enumerate bit arrays by enumerating integers in [0,(2^n) - 1] and examining the indices of bits set in these integers. \n",
    "# These indices are determined by first isolating the lowest set bit by computing y = x&~(x - 1), and then getting the index by computing log(y).\n",
    "import math\n",
    "# Time Complexity: O(n*2^(n)) since each set takes O(n) time to compute which is reflected by the while loop\n",
    "def generate_power_set_binary(S):\n",
    "    power_set = []\n",
    "    for int_for_subset in range(1 << len(S)): # numeber of subsets = 2^(len(S))=>left shift 1 len(S) times\n",
    "        bit_array = int_for_subset\n",
    "        #print(f'\\nbit array:{bit_array}')\n",
    "        subset = []\n",
    "        while bit_array:\n",
    "            subset.append(S[int(math.log2(bit_array & ~(bit_array-1)))])\n",
    "            bit_array &= bit_array - 1\n",
    "            #print(f'bit array:{bit_array}')\n",
    "        # Sorting and check if subset is already present in power set then add the subset\n",
    "        # This helps use to generate power set even when the input set has duplicates\n",
    "        subset.sort()\n",
    "        if subset not in power_set:\n",
    "            power_set.append(subset)\n",
    "        \n",
    "    return power_set\n",
    "\n",
    "input_set = [0,1,2]\n",
    "print(f'The power set is {generate_power_set_binary(input_set)}')\n",
    "\n",
    "input_set_with_duplicates = [1,2,3,2]\n",
    "print(f'The power set is {generate_power_set_binary(input_set_with_duplicates)} and the total count of power set is {len(generate_power_set_binary(input_set_with_duplicates))}')"
   ]
  },
  {
   "cell_type": "markdown",
   "metadata": {},
   "source": [
    "## 15.5 Generate all subsets of size k"
   ]
  },
  {
   "cell_type": "code",
   "execution_count": 34,
   "metadata": {},
   "outputs": [
    {
     "name": "stdout",
     "output_type": "stream",
     "text": [
      "The subsets of size 2 in array of len 4 are:[[1, 2], [1, 3], [1, 4], [2, 3], [2, 4], [3, 4]]\n"
     ]
    }
   ],
   "source": [
    "# Write a program which computes all size k subsets of {1,,2,...,n}, where k and n are Program inputs. \n",
    "# For example, if k = 2 and n = 5, then the result is the following: {{1, 2}, {1, 3}, {1, 4}, {1, 5}, {2, 3}, {2, 4}, {2, 5}, {3, 4], {3, 5},, {4, 5}}\n",
    "\n",
    "# Brute Force: Compute all subsets then just keep subsets of size k in the result. Time complexity: O(n2^(n)) regardless of k.\n",
    "\n",
    "# Optimized Approach: There are two possibilities for a subset-it does not contain 1, or it does contain 1. \n",
    "# In the firstcase,we return all subsets of size k of {2,3,...,n}; in the second case,wecompute all k-1 sized subsets of {2,3,. . . , n} and add 1 to each of them. \n",
    "# Time Complexity: O(n*(nCk))\n",
    "def combination(n, k):\n",
    "    def directed_combinations(offset, partial_combination):\n",
    "        if len(partial_combination) == k:\n",
    "            result.append(list(partial_combination))\n",
    "            return\n",
    "        \n",
    "        num_remaining = k - len(partial_combination)\n",
    "        i = offset\n",
    "        while i <= n and num_remaining <= n - i + 1:\n",
    "            directed_combinations(i + 1, partial_combination + [i])\n",
    "            i += 1\n",
    "    \n",
    "    result = []\n",
    "    directed_combinations(1, [])\n",
    "    return result\n",
    "\n",
    "n = 4\n",
    "k = 2\n",
    "print(f'The subsets of size {k} in array of len {n} are:{combination(n,k)}')"
   ]
  },
  {
   "cell_type": "markdown",
   "metadata": {},
   "source": [
    "## 15.6 Generate strings of matched parens"
   ]
  },
  {
   "cell_type": "code",
   "execution_count": 5,
   "metadata": {},
   "outputs": [
    {
     "name": "stdout",
     "output_type": "stream",
     "text": [
      "The number of strings with 2 parens are:['(())', '()()']\n"
     ]
    }
   ],
   "source": [
    "# Write a program that takes as input a number and retums all the strings with that number of matched pairs of parens.\n",
    "# Brute Force: enumerate all strings on 2k parenthesis. \n",
    "\n",
    "# Optimized: Instead we can build strings incrementally in a directed fashion.\n",
    "# As a concrete example, if k = 2,we would go through the following sequence of strings: \"\",\"(\", \"((\", \"(()\" , \"(())\", \"()\", \"()(\", \"()()\".of these, \"(())\" and \"()()\" are complete, and we would add them to the result.\n",
    "# There are two possibilitis to add parens:\n",
    "# - if number of left parens needed to be added to the string is greater than 0 => add left paren\n",
    "# - if number of right parens needed to be added to the string is greater than number of left parens needed => add right paren\n",
    "# - if number of right paren == 0 => the string is completed as it got k pairs of parens, so add it to the result.\n",
    "# Number of C(k) strings with k pairs of matched parens  = (2k)!/(k!(k+1)!) - this is also equal to kth catalan number\n",
    "def generate_balanced_parenthesis(num_pairs):\n",
    "    def directed_generate_balanced_parenthesis(num_left_parens_needed, num_right_parens_needed, valid_prefix, result = []):\n",
    "        if num_left_parens_needed > 0: # Add '('\n",
    "            directed_generate_balanced_parenthesis(num_left_parens_needed-1, num_right_parens_needed, valid_prefix + '(')\n",
    "        if num_left_parens_needed < num_right_parens_needed: #Add ')'\n",
    "            directed_generate_balanced_parenthesis(num_left_parens_needed, num_right_parens_needed - 1, valid_prefix + ')')\n",
    "        if not num_right_parens_needed:\n",
    "            result.append(valid_prefix)\n",
    "        return result\n",
    "    \n",
    "    return directed_generate_balanced_parenthesis(num_pairs, num_pairs, '')\n",
    "\n",
    "num_pairs = 2\n",
    "print(f'The number of strings with {num_pairs} parens are:{generate_balanced_parenthesis(num_pairs)}')"
   ]
  },
  {
   "cell_type": "markdown",
   "metadata": {},
   "source": [
    "## 15.7 Generate palindromic decompositions"
   ]
  },
  {
   "cell_type": "code",
   "execution_count": 13,
   "metadata": {},
   "outputs": [
    {
     "name": "stdout",
     "output_type": "stream",
     "text": [
      "The total number of decompositions for n=10 are 12\n",
      "The palindromic decompositions are:[['0', '2', '0', '4', '4', '5', '1', '8', '8', '1'], ['0', '2', '0', '4', '4', '5', '1', '88', '1'], ['0', '2', '0', '4', '4', '5', '1881'], ['0', '2', '0', '44', '5', '1', '8', '8', '1'], ['0', '2', '0', '44', '5', '1', '88', '1'], ['0', '2', '0', '44', '5', '1881'], ['020', '4', '4', '5', '1', '8', '8', '1'], ['020', '4', '4', '5', '1', '88', '1'], ['020', '4', '4', '5', '1881'], ['020', '44', '5', '1', '8', '8', '1'], ['020', '44', '5', '1', '88', '1'], ['020', '44', '5', '1881']]\n"
     ]
    }
   ],
   "source": [
    "# Compute all palindromic decompositions of a given string. For example, if the string is \"0204451881.\", then the decomposition \"020\", \"44\" , \"5\", \"1881\" is palindromic, as is \"020', '44', \"5\" , \"7\" , \"88\" , \"1'.\n",
    "# However, '02044, \"5\", \"1881\" is not a palindromic decomposition.\n",
    "\n",
    "# Brute Force: Compute all decompositions of a string and then decide if the decomposition is palindromic or not. There are 2^(n-1) possibilities of all decompositions(palindromic and not palindromic):\n",
    "# suppose the string is \"020\" then the possibilities are: - 0, 2, 0 (n bit vector: 111)- 02, 0 (n bit vector: 101)- 0, 20 (n bit vector: 110)Total: 2^(n-1)\n",
    "# Every n bit vector corresponds to a unique decomposition - the 1s in the bit vector denote the starting point of a substring\n",
    "\n",
    "# we need a more directed approach where we remove decompositions that do not have a palindromic prefix substrings.\n",
    "# Time Complexity: O(n*2^n) worst case complexity when input string consists of n repetitions of a single character.\n",
    "def palindrome_decompositions(input_str):\n",
    "    def directed_palindromic_decompositions(offset, partial_partition):\n",
    "        if offset == len(input_str):\n",
    "            result.append(partial_partition)\n",
    "            return\n",
    "        \n",
    "        # till offset the palindromic strings are already computed, so try to find the next palindrome from offset + 1\n",
    "        for i in range(offset + 1, len(input_str)+1): # we need i to reach len(input_str) to reach the end so we are using len(input_str) + 1\n",
    "            prefix = input_str[offset:i]\n",
    "            if(prefix == prefix[::-1]): # reversing the prefix and checking if it is a palindrome\n",
    "                directed_palindromic_decompositions(i, partial_partition + [prefix])\n",
    "    \n",
    "    result = []\n",
    "    directed_palindromic_decompositions(0, [])\n",
    "    return result\n",
    "\n",
    "input_str = \"0204451881\"\n",
    "print(f'The total number of decompositions for n={len(input_str)} are {len(palindrome_decompositions(input_str))}')\n",
    "print(f'The palindromic decompositions are:{palindrome_decompositions(input_str)}')"
   ]
  },
  {
   "cell_type": "markdown",
   "metadata": {},
   "source": [
    "## 15.8 Generate binary trees"
   ]
  },
  {
   "cell_type": "code",
   "execution_count": 16,
   "metadata": {},
   "outputs": [
    {
     "name": "stdout",
     "output_type": "stream",
     "text": [
      "The number of binary trees with 3 nodes is 5\n",
      "The number of binary trees with 4 nodes is 14\n"
     ]
    }
   ],
   "source": [
    "# Write a Program which returns all distinct binary trees with a specified number of nodes\n",
    "\n",
    "# Info: Total number of BST with n different keys = nth catalan number = (2n)!/((n+1)!)(n!) = number of unlabelled binary trees with n nodes\n",
    "# Ref: https://www.geeksforgeeks.org/enumeration-of-binary-trees/\n",
    "\n",
    "# Approach: we can get binary trees on n nodes by getting all left subtrees of i nodes, and right subtrees on n-1-i nodes where 0<=i<=n-1.\n",
    "class BTNode:\n",
    "    def __init__(self, data = 0, left = None, right = None):\n",
    "        self.data = data\n",
    "        self.left = left\n",
    "        self.right = right\n",
    "        \n",
    "# Reccurrence : C(n) = sigma(i=1 to n) C(n-i)*C(i-1). C(n) is called the nth catalan number = (2n)!/((n+1)!)(n!)\n",
    "def generate_all_binary_trees(num_nodes):\n",
    "    if num_nodes == 0: # Empty tree, add as a None\n",
    "        return [None]\n",
    "    \n",
    "    result = []\n",
    "    for num_left_tree_nodes in range(0, num_nodes):\n",
    "        num_right_tree_nodes = num_nodes - 1 - num_left_tree_nodes\n",
    "        left_subtrees = generate_all_binary_trees(num_left_tree_nodes)\n",
    "        right_subtrees = generate_all_binary_trees(num_right_tree_nodes)\n",
    "        result += [BTNode(0, left, right) for left in left_subtrees for right in right_subtrees] # Appending diff BTrees to the result\n",
    "    return result\n",
    "\n",
    "num_nodes = 3\n",
    "print(f'The number of binary trees with {num_nodes} nodes is {len(generate_all_binary_trees(num_nodes))}')\n",
    "num_nodes = 4\n",
    "print(f'The number of binary trees with {num_nodes} nodes is {len(generate_all_binary_trees(num_nodes))}')"
   ]
  },
  {
   "cell_type": "markdown",
   "metadata": {},
   "source": [
    "## 15.9 Implement a sudoku solver"
   ]
  },
  {
   "cell_type": "code",
   "execution_count": 22,
   "metadata": {},
   "outputs": [
    {
     "name": "stdout",
     "output_type": "stream",
     "text": [
      "Output:\n",
      "\n",
      "[[3, 1, 6, 5, 7, 8, 4, 9, 2], [5, 2, 9, 1, 3, 4, 7, 6, 8], [4, 8, 7, 6, 2, 9, 5, 3, 1], [2, 6, 3, 4, 1, 5, 9, 8, 7], [9, 7, 4, 8, 6, 3, 1, 2, 5], [8, 5, 1, 7, 9, 2, 6, 4, 3], [1, 3, 8, 9, 4, 7, 2, 5, 6], [6, 9, 2, 3, 5, 1, 8, 7, 4], [7, 4, 5, 2, 8, 6, 3, 1, 9]]\n"
     ]
    }
   ],
   "source": [
    "# Implement a Sudoku solver\n",
    "\n",
    "# Brute Force: Try every possibile assignment to empty entries and check it it works.\n",
    "# But if placing a value leads to constrain there is no point in continuing. So, we should use backtracking.\n",
    "# we can imporve run time complexity by checking the row, col, and subgrid of the added entry - to verify the added entry does not violate any constraints\n",
    "import math\n",
    "def solve_sudoku(partial_assignment):\n",
    "    def solve_partial_sudoku(i,j):\n",
    "        if i == len(partial_assignment):\n",
    "            i = 0 # reached the end of rows so start from first row\n",
    "            j += 1\n",
    "            if j == len(partial_assignment[i]): # all the cells got filled with valid values\n",
    "                return True\n",
    "        \n",
    "        # skip non-empty entries\n",
    "        if partial_assignment[i][j] != EMPTY_ENTRY:\n",
    "            return solve_partial_sudoku(i+1, j)\n",
    "        \n",
    "        def valid_to_add(i,j,val):\n",
    "            # checking row constraints\n",
    "            if any(val == partial_assignment[k][j] for k in range(len(partial_assignment))):\n",
    "                return False\n",
    "            \n",
    "            # checking column constraints\n",
    "            if val in partial_assignment[i]:\n",
    "                return False\n",
    "            \n",
    "            # check subgrid constraints\n",
    "            region_size = int(math.sqrt(len(partial_assignment))) # region size is 3 as out sudoko is 9by9\n",
    "            secTopX, secTopY = region_size * (i // region_size), region_size * (j // region_size) # find top coordinates of the subgrid\n",
    "            if any(val == partial_assignment[r][c] for r in range(secTopX, secTopX+region_size) for c in range(secTopY, secTopY + region_size)):\n",
    "                return False\n",
    "            \n",
    "            # valid to add\n",
    "            return True\n",
    "        \n",
    "        for val in range(1, len(partial_assignment) + 1): # iterate through 1 to 9 values\n",
    "            if  valid_to_add(i,j,val): # check all constraints\n",
    "                partial_assignment[i][j] = val\n",
    "                \n",
    "                if solve_partial_sudoku(i+1, j):\n",
    "                    return True\n",
    "        \n",
    "        partial_assignment[i][j] = EMPTY_ENTRY # did not find correct solution so reset it\n",
    "        return False\n",
    "    \n",
    "    EMPTY_ENTRY = 0\n",
    "    return solve_partial_sudoku(0,0)\n",
    "\n",
    "grid = [ [3, 0, 6, 5, 0, 8, 4, 0, 0], \n",
    "         [5, 2, 0, 0, 0, 0, 0, 0, 0], \n",
    "         [0, 8, 7, 0, 0, 0, 0, 3, 1], \n",
    "         [0, 0, 3, 0, 1, 0, 0, 8, 0], \n",
    "         [9, 0, 0, 8, 6, 3, 0, 0, 5], \n",
    "         [0, 5, 0, 0, 9, 0, 6, 0, 0], \n",
    "         [1, 3, 0, 0, 0, 0, 2, 5, 0], \n",
    "         [0, 0, 0, 0, 0, 0, 0, 7, 4], \n",
    "         [0, 0, 5, 2, 0, 6, 3, 0, 0] ]\n",
    "\n",
    "if(solve_sudoku(grid)):\n",
    "    print('Output:\\n')\n",
    "    print(grid)\n",
    "else:\n",
    "    print('No solution exists')\n",
    "            "
   ]
  },
  {
   "cell_type": "markdown",
   "metadata": {},
   "source": [
    "## 15.10 Compute a gray code"
   ]
  },
  {
   "cell_type": "code",
   "execution_count": 41,
   "metadata": {},
   "outputs": [
    {
     "name": "stdout",
     "output_type": "stream",
     "text": [
      "Does 4 and 7 differ by one position:False\n",
      "Does 4 and 5 differ by one position:True\n",
      "Method1:The gray codes for 4 bits is [0, 1, 3, 2, 6, 7, 5, 4, 12, 13, 15, 14, 10, 11, 9, 8]\n",
      "Method2:The gray codes for 4 bits is [0, 1, 3, 2, 6, 7, 5, 4, 12, 13, 15, 14, 10, 11, 9, 8]\n",
      "Method3:The gray codes for 4 bits is [0, 1, 3, 2, 6, 7, 5, 4, 12, 13, 15, 14, 10, 11, 9, 8]\n"
     ]
    }
   ],
   "source": [
    "# An n-bit Gray code is a permutation of {0,1,2,...,(2^(n) - 1)) such that the binary representations of successive integers in the sequence differ in only one place. (This is with wraparound, i.e., the last and first elements must also differ in only one place.) \n",
    "# For example, both ((000), (100), (101), (111),(110), (010), (011), (001)) - <0,4,5,7,6,2,3,1> and <0,7,3,2,6,7,5,4> are Gray codes for n = 3.\n",
    "\n",
    "# Task: Write a program which takes n as input and returns an n-bit Gray code.\n",
    "# Brute Force: Generation sequences of length 2^n whose entries are of lenght n bit integers and checking if the sequence form a gray code will be of impossible complexity\n",
    "\n",
    "# Approach: we can build entries in the sequence incrementally by changing one bit at a time and checking if the newly formed integer already exists in the seq or not.\n",
    "# For example: for n = 4, start with <0,0,0,0> then change one bit => <0,0,0,1> add it to the seq, again changing one bit we get <0,0,0,0> which is already present in the seq.\n",
    "\n",
    "def differs_by_one_bit(x,y):\n",
    "    # To check if two binary numbers differs just at one position:\n",
    "    # - compute diff = x^y\n",
    "    # - check if diff is a power of 2 or not\n",
    "    bit_difference = x ^ y\n",
    "    return is_power_of_two(bit_difference)\n",
    "\n",
    "def is_power_of_two(x):\n",
    "    return (x and (not(x & (x-1)))) # (x & (not(x & (x-1)))) return 0 or 1\n",
    "\n",
    "x = 4\n",
    "y = 7\n",
    "print(f'Does {x} and {y} differ by one position:{differs_by_one_bit(x,y)}')\n",
    "x = 4\n",
    "y = 5\n",
    "print(f'Does {x} and {y} differ by one position:{differs_by_one_bit(x,y)}')\n",
    "\n",
    "\n",
    "def gray_code(num_bits):\n",
    "    def directed_gray_code(history):\n",
    "        # for n bits, the gray code seq is going to have 2^n entries, so if result already got 2^n entries check first and last and then return\n",
    "        if len(result) == 1 << num_bits:\n",
    "            # check if first and last entries of the result differ by just one position\n",
    "            return differs_by_one_bit(result[0], result[-1])\n",
    "        \n",
    "        for i in range(num_bits):\n",
    "            previous_code = result[-1]\n",
    "            candidate_next_code = previous_code ^ (1 << i)\n",
    "            if candidate_next_code not in history:\n",
    "                history.add(candidate_next_code)\n",
    "                result.append(candidate_next_code)\n",
    "                if directed_gray_code(history):\n",
    "                    return True\n",
    "                history.remove(candidate_next_code)\n",
    "                del result[-1]\n",
    "        return False\n",
    "    \n",
    "    result = [0]\n",
    "    directed_gray_code(set([0]))\n",
    "    return result\n",
    "\n",
    "\n",
    "num_bits = 4\n",
    "print(f'Method1:The gray codes for {num_bits} bits is {gray_code(num_bits)}')\n",
    "\n",
    "# Analytic Approach: n-bit Gray Codes can be generated from list of (n-1)-bit Gray codes using following steps.\n",
    "# 1) Let the list of (n-1)-bit Gray codes be L1. Create another list L2 which is reverse of L1.\n",
    "# 2) Modify the list L1 by prefixing a ‘0’ in all codes of L1.\n",
    "# 3) Modify the list L2 by prefixing a ‘1’ in all codes of L2.\n",
    "# 4) Concatenate L1 and L2. The concatenated list is required list of n-bit Gray codes.\n",
    "def gray_code_analytic(num_bits):\n",
    "    if num_bits == 0:\n",
    "        return [0]\n",
    "    \n",
    "    # Generate gray code forn num_bits - 1\n",
    "    gray_code_num_bits_minus_1 = gray_code_analytic(num_bits - 1)\n",
    "    # Get a number with leading one to append to the reversed num_bits-1 gray code\n",
    "    leading_bit_one = 1 << (num_bits - 1)\n",
    "    # append both lists and return\n",
    "    return gray_code_num_bits_minus_1 + [(leading_bit_one | i) for i in reversed(gray_code_num_bits_minus_1)]\n",
    "\n",
    "num_bits = 4\n",
    "print(f'Method2:The gray codes for {num_bits} bits is {gray_code_analytic(num_bits)}')\n",
    "\n",
    "# Pythoniic solution uses list comprehension:\n",
    "def gray_code_pythonic(num_bits):\n",
    "    result = [0]\n",
    "    for i in range(num_bits):\n",
    "        result += [x + 2**i for x in reversed(result)]\n",
    "    return result\n",
    "num_bits = 4\n",
    "print(f'Method3:The gray codes for {num_bits} bits is {gray_code_analytic(num_bits)}')\n",
    "\n",
    "# Time Complexity: T(n) = T(n-1) + O(2^(n-1)) => O(2^n)"
   ]
  },
  {
   "cell_type": "code",
   "execution_count": null,
   "metadata": {},
   "outputs": [],
   "source": []
  }
 ],
 "metadata": {
  "kernelspec": {
   "display_name": "Python 3",
   "language": "python",
   "name": "python3"
  },
  "language_info": {
   "codemirror_mode": {
    "name": "ipython",
    "version": 3
   },
   "file_extension": ".py",
   "mimetype": "text/x-python",
   "name": "python",
   "nbconvert_exporter": "python",
   "pygments_lexer": "ipython3",
   "version": "3.8.3"
  }
 },
 "nbformat": 4,
 "nbformat_minor": 2
}
