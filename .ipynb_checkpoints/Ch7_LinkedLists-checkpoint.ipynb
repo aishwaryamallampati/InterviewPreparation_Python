{
 "cells": [
  {
   "cell_type": "code",
   "execution_count": 18,
   "metadata": {},
   "outputs": [],
   "source": [
    "# Linked List \n",
    "class ListNode:\n",
    "    def __init__(self, data=0, next_node = None):\n",
    "        self.data = data\n",
    "        self.next = next_node\n",
    "\n",
    "def insert_beginning(head, data):\n",
    "    node = ListNode(data,head)\n",
    "    head = node\n",
    "\n",
    "def insert_after(node, data):\n",
    "    new_node = ListNode(data,node.next)\n",
    "    node.next = new_node\n",
    "    \n",
    "def search(head, key):\n",
    "    while(head and head.data != key):\n",
    "        head = head.next\n",
    "    \n",
    "    return head\n",
    "\n",
    "def delete_after(node):\n",
    "    node.next = node.next.next\n",
    "\n",
    "def print_list(head):\n",
    "    ptr = head\n",
    "    while(ptr):\n",
    "        print(f'{ptr.data}->', end=\" \")\n",
    "        ptr = ptr.next\n",
    "    print('\\n')"
   ]
  },
  {
   "cell_type": "code",
   "execution_count": 23,
   "metadata": {},
   "outputs": [
    {
     "name": "stdout",
     "output_type": "stream",
     "text": [
      "2-> 5-> 7-> \n",
      "\n",
      "3-> 11-> \n",
      "\n",
      "2-> 3-> \n",
      "\n",
      "2-> 3-> 5-> \n",
      "\n",
      "2-> 3-> 5-> 7-> 11-> \n",
      "\n"
     ]
    }
   ],
   "source": [
    "#7.1 Merge two sorted lists\n",
    "L1 = ListNode(2)\n",
    "insert_after(L1, 5)\n",
    "insert_after(L1.next,7)\n",
    "print_list(L1)\n",
    "\n",
    "L2 = ListNode(3)\n",
    "insert_after(L2,11)\n",
    "print_list(L2)\n",
    "\n",
    "head = None\n",
    "curr = None\n",
    "while(L1 != None and L2 != None):\n",
    "    if(L1.data < L2.data):\n",
    "        if(head == None):\n",
    "            head = ListNode(L1.data)\n",
    "            curr = head\n",
    "            L1 = L1.next\n",
    "        else:\n",
    "            insert_after(curr,L1.data)\n",
    "            L1 = L1.next\n",
    "            curr = curr.next\n",
    "    else:\n",
    "        if(head == None):\n",
    "            head = ListNode(L2.data)\n",
    "            curr = head\n",
    "            L2 = L2.next\n",
    "        else:\n",
    "            insert_after(curr,L2.data)\n",
    "            L2 = L2.next\n",
    "            curr = curr.next\n",
    "\n",
    "while(L1):\n",
    "    insert_after(curr,L1.data)\n",
    "    L1 = L1.next\n",
    "    curr = curr.next\n",
    "\n",
    "while(L2):\n",
    "    insert_after(curr,L2.data)\n",
    "    L2 = L2.next\n",
    "    curr = curr.next\n",
    "        \n",
    "print_list(head)\n",
    "    \n"
   ]
  },
  {
   "cell_type": "code",
   "execution_count": null,
   "metadata": {},
   "outputs": [],
   "source": []
  }
 ],
 "metadata": {
  "kernelspec": {
   "display_name": "Python 3",
   "language": "python",
   "name": "python3"
  },
  "language_info": {
   "codemirror_mode": {
    "name": "ipython",
    "version": 3
   },
   "file_extension": ".py",
   "mimetype": "text/x-python",
   "name": "python",
   "nbconvert_exporter": "python",
   "pygments_lexer": "ipython3",
   "version": "3.7.4"
  }
 },
 "nbformat": 4,
 "nbformat_minor": 2
}
