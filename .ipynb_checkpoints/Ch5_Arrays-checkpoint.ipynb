{
 "cells": [
  {
   "cell_type": "markdown",
   "metadata": {},
   "source": [
    "# CH5 Arrays"
   ]
  },
  {
   "cell_type": "code",
   "execution_count": 2,
   "metadata": {},
   "outputs": [],
   "source": [
    "# Some important notes:\n",
    "# Insertion - resize array and copy elements - time complexity is constant if resizing is infrequent\n",
    "# Deletion - move all the elements left to fill empty space - time complexity:O(n-i) same for inserting new element\n",
    "# When working with arrays, take advantage of the fact that you can operate efficiently on both ends.\n",
    "# Space complexity of brute force array problems will be O(N) but some subtler solutions take O(1)\n",
    "# Filling an array from front is slow - write values from the back.\n",
    "# Instead of deleting an entry consider overwriting\n",
    "# When dealing with integers encoded in an array, reverse the array so that least-significan digit is the first entry\n",
    "# When operating on 2D arrays, use parallel logic for rows and for columns\n",
    "# Sometimes simulating the specification is better than analytically solve for the result.\n",
    "\n",
    "# Python array libraries:\n",
    "# - array can be implemented using list which can be instantiated as [3,5,7], [1] + [0] * 10, list(range(100))\n",
    "# - basic operations: len(A), A.append(42), A.remove(2), A.insert(3,28)\n",
    "# - checking if a value is present in array: a in A - Time Complexity:O(N)\n",
    "# - Difference between B=A, B = list(A), copy.copy(A), copy.deepcopy(A). Ref: https://www.youtube.com/watch?v=naG4uXpmVAU\n",
    "# -- B=A => both points to the same address\n",
    "# -- B = list(A) => both lists point to different address\n",
    "# -- B = copy.copy(A) = A[:] is shallow copy. Shallow copy creates a copy of the object but references each element of the object\n",
    "# -- B = copy.deepcopy(A) No references bw them. Deep copy creates a copy of the obj and the elements of the obj\n",
    "# Key methods for list:\n",
    "# -- min(A), max(A), \n",
    "# -- binary search for sorted list: bisect.bisect(A, 6), bisect.bisect_left(A, 6), bisect.bisect_right(A,6)\n",
    "# -- A.reverse(in-place), reversed(A), A.sort()inplace, sorted(A)\n",
    "# -- del A[i] deletes the ith element and del A[i:j] removes the slice\n",
    "# -- rotating array by k using slicing: A[k:] + A[:k] rotates A by k to the left\n",
    "# List Comprehension: list = [x**2 for x in range(5)]"
   ]
  },
  {
   "cell_type": "code",
   "execution_count": 3,
   "metadata": {},
   "outputs": [
    {
     "name": "stdout",
     "output_type": "stream",
     "text": [
      "array('i', [6, 2, 4, 5, 3, 1])\n"
     ]
    }
   ],
   "source": [
    "# Task: Reorder elements so that even entries appear first \n",
    "# Ex: Input = 1,2,3,4,5,6 Output = 2,4,6,1,3,5\n",
    "\n",
    "import array\n",
    "\n",
    "# Time Complexity: O(N) Space Complexity:O(1)\n",
    "def even_odd(arr):\n",
    "    even_ptr = 0\n",
    "    odd_ptr = len(arr) - 1\n",
    "    \n",
    "    while even_ptr < odd_ptr:\n",
    "        if(arr[even_ptr] % 2 == 0):\n",
    "            even_ptr += 1\n",
    "        else:\n",
    "            arr[even_ptr], arr[odd_ptr] = arr[odd_ptr], arr[even_ptr]\n",
    "            odd_ptr -= 1\n",
    "\n",
    "arr = array.array('i',[1,2,3,4,5,6])\n",
    "even_odd(arr)\n",
    "print(arr) # Python always passes variables by reference so no need to return it.\n"
   ]
  },
  {
   "cell_type": "code",
   "execution_count": 4,
   "metadata": {},
   "outputs": [
    {
     "name": "stdout",
     "output_type": "stream",
     "text": [
      "array('i', [1, 2, 3, 4, 5, 6])\n",
      "[1, 2, 3, 4, 5, 6]\n",
      "array('i', [10, 2, 3, 4, 5, 6])\n",
      "[1, 2, 3, 4, 5, 6]\n",
      "a=[[3, 2], [2, 4]]\n",
      "b=[[3, 2], [2, 4]]\n"
     ]
    }
   ],
   "source": [
    "# Difference between B = A and B = list(A)\n",
    "arr = array.array('i',[1,2,3,4,5,6])\n",
    "B = arr # Assignement - both B and arr point to the same memory address, a new copy is not created\n",
    "C = list(arr) # New item pointing to a different address is created with the elements fo arr\n",
    "print(B)\n",
    "print(C)\n",
    "arr[0] = 10\n",
    "print(B)\n",
    "print(C)\n",
    "\n",
    "a = [[1,2], [2,4]]\n",
    "b = list(a) # list(arr) is equivalent to shallow copy\n",
    "b[0][0] = 3\n",
    "print(f'a={a}')\n",
    "print(f'b={b}')"
   ]
  },
  {
   "cell_type": "code",
   "execution_count": 6,
   "metadata": {},
   "outputs": [
    {
     "name": "stdout",
     "output_type": "stream",
     "text": [
      "SHALLOW COPY\n",
      "[[1, 2], [2, 4]]\n",
      "[[1, 2], [2, 4]]\n",
      "After adding 3 to first list\n",
      "[[1, 2, 3], [2, 4]]\n",
      "[[1, 2, 3], [2, 4]]\n",
      "After appending new list to b\n",
      "[[1, 2, 3], [2, 4], [5, 6, 7]]\n",
      "[[1, 2, 3], [2, 4]]\n",
      "\n",
      "DEEP COPY\n",
      "[[1, 2, 3], [2, 4]]\n",
      "[[1, 2, 3], [2, 4]]\n",
      "After adding 3 to first list\n",
      "[[1, 2, 3, 3], [2, 4]]\n",
      "[[1, 2, 3], [2, 4]]\n"
     ]
    }
   ],
   "source": [
    "# Difference between shallowcopy and deep copy \n",
    "# Ref: https://medium.com/@thawsitt/assignment-vs-shallow-copy-vs-deep-copy-in-python-f70c2f0ebd86\n",
    "\n",
    "# Shallow Copy\n",
    "print('SHALLOW COPY')\n",
    "a = [[1,2], [2,4]]\n",
    "b = a[:] # we can also use copy.copy(a)\n",
    "\n",
    "print(a)\n",
    "print(b)\n",
    "\n",
    "print('After adding 3 to first list')\n",
    "b[0].append(3)\n",
    "print(b)\n",
    "print(a)\n",
    "\n",
    "print('After appending new list to b')\n",
    "b.append([5,6,7])\n",
    "print(b)\n",
    "print(a)\n",
    "\n",
    "# Deep Copy\n",
    "import copy\n",
    "print('\\nDEEP COPY')\n",
    "c = copy.deepcopy(a)\n",
    "print(a)\n",
    "print(c)\n",
    "print('After adding 3 to first list')\n",
    "c[0].append(3)\n",
    "print(c)\n",
    "print(a)"
   ]
  },
  {
   "cell_type": "markdown",
   "metadata": {},
   "source": [
    "## 5.1 Dutch National Flag"
   ]
  },
  {
   "cell_type": "code",
   "execution_count": 12,
   "metadata": {},
   "outputs": [
    {
     "name": "stdout",
     "output_type": "stream",
     "text": [
      "[0, 0, 1, 1, 2, 2]\n"
     ]
    }
   ],
   "source": [
    "# Task: Write a program that takes an array A and an index i into A, and rearranges the elements such\n",
    "# that all elements less than A[r] (the \"pivot\") appear first, followed by elements equal to the pivot,\n",
    "# followed by elements greater than the pivot\n",
    "\n",
    "import array\n",
    "# Time Complexity: O(N) Space Complextiy: O(1)\n",
    "def partition(arr, pv):\n",
    "    left = 0\n",
    "    middle = 0\n",
    "    right = len(arr) - 1\n",
    "    \n",
    "    while middle <= right:\n",
    "        if arr[middle] > pv:\n",
    "            arr[middle], arr[right] = arr[right], arr[middle]\n",
    "            right -= 1\n",
    "        elif arr[middle] < pv:\n",
    "            arr[middle], arr[left] = arr[left], arr[middle]\n",
    "            left += 1\n",
    "            middle += 1\n",
    "        else:\n",
    "            middle += 1\n",
    "\n",
    "arr = [2,0,2,1,1,0]\n",
    "partition(arr, 1)\n",
    "print(arr)"
   ]
  },
  {
   "cell_type": "code",
   "execution_count": 17,
   "metadata": {},
   "outputs": [
    {
     "name": "stdout",
     "output_type": "stream",
     "text": [
      "[0, 0, 1, 1, 2, 2]\n"
     ]
    }
   ],
   "source": [
    "# Variant1: Assuming that keys take one of three values, reorder the array so that all objects with the\n",
    "# same key appear together. The order of the subarrays is not important\n",
    "\n",
    "# Let the elements of the array be 0,1,2. left:all 0s middle:1s and right:all 2s.\n",
    "# Call the above function with pv 1.\n",
    "def dutch_var1(arr):\n",
    "    partition(arr, 1)\n",
    "    return \n",
    "arr = [2,0,2,1,1,0]\n",
    "dutch_var1(arr)\n",
    "print(arr)"
   ]
  },
  {
   "cell_type": "code",
   "execution_count": 19,
   "metadata": {},
   "outputs": [
    {
     "name": "stdout",
     "output_type": "stream",
     "text": [
      "[0, 0, 0, 0, 1, 1, 1, 2, 2, 2, 2, 3, 3, 3, 3]\n"
     ]
    }
   ],
   "source": [
    "# Variant: Given an array A of n objects with keys that takes one of four values, reorder the array so\n",
    "# that all objects that have the same key appear together\n",
    "\n",
    "# Let the elements be 0,1,2,3\n",
    "def dutch_var2(arr):\n",
    "    partition(arr,1)\n",
    "    partition(arr,2)\n",
    "\n",
    "arr=[0,2,1,3,2,2,2,1,1,0,3,0,3,0,3]\n",
    "dutch_var2(arr)\n",
    "print(arr)"
   ]
  },
  {
   "cell_type": "code",
   "execution_count": 21,
   "metadata": {},
   "outputs": [
    {
     "name": "stdout",
     "output_type": "stream",
     "text": [
      "[False, False, False, False, False, True, True, True, True, True]\n"
     ]
    }
   ],
   "source": [
    "# Variant: Given an array A of n objects with Boolean-valued keys, reorder the array so that objects\n",
    "# that have the key false appear first. Use O(1) additional space and O(n) time.\n",
    "\n",
    "# The elements are true and false. so left - all false elements and right true\n",
    "def dutch_var3(arr):\n",
    "    arr[:] = [-1 if x == False else 1 for x in arr]\n",
    "    partition(arr,0)\n",
    "    arr[:] = [False if x == -1 else True for x in arr]\n",
    "    \n",
    "arr = [True, False, False, False, True, True, False, True, False, True]\n",
    "dutch_var3(arr)\n",
    "print(arr)"
   ]
  },
  {
   "cell_type": "code",
   "execution_count": 30,
   "metadata": {},
   "outputs": [
    {
     "name": "stdout",
     "output_type": "stream",
     "text": [
      "9\n",
      "True\n",
      "[True, False, False, False, True, True, False, True, False, True]\n",
      "[4, 1, 2, 3, 5, 7, 6, 9, 8, 0]\n"
     ]
    }
   ],
   "source": [
    "# TODO - Incomplete\n",
    "# Variant: Given em array A of n objects with Boolean-valued keys, reorder the array so that objects\n",
    "# that have the key false appear first. The relative ordering of objects with key true should not change.\n",
    "def dutch_var4(arr):\n",
    "    ind = [i for i in range(0, len(arr))]\n",
    "    last_true = len(arr) -1\n",
    "    i = len(arr) - 1\n",
    "    print(i)\n",
    "    print(arr[i])\n",
    "    while i >= 0:\n",
    "        if(arr[i]):\n",
    "            arr[--last_true], arr[i] = arr[i], arr[--last_true]\n",
    "            ind[--last_true], ind[i] = ind[i], ind[--last_true]\n",
    "        i = i - 1\n",
    "    print(arr)\n",
    "    print(ind)\n",
    "    \n",
    "arr = [True, False, False, False, True, True, False, True, False, True]\n",
    "dutch_var4(arr)\n"
   ]
  },
  {
   "cell_type": "markdown",
   "metadata": {},
   "source": [
    "## 5.11 Compute the next permutation"
   ]
  },
  {
   "cell_type": "code",
   "execution_count": 8,
   "metadata": {},
   "outputs": [
    {
     "name": "stdout",
     "output_type": "stream",
     "text": [
      "The next permutation is [6, 2, 3, 0, 1, 4, 5]\n",
      "The 4th permutation is [5, 7, 3]\n",
      "The previous permutation of [7, 5, 3] is [7, 3, 5]\n",
      "The previous permutation of [6, 2, 3, 0, 1, 4, 5] is [6, 2, 1, 5, 4, 3, 0]\n"
     ]
    }
   ],
   "source": [
    "# Given n distinct elements we have n! permutations. These can be totally ordered using dictionary ordering i.e. if input is <0,2,1>\n",
    "# then <0,1,2> is the smallest ordering and <2,1,0> is the largest in the dictionary.\n",
    "\n",
    "# Write a program that takes as input a permutation, and returns the next permutation under dictionary ordering. If the permutation is the last permutation, return the empty array. \n",
    "# For example, if the input is (1,0,3,2) your function should retum <1,2,0,3>. If the input is (3,2,1,0), return <>.\n",
    "\n",
    "# Brute Force: Find all permutations of the input array -> sort them in dictionary order and then find the successor of the given permutation\n",
    "\n",
    "# Optimized Algo: The general algorithm for computing the next permutation is as follows: (understand the algo with ex permutation p = [6,2,1,5,4,3,0])\n",
    "# (1.) Find k such that p[k] < p[k + 1] and entries after index k appear in decreasing order. (here p[k] = 1 as <5,4,3,0> form a decreasing seq)\n",
    "# (2.) Find the smallest p[l] such that p[l] > p[k] (such an l must exist since p[k] < p[k + 1]). (here p[l] = 3 which is first greater value than p[k]=1 in <5,4,3,0>)\n",
    "# (3.) Swap p[l] and p[k] (note that the sequence after position k remains in decreasing order). (replace so p = <6,2,3,5,4,1,0>)\n",
    "# (4.) Reverse the sequence after position k.(reverse decreasing seq => p = <6,2,3,0,1,4,5>)\n",
    "# Time Complexity: O(N) Space Complexity: O(1)\n",
    "def next_permutation(perm):\n",
    "    # Find the first element which is less than the element right to it\n",
    "    inversion_point = len(perm) - 2\n",
    "    while(inversion_point >= 0 and perm[inversion_point] >= perm[inversion_point + 1]):\n",
    "        inversion_point -= 1\n",
    "    if inversion_point == -1:\n",
    "        return [] # perm is the last permutation\n",
    "    \n",
    "    # swap (perform step2)\n",
    "    for i in reversed(range(inversion_point + 1, len(perm))):\n",
    "        if perm[i] > perm[inversion_point]:\n",
    "            perm[i], perm[inversion_point] = perm[inversion_point], perm[i] # swap\n",
    "            break\n",
    "    perm[inversion_point + 1 :] = reversed(perm[inversion_point + 1 :]) # reverse to convert into increasing order\n",
    "    return perm\n",
    "\n",
    "perm = [6,2,1,5,4,3,0]\n",
    "print(f'The next permutation is {next_permutation(perm)}')\n",
    "\n",
    "# variant: compute kth permutation given identity permutation i.e. first permutation in the dictionary ordering\n",
    "def compute_kth_perm(perm, k):\n",
    "    for _ in range(2,k+1):\n",
    "        perm = next_permutation(perm)\n",
    "    return perm\n",
    "\n",
    "first_permutation = [3,5,7] # All possibilities: [3,5,7], [3,7,5], [5,3,7], [5,7,3], [7,3,5], [7,5,3]\n",
    "print(f'The 4th permutation is {compute_kth_perm(first_permutation, 4)}')\n",
    "\n",
    "# variant:  Given a permutation p, return the permutation corresponding to the previous permutation of p under dictionary ordering.\n",
    "# Logic: Just reverse the logic of next permutation\n",
    "def previous_permutation(perm):\n",
    "    # Find the first element which is greater than the element right to it\n",
    "    inversion_point = len(perm) - 2\n",
    "    while(inversion_point >= 0 and perm[inversion_point] <= perm[inversion_point + 1]):\n",
    "        inversion_point -= 1\n",
    "    if inversion_point == -1:\n",
    "        return [] # perm is the first permutation\n",
    "    \n",
    "    # swap (perform step2)\n",
    "    for i in reversed(range(inversion_point + 1, len(perm))):\n",
    "        if perm[i] < perm[inversion_point]:\n",
    "            perm[i], perm[inversion_point] = perm[inversion_point], perm[i] # swap with first element greater than perm[inversion_point] in the increasing seq\n",
    "            break\n",
    "    perm[inversion_point + 1 :] = reversed(perm[inversion_point + 1 :]) # reverse to convert into decreasing order\n",
    "    return perm\n",
    "\n",
    "perm = [7,5,3]\n",
    "print(f'The previous permutation of {perm} is {previous_permutation(perm)}')\n",
    "perm = [6, 2, 3, 0, 1, 4, 5]\n",
    "print(f'The previous permutation of {perm} is {previous_permutation(perm)}')"
   ]
  },
  {
   "cell_type": "code",
   "execution_count": null,
   "metadata": {},
   "outputs": [],
   "source": []
  }
 ],
 "metadata": {
  "kernelspec": {
   "display_name": "Python 3",
   "language": "python",
   "name": "python3"
  },
  "language_info": {
   "codemirror_mode": {
    "name": "ipython",
    "version": 3
   },
   "file_extension": ".py",
   "mimetype": "text/x-python",
   "name": "python",
   "nbconvert_exporter": "python",
   "pygments_lexer": "ipython3",
   "version": "3.8.3"
  }
 },
 "nbformat": 4,
 "nbformat_minor": 2
}
