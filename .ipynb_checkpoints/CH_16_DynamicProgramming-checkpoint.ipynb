{
 "cells": [
  {
   "cell_type": "markdown",
   "metadata": {},
   "source": [
    "# CH16 Dynamic Programming"
   ]
  },
  {
   "cell_type": "code",
   "execution_count": 1,
   "metadata": {},
   "outputs": [],
   "source": [
    "# Some important notes:\n",
    "# DP is a general technique for solving optimization, search, and counting problems that can be decomposed into subproblems.\n",
    "# what makes DP different is that the same subproblem may reoccur. Therefore, a key to making DP efficient is caching the results of intermediate computations\n",
    "# The key to solving a DP problem efficiently is finding a way to break the problem into subproblems such that:\n",
    "# - the original problem can be solved relatively easily once solutions to the subproblems are available, and\n",
    "# - these subproblem solutions are cached.\n",
    "# Top tips for DP:\n",
    "# - Use DP whenever we have to make choices to arrive at the solution. Specifically, when you construct solution to the given instance from solutions to subinstances of smaller problems of the same kind.\n",
    "# - Apart from optimization problems, DP is also applicable to counting and decision problems\n",
    "# - Although conceptually DP involves recursion, often for efficiency the cache is built \"bottom up\", i.e., iteratively. \n",
    "# -- when DP is implemented recursively, the cache data structure is hash table or BST\n",
    "# -- when DP is implemented iteratively, the cache data structure is one or multi-dimensional array\n",
    "# - DP is based on combining solutions to subproblems to yield a solution to the original problem which might not work for all problems"
   ]
  },
  {
   "cell_type": "markdown",
   "metadata": {},
   "source": [
    "### Fibonacci Series"
   ]
  },
  {
   "cell_type": "code",
   "execution_count": 9,
   "metadata": {},
   "outputs": [
    {
     "name": "stdout",
     "output_type": "stream",
     "text": [
      "13\n",
      "13\n"
     ]
    }
   ],
   "source": [
    "# Fibonacci Series Time Complexity: O(N) Space Complexity: O(N)\n",
    "def fibonacci(n, cache = {}):\n",
    "    if n <= 1:\n",
    "        return n\n",
    "    elif n not in cache.keys():\n",
    "        cache[n] = fibonacci(n-1) + fibonacci(n-2)\n",
    "    return cache[n]\n",
    "\n",
    "print(fibonacci(7))\n",
    "\n",
    "# Time Complexity: O(N) Space Complexity: O(1)\n",
    "def fibonacci_space_opt(n):\n",
    "    if n <= 1:\n",
    "        return n\n",
    "    \n",
    "    f_minus_2, f_minus_1 = 0, 1\n",
    "    for _ in range(1, n):\n",
    "        f = f_minus_2 + f_minus_1\n",
    "        f_minus_2, f_minus_1 = f_minus_1, f\n",
    "    return f_minus_1 # as f is stored in f_minus_1 in the last step\n",
    "\n",
    "print(fibonacci_space_opt(7))"
   ]
  },
  {
   "cell_type": "markdown",
   "metadata": {},
   "source": [
    "### Maximum sum over all subarrays"
   ]
  },
  {
   "cell_type": "code",
   "execution_count": 13,
   "metadata": {},
   "outputs": [
    {
     "name": "stdout",
     "output_type": "stream",
     "text": [
      "Brute Force:\n",
      "The max sum is 1479\n",
      "The max sum is 7\n",
      "\n",
      "Brute Force Optimized:\n",
      "The max sum is 1479\n",
      "The max sum is 7\n",
      "\n",
      "Divide and Conquer:\n",
      "The max sum is 1479\n",
      "The max sum is 7\n",
      "\n",
      "Kadanes Algorithm DP:\n",
      "Found maximum sum between 0 and 3 and the maximum sum is 1479\n",
      "Found maximum sum between 2 and 6 and the maximum sum is 7\n"
     ]
    }
   ],
   "source": [
    "# Task: Find the maximum sum over all subarrays of a given array of integer. The array can have positive and negative integers.\n",
    "# we need to find continous elements with maximum sum. \n",
    "# - If all the elements of the array are positive => max_sum = sum of all elements of the array\n",
    "# - If all the elements of the array are negative => max_sum = max element of the array\n",
    "\n",
    "# Brute Force: we can form all sub arrays and find each sum and then find max using two for loops. First, subarrays of size 1 then subarrays of size 2 etc.\n",
    "# Total number of subarrays: ((n*(n+1))/2) and time to compute sum of each subarray is O(n)=>Time Complexity:O(n^3)\n",
    "def max_sum_subarray_brute_force(a):\n",
    "    ans = float('-inf')\n",
    "    \n",
    "    for sub_array_size in range(1,len(a) + 1):\n",
    "        for start_index in range(0, len(a)):\n",
    "            if (start_index + sub_array_size) > len(a): # subarray exceeds array bounds\n",
    "                break\n",
    "            sum_val = 0\n",
    "            for i in range(start_index, start_index + sub_array_size):\n",
    "                sum_val += a[i]\n",
    "            ans = max(ans, sum_val)\n",
    "    return ans\n",
    "print(f'Brute Force:')\n",
    "a = [904, 40, 523, 12, -335, -385, -124, 481, -31]\n",
    "print(f'The max sum is {max_sum_subarray_brute_force(a)}')\n",
    "a = [-2, -5, 6, -2, -3, 1, 5, -6]\n",
    "print(f'The max sum is {max_sum_subarray_brute_force(a)}')\n",
    "\n",
    "# Brute force algo can be improved by first computing S[k]=sigma(A[0,k]) for all k. Then sum for A[i,j] is then S[j] - S[i-1]. Time complexity can be reduced to O(n^2) in this method.\n",
    "def max_sum_subarray_brute_force_opt(a):\n",
    "    ans = float('-inf')\n",
    "    sum_till_i = []\n",
    "    sum_till_i[0] = a[0]\n",
    "    for i in range(1, len(a)): # sub array sum till k is computed\n",
    "        sum_till_i[i] += sum_till_i[i-1] + a[i]\n",
    "    \n",
    "    # Generating all sub arrays and finding their sum\n",
    "    for sub_array_size in range(1, len(a) + 1):\n",
    "        for start_index in range(0, len(a)):\n",
    "            if start_index + sub_array_size > len(a):\n",
    "                break\n",
    "            end_index = start_index + sub_array_size - 1\n",
    "            sum_val = sum_till_i[end_index] - sum_till_i[start_index-1]\n",
    "            ans = max(ans, sum_val)\n",
    "    return ans\n",
    "print(f'\\nBrute Force Optimized:')\n",
    "a = [904, 40, 523, 12, -335, -385, -124, 481, -31]\n",
    "print(f'The max sum is {max_sum_subarray_brute_force(a)}')\n",
    "a = [-2, -5, 6, -2, -3, 1, 5, -6]\n",
    "print(f'The max sum is {max_sum_subarray_brute_force(a)}')\n",
    "\n",
    "# Divide and conquer: The approach is similar to quick sort. Split array into two halves => compute max sum in left and right=> max subarray sum is going to be max(l+r)\n",
    "# Time Complexity: O(nlogn)\n",
    "def max_sum_subarray_divide_and_conquer(a):\n",
    "    def max_sum_subarray_divide_and_conquer_helper(a, start, end):\n",
    "        if start == end:\n",
    "            return a[start]\n",
    "        \n",
    "        m = (start + ((end - start)//2))\n",
    "        sum_l = max_sum_subarray_divide_and_conquer_helper(a, 0, m)\n",
    "        sum_r = max_sum_subarray_divide_and_conquer_helper(a, m+1, end)\n",
    "        ans = max(ans, sum_l + sum_r)\n",
    "        return ans\n",
    "    \n",
    "    return max_sum_subarray_divide_and_conquer_helper(a, 0, (len(a) - 1))\n",
    "\n",
    "print(f'\\nDivide and Conquer:')\n",
    "a = [904, 40, 523, 12, -335, -385, -124, 481, -31]\n",
    "print(f'The max sum is {max_sum_subarray_brute_force(a)}')\n",
    "a = [-2, -5, 6, -2, -3, 1, 5, -6]\n",
    "print(f'The max sum is {max_sum_subarray_brute_force(a)}')\n",
    "\n",
    "# Kadane's Algorithm: The approach uses dynamic programming and its time complexity is O(n) and space complxity is O(1).\n",
    "# Ref: https://www.baeldung.com/java-maximum-subarray\n",
    "# Formula: maximumSubArraySum[i] = maximumSubArraySum[i-1] + arr[i] if arr[i] < maximumSubArraySum[i-1] + arr[i] else maximumSubArraySum[i] = arr[i]\n",
    "def max_sum_subarray_DP(a):\n",
    "    max_so_far = float('-inf')\n",
    "    max_ending_here = float('-inf')\n",
    "    for i in range(0, len(a)):\n",
    "        if a[i] > max_ending_here + a[i]: # starting a new sub array\n",
    "            start = i\n",
    "            max_ending_here = a[i]\n",
    "        else:\n",
    "            max_ending_here = max_ending_here + a[i] # adding element to the earlier sub array\n",
    "        \n",
    "        if max_so_far < max_ending_here: # updating global maximum\n",
    "            max_so_far = max_ending_here\n",
    "            end = i\n",
    "    print(f'Found maximum sum between {start} and {end} and the maximum sum is {max_so_far}')\n",
    "    return\n",
    "print(f'\\nKadanes Algorithm DP:')\n",
    "a = [904, 40, 523, 12, -335, -385, -124, 481, -31]\n",
    "max_sum_subarray_DP(a)\n",
    "a = [-2, -5, 6, -2, -3, 1, 5, -6]\n",
    "max_sum_subarray_DP(a)"
   ]
  },
  {
   "cell_type": "markdown",
   "metadata": {},
   "source": [
    "## 16.1 Count the numeber of score combinations"
   ]
  },
  {
   "cell_type": "code",
   "execution_count": 20,
   "metadata": {
    "scrolled": true
   },
   "outputs": [
    {
     "name": "stdout",
     "output_type": "stream",
     "text": [
      "The total number of possible combinations are 4\n",
      "i = 0 j = 2 table:[1, 0, 0, 0, 0, 0, 0, 0, 0, 0, 0, 0, 0]\n",
      "i = 0 j = 2 table:[1, 0, 1, 0, 0, 0, 0, 0, 0, 0, 0, 0, 0]\n",
      "i = 0 j = 3 table:[1, 0, 1, 0, 0, 0, 0, 0, 0, 0, 0, 0, 0]\n",
      "i = 0 j = 3 table:[1, 0, 1, 0, 0, 0, 0, 0, 0, 0, 0, 0, 0]\n",
      "i = 0 j = 4 table:[1, 0, 1, 0, 0, 0, 0, 0, 0, 0, 0, 0, 0]\n",
      "i = 0 j = 4 table:[1, 0, 1, 0, 1, 0, 0, 0, 0, 0, 0, 0, 0]\n",
      "i = 0 j = 5 table:[1, 0, 1, 0, 1, 0, 0, 0, 0, 0, 0, 0, 0]\n",
      "i = 0 j = 5 table:[1, 0, 1, 0, 1, 0, 0, 0, 0, 0, 0, 0, 0]\n",
      "i = 0 j = 6 table:[1, 0, 1, 0, 1, 0, 0, 0, 0, 0, 0, 0, 0]\n",
      "i = 0 j = 6 table:[1, 0, 1, 0, 1, 0, 1, 0, 0, 0, 0, 0, 0]\n",
      "i = 0 j = 7 table:[1, 0, 1, 0, 1, 0, 1, 0, 0, 0, 0, 0, 0]\n",
      "i = 0 j = 7 table:[1, 0, 1, 0, 1, 0, 1, 0, 0, 0, 0, 0, 0]\n",
      "i = 0 j = 8 table:[1, 0, 1, 0, 1, 0, 1, 0, 0, 0, 0, 0, 0]\n",
      "i = 0 j = 8 table:[1, 0, 1, 0, 1, 0, 1, 0, 1, 0, 0, 0, 0]\n",
      "i = 0 j = 9 table:[1, 0, 1, 0, 1, 0, 1, 0, 1, 0, 0, 0, 0]\n",
      "i = 0 j = 9 table:[1, 0, 1, 0, 1, 0, 1, 0, 1, 0, 0, 0, 0]\n",
      "i = 0 j = 10 table:[1, 0, 1, 0, 1, 0, 1, 0, 1, 0, 0, 0, 0]\n",
      "i = 0 j = 10 table:[1, 0, 1, 0, 1, 0, 1, 0, 1, 0, 1, 0, 0]\n",
      "i = 0 j = 11 table:[1, 0, 1, 0, 1, 0, 1, 0, 1, 0, 1, 0, 0]\n",
      "i = 0 j = 11 table:[1, 0, 1, 0, 1, 0, 1, 0, 1, 0, 1, 0, 0]\n",
      "i = 0 j = 12 table:[1, 0, 1, 0, 1, 0, 1, 0, 1, 0, 1, 0, 0]\n",
      "i = 0 j = 12 table:[1, 0, 1, 0, 1, 0, 1, 0, 1, 0, 1, 0, 1]\n",
      "i = 1 j = 3 table:[1, 0, 1, 0, 1, 0, 1, 0, 1, 0, 1, 0, 1]\n",
      "i = 1 j = 3 table:[1, 0, 1, 1, 1, 0, 1, 0, 1, 0, 1, 0, 1]\n",
      "i = 1 j = 4 table:[1, 0, 1, 1, 1, 0, 1, 0, 1, 0, 1, 0, 1]\n",
      "i = 1 j = 4 table:[1, 0, 1, 1, 1, 0, 1, 0, 1, 0, 1, 0, 1]\n",
      "i = 1 j = 5 table:[1, 0, 1, 1, 1, 0, 1, 0, 1, 0, 1, 0, 1]\n",
      "i = 1 j = 5 table:[1, 0, 1, 1, 1, 1, 1, 0, 1, 0, 1, 0, 1]\n",
      "i = 1 j = 6 table:[1, 0, 1, 1, 1, 1, 1, 0, 1, 0, 1, 0, 1]\n",
      "i = 1 j = 6 table:[1, 0, 1, 1, 1, 1, 2, 0, 1, 0, 1, 0, 1]\n",
      "i = 1 j = 7 table:[1, 0, 1, 1, 1, 1, 2, 0, 1, 0, 1, 0, 1]\n",
      "i = 1 j = 7 table:[1, 0, 1, 1, 1, 1, 2, 1, 1, 0, 1, 0, 1]\n",
      "i = 1 j = 8 table:[1, 0, 1, 1, 1, 1, 2, 1, 1, 0, 1, 0, 1]\n",
      "i = 1 j = 8 table:[1, 0, 1, 1, 1, 1, 2, 1, 2, 0, 1, 0, 1]\n",
      "i = 1 j = 9 table:[1, 0, 1, 1, 1, 1, 2, 1, 2, 0, 1, 0, 1]\n",
      "i = 1 j = 9 table:[1, 0, 1, 1, 1, 1, 2, 1, 2, 2, 1, 0, 1]\n",
      "i = 1 j = 10 table:[1, 0, 1, 1, 1, 1, 2, 1, 2, 2, 1, 0, 1]\n",
      "i = 1 j = 10 table:[1, 0, 1, 1, 1, 1, 2, 1, 2, 2, 2, 0, 1]\n",
      "i = 1 j = 11 table:[1, 0, 1, 1, 1, 1, 2, 1, 2, 2, 2, 0, 1]\n",
      "i = 1 j = 11 table:[1, 0, 1, 1, 1, 1, 2, 1, 2, 2, 2, 2, 1]\n",
      "i = 1 j = 12 table:[1, 0, 1, 1, 1, 1, 2, 1, 2, 2, 2, 2, 1]\n",
      "i = 1 j = 12 table:[1, 0, 1, 1, 1, 1, 2, 1, 2, 2, 2, 2, 3]\n",
      "i = 2 j = 7 table:[1, 0, 1, 1, 1, 1, 2, 1, 2, 2, 2, 2, 3]\n",
      "i = 2 j = 7 table:[1, 0, 1, 1, 1, 1, 2, 2, 2, 2, 2, 2, 3]\n",
      "i = 2 j = 8 table:[1, 0, 1, 1, 1, 1, 2, 2, 2, 2, 2, 2, 3]\n",
      "i = 2 j = 8 table:[1, 0, 1, 1, 1, 1, 2, 2, 2, 2, 2, 2, 3]\n",
      "i = 2 j = 9 table:[1, 0, 1, 1, 1, 1, 2, 2, 2, 2, 2, 2, 3]\n",
      "i = 2 j = 9 table:[1, 0, 1, 1, 1, 1, 2, 2, 2, 3, 2, 2, 3]\n",
      "i = 2 j = 10 table:[1, 0, 1, 1, 1, 1, 2, 2, 2, 3, 2, 2, 3]\n",
      "i = 2 j = 10 table:[1, 0, 1, 1, 1, 1, 2, 2, 2, 3, 3, 2, 3]\n",
      "i = 2 j = 11 table:[1, 0, 1, 1, 1, 1, 2, 2, 2, 3, 3, 2, 3]\n",
      "i = 2 j = 11 table:[1, 0, 1, 1, 1, 1, 2, 2, 2, 3, 3, 3, 3]\n",
      "i = 2 j = 12 table:[1, 0, 1, 1, 1, 1, 2, 2, 2, 3, 3, 3, 3]\n",
      "i = 2 j = 12 table:[1, 0, 1, 1, 1, 1, 2, 2, 2, 3, 3, 3, 4]\n",
      "Space Opt: The total number of possible combinations are 4\n"
     ]
    }
   ],
   "source": [
    "# In an American football Bame, a play can lead to 2 points (safety), 3 points (field goal), or 7 points (touchdown, assuming the extra point). \n",
    "# Many different combinations of 2,3, and 7 point plays can make up a final score. For example, four combinations of plays yield a score of 12: o 6safeties (2x6=12), o 3 safeties and 2 field goals (2 x 3 + 3 x2 = 12), o 1 safety,l field goal and l touchdown (2 x 1+ 3 x 1 +7 x1= 12), and o 4fieldgoals(3x4=12).\n",
    "# Write a program that takes a final score and scores for individual plays, and returns the number of combinations of plays that result in the final score.\n",
    "\n",
    "# Generalizing an s-point score can be achieved by an s-2 point score, followed by a 2 point play etc.\n",
    "# Brute Force: Enumerate all the sequences and count the distinct combinations within these sequences e.g. by sorting each sequence and inserting into a hash table\n",
    "# Recursion: num_of_combinations[s][n] = num_of_combinations[s-1][n] + num_of_combinations[s][n-s]\n",
    "# DP : This problem is similar to coin change(https://www.geeksforgeeks.org/coin-change-dp-7/). \n",
    "# - Make a table with [0,total_score] cols and 3 rows for 2,3,7 point plays.\n",
    "# - Compute number of combinations possible keeping a 2point play and not keeping a 2 point play in the sequence etc. Then, add both values to get the total number of possible combinations\n",
    "# - we find the number of combinations => order is not important\n",
    "\n",
    "# Time Complexity: O(sn) where s is the len(individual_play_scores) and n = total_score + 1. Space Complexity=O(sn) which is used by the 2D array to store intermediate results\n",
    "def num_combinations_for_final_score(final_score, individual_play_scores):\n",
    "    # There is only one way to reach a final_score of 0. so, all the values in the first col are set to 0\n",
    "    num_combinations_for_score = [([1] + [0]*final_score) for _ in range(len(individual_play_scores))]\n",
    "    \n",
    "    for i in range(len(individual_play_scores)):\n",
    "        for j in range(1, final_score + 1): # compute for one row\n",
    "            num_combinations_without_this_play = num_combinations_for_score[i-1][j] if i >= 1 else 0\n",
    "            num_combinations_with_this_play = num_combinations_for_score[i][j - individual_play_scores[i]] if j >= individual_play_scores[i]  else 0\n",
    "            num_combinations_for_score[i][j] = num_combinations_without_this_play + num_combinations_with_this_play\n",
    "    return num_combinations_for_score[-1][-1]\n",
    "\n",
    "individual_play_scores = [2, 3, 7]\n",
    "final_score = 12\n",
    "print(f'The total number of possible combinations are {num_combinations_for_final_score(final_score, individual_play_scores)}')\n",
    "\n",
    "# variant: Solve the same problem using O(n) space\n",
    "def num_combinations_for_final_score_space_opt(final_score, individual_play_scores):\n",
    "    # There is only one way to reach a final_score of 0. so, the first value is set to 1\n",
    "    num_combinations_for_score = ([1] + [0]*final_score)\n",
    "    \n",
    "    # Pick all the scores one by one after the index greater than or equal to the values of the picked score\n",
    "    for i in range(len(individual_play_scores)):# by the time iteration completes, the 1D array is going to be similar to the ith row in the above 2D-array.\n",
    "        for j in range(individual_play_scores[i], final_score + 1): # compute for one row\n",
    "            #print(f'i = {i} j = {j} table:{num_combinations_for_score}')\n",
    "            num_combinations_for_score[j] += num_combinations_for_score[j-individual_play_scores[i]]\n",
    "            #print(f'i = {i} j = {j} table:{num_combinations_for_score}')\n",
    "            \n",
    "    return num_combinations_for_score[-1]\n",
    "individual_play_scores = [2, 3, 7]\n",
    "final_score = 12\n",
    "print(f'Space Opt: The total number of possible combinations are {num_combinations_for_final_score_space_opt(final_score, individual_play_scores)}')"
   ]
  },
  {
   "cell_type": "code",
   "execution_count": 36,
   "metadata": {},
   "outputs": [
    {
     "name": "stdout",
     "output_type": "stream",
     "text": [
      "Space Opt: The total number of possible permutations are 18\n",
      "\n",
      "Steps: Space Opt: The total number of possible permutations are 5\n"
     ]
    }
   ],
   "source": [
    "# variant: Write a program that takes a final score and scores for individual plays, and returns the number of sequences of plays that result in the final score. \n",
    "# For example, 18 sequences of plays yield a score of 12. Some examples are (2,2,2,3,3), <2,3,2,2,3>, <2,3,7), <7,3,2>.\n",
    "# This problem is asking for permutations \n",
    "# Ref: https://massivealgorithms.blogspot.com/2014/09/count-number-of-score-combinations-epi.html\n",
    "def num_permutations_for_final_score_space_opt(final_score, individual_play_scores):\n",
    "    # There is only one way to reach a final_score of 0. So, the first value is set to 1.\n",
    "    num_permutations_for_score = ([1] + [0]*final_score)\n",
    "    \n",
    "    # reverse the order of the loops to get the permutations\n",
    "    for j in range(0, final_score + 1):\n",
    "        for i in range(len(individual_play_scores)):\n",
    "            #print(f'i = {i} j = {j} table:{num_permutations_for_score}')\n",
    "            if j >= individual_play_scores[i]:\n",
    "                num_permutations_for_score[j] += num_permutations_for_score[j-individual_play_scores[i]]\n",
    "                #print(f'i = {i} j = {j} table:{num_permutations_for_score}')\n",
    "            \n",
    "    return num_permutations_for_score[-1]\n",
    "\n",
    "individual_play_scores = [2, 3, 7]\n",
    "final_score = 12\n",
    "print(f'Space Opt: The total number of possible permutations are {num_permutations_for_final_score_space_opt(final_score, individual_play_scores)}\\n')\n",
    "\n",
    "# variant: You are climbing stairs. You can advance 1 to k steps at a time. Your destination is exactly n steps up. \n",
    "# Write a program which takes as inputs n and k and returns the number of ways in which you can get to your destination. \n",
    "# For example, if n = 4 and k = 2, there are five ways in which to get to the destination: \n",
    "# - o four single stair advances, \n",
    "# - o two single stair advances followed by a double stair advance, \n",
    "# - o a single stair advance followed by a double stair advance followed by a single stair advance, \n",
    "# - o a double stair advance followed by two single stairs advances, and \n",
    "# - o two double stair advances.\n",
    "\n",
    "# The main difference between score and this problem is : score asks for number of combinations whereas steps asks for number of permutations\n",
    "\n",
    "k = 2\n",
    "n = 4\n",
    "individual_play_scores = [k for k in range(1, k + 1)]\n",
    "final_score = n\n",
    "print(f'Steps: Space Opt: The total number of possible permutations are {num_permutations_for_final_score_space_opt(final_score, individual_play_scores)}')"
   ]
  },
  {
   "cell_type": "code",
   "execution_count": 38,
   "metadata": {
    "scrolled": true
   },
   "outputs": [
    {
     "name": "stdout",
     "output_type": "stream",
     "text": [
      "Total permutations for Team1: 2\n",
      "Total permutations for Team2: 1\n",
      "Total permutations for Team1 and Team2 together: 2\n"
     ]
    }
   ],
   "source": [
    "# variant:  Suppose the final score is given in the form (s,s'), i.e., Team 1 scored s points and Team 2 scored s' points. \n",
    "# How would you compute the number of distinct scoring sequences which result in this score? \n",
    "# For example, if the final score is (6,3) then Team 1 scores 3, Team 2 scores 3, Team 1 scores 3 is a scoring sequence which results in this score.\n",
    "individual_play_scores = [2, 3, 7]\n",
    "final_score = 6\n",
    "num_of_permutations_team1 = num_permutations_for_final_score_space_opt(final_score, individual_play_scores)\n",
    "print(f'Total permutations for Team1: {num_of_permutations_team1}')\n",
    "individual_play_scores = [2, 3, 7]\n",
    "final_score = 3\n",
    "num_of_permutations_team2 = num_permutations_for_final_score_space_opt(final_score, individual_play_scores)\n",
    "print(f'Total permutations for Team2: {num_of_permutations_team2}')\n",
    "total_permutations_together = num_of_permutations_team1 * num_of_permutations_team2\n",
    "print(f'Total permutations for Team1 and Team2 together: {total_permutations_together}')"
   ]
  },
  {
   "cell_type": "markdown",
   "metadata": {},
   "source": [
    "## 16.2 Compute the levenshtein distance"
   ]
  },
  {
   "cell_type": "code",
   "execution_count": 42,
   "metadata": {},
   "outputs": [
    {
     "name": "stdout",
     "output_type": "stream",
     "text": [
      "The levenshtein distance between Carthorse and Orchestra is 8\n"
     ]
    }
   ],
   "source": [
    "# Spell checkers make suggestions for misspelled words. Given a misspelled string a spell checker should return words in the dictionary which are close to the misspelled string. \n",
    "# The number of edits needed to transform one word to another is called as levenshtein distance\n",
    "\n",
    "# Task: Write a Program that takes two strings and computes the minimum number of edits needed to transform the first string into the second string.\n",
    "\n",
    "# Brute Force: Enumerate all strings that are at distance 1,2,3 etc and stop once we get the second string. Time complexity: Exponential\n",
    "\n",
    "# A better approach is to \"prune\" the search. For example, if the last character of the first string equals the last character of the second string, we can ignore this character. \n",
    "# - If they are different, we can focus on the initial portion of each string and perform a final edit step. (This final edit step may be an insertion, deletion, or substitution.)\n",
    "# Let E(A[0,a - 1]),B[0,b - 1]) be the Levenshtein distance between the strings A and B. Then, the following two cases are possible:\n",
    "# - If last char of A equal last char of B, then E(A[0,a - 1]),B[0,b - 1]) = E(A[0,a - 2]),B[0,b - 2])\n",
    "# - else E(A[0,a - 1]),B[0,b - 1]) = 1 + min(E(A[0,a - 2]),B[0,b - 2]), E(A[0,a - 1]),B[0,b - 2]), E(A[0,a - 2]),B[0,b - 1])). Transforming A[0,a - 1] to B[0,b - 1]:\n",
    "# ---by transforming A[0,a - 2] to B[0,b - 2] and then substituting A's last character with B's last character. \n",
    "# ---by transforming A[0,a - 1] to B[0,b - 2] and then adding B's last character at the end. \n",
    "# ---by transforming A[0,a - 2] to B[0,b - 1] and then deleting A's last character.\n",
    "\n",
    "# Time Complexity: O(ab) Space Complexity: O(ab)\n",
    "def levenshtein_distance(A, B):\n",
    "    def compute_distance_between_prefixes(A_idx, B_idx):\n",
    "        if A_idx < 0: \n",
    "            return B_idx + 1 # A is empty so add all of B's characters.\n",
    "        elif B_idx < 0:\n",
    "            return A_idx + 1 # B is empty so delete all of A's Charcters\n",
    "        \n",
    "        if distance_between_prefixes[A_idx][B_idx] == -1: # check not to compute same value multiple times\n",
    "            if A[A_idx] == B[B_idx]: # last chars of both strings are equal\n",
    "                distance_between_prefixes[A_idx][B_idx] = compute_distance_between_prefixes(A_idx - 1, B_idx - 1)\n",
    "            else: # finding min of substitution, add, delete\n",
    "                substitute_last = compute_distance_between_prefixes(A_idx - 1, B_idx - 1)\n",
    "                add_last = compute_distance_between_prefixes(A_idx - 1, B_idx)\n",
    "                delete_last = compute_distance_between_prefixes(A_idx, B_idx - 1)\n",
    "                distance_between_prefixes[A_idx][B_idx] = (1 + min(substitute_last, add_last, delete_last))\n",
    "        return distance_between_prefixes[A_idx][B_idx]\n",
    "        \n",
    "    distance_between_prefixes = [[-1] * len(B) for _ in A]\n",
    "    return compute_distance_between_prefixes(len(A) - 1, len(B) - 1)\n",
    "\n",
    "A = \"Carthorse\"\n",
    "B = \"Orchestra\"\n",
    "print(f'The levenshtein distance between {A} and {B} is {levenshtein_distance(A, B)}')       \n",
    "    "
   ]
  },
  {
   "cell_type": "code",
   "execution_count": 46,
   "metadata": {},
   "outputs": [
    {
     "name": "stdout",
     "output_type": "stream",
     "text": [
      "The levenshtein distance between Carthorse and Orchestra is 8\n"
     ]
    }
   ],
   "source": [
    "# Variant: Compute the Levenshtein distance using O(min(a, b)) space and O(ab) time.\n",
    "# Generally if we are filling the i = 10 rows in DP we require only values of 9th row. \n",
    "# Ref: https://www.geeksforgeeks.org/edit-distance-dp-5/\n",
    "\n",
    "# Create table with two rows: use (A_idx % 2) while storing values into the table\n",
    "# Time Complexity: O(ab) Space Complexity: O(b)\n",
    "def levenshtein_distance_space_opt(A, B):\n",
    "    def compute_distance_between_prefixes(A_idx, B_idx):\n",
    "        if A_idx < 0: \n",
    "            return B_idx + 1 # A is empty so add all of B's characters.\n",
    "        elif B_idx < 0:\n",
    "            return A_idx + 1 # B is empty so delete all of A's Charcters\n",
    "        \n",
    "        if distance_between_prefixes[(A_idx%2)][B_idx] == -1:# check not to compute same value multiple times\n",
    "            if A[A_idx] == B[B_idx]: # last chars of both strings are equal\n",
    "                distance_between_prefixes[(A_idx%2)][B_idx] = compute_distance_between_prefixes(A_idx - 1, B_idx - 1)\n",
    "            else: # finding min of substitution, add, delete\n",
    "                substitute_last = compute_distance_between_prefixes(A_idx - 1, B_idx - 1)\n",
    "                add_last = compute_distance_between_prefixes(A_idx - 1, B_idx)\n",
    "                delete_last = compute_distance_between_prefixes(A_idx, B_idx - 1)\n",
    "                distance_between_prefixes[(A_idx%2)][B_idx] = (1 + min(substitute_last, add_last, delete_last))\n",
    "        return distance_between_prefixes[(A_idx%2)][B_idx]\n",
    "        \n",
    "    distance_between_prefixes = [[-1] * len(B) for _ in range(0,2)] # create two rows: one for previous values and one to compute current values\n",
    "    return compute_distance_between_prefixes(len(A) - 1, len(B) - 1)\n",
    "\n",
    "A = \"Carthorse\"\n",
    "B = \"Orchestra\"\n",
    "print(f'The levenshtein distance between {A} and {B} is {levenshtein_distance_space_opt(A, B)}')   "
   ]
  },
  {
   "cell_type": "markdown",
   "metadata": {},
   "source": [
    "### Variant: Longest Common Subsequence"
   ]
  },
  {
   "cell_type": "code",
   "execution_count": 50,
   "metadata": {},
   "outputs": [
    {
     "name": "stdout",
     "output_type": "stream",
     "text": [
      "The lenght of longest common subsequence between Carthorse and Orchestra is 3\n",
      "The lenght of longest common subsequence between AGGTAB and GXTXAYB is 4\n"
     ]
    }
   ],
   "source": [
    "# variant: Given A and B as above, compute a longest sequence of characters that is a subsequence of A and of B. F\n",
    "# For example, the longest subsequence which is present in both strings in \"Carthorse\" and \"Orchestra\" is (r,h,s).\n",
    "\n",
    "# Ref: https://www.geeksforgeeks.org/longest-common-subsequence-dp-4/\n",
    "# A subsequence is a sequence that appears in the same relative order, but not necessarily contiguous.\n",
    "# For ex: \"abc\", \"abg\", \"bdf\", \"aeg\", \"acefg\", ... etc are subsequences of \"abcdefg\"\n",
    "# LCS for input Sequences “ABCDGH” and “AEDFHR” is “ADH” of length 3.\n",
    "# LCS for input Sequences “AGGTAB” and “GXTXAYB” is “GTAB” of length 4.\n",
    "\n",
    "# Brute Force: Number of subsequence of lenght 1,2,...,n is nC0 + nC1 + nC2 + ... + nCn = 2^n and O(n) to check if subsequence is common to both strings => Time Complexity: O(n*(2^n))\n",
    "\n",
    "# DP Approach: For two string (A, B) let L(A[0,a-1],B[0,b-1]) be the length of longest common subsequence. we get the following two cases:\n",
    "# - If last char of A equal last char of B, then L(A[0,a-1], B[0, b-1]) = 1 + L(A[0,a-2], B[0, b-2])\n",
    "# - else L(A[0,a-1], B[0, b-1]) = max(L(A[0,a-2], B[0, b-1]), L(A[0,a-1], B[0, b-2]))\n",
    "# Time Complexity: O(ab) Space Complexity: O(ab)\n",
    "def longest_common_subsequence(A, B):\n",
    "    def compute_lcs_between_prefixes(A_idx, B_idx):\n",
    "        if A_idx < 0:\n",
    "            return 0\n",
    "        elif B_idx < 0:\n",
    "            return 0\n",
    "        \n",
    "        if lcs_between_prefixes[A_idx][B_idx] == -1: # check not to compute same value multiple times\n",
    "            if(A[A_idx] == B[B_idx]):\n",
    "                lcs_between_prefixes[A_idx][B_idx] = 1 + compute_lcs_between_prefixes(A_idx - 1, B_idx - 1)\n",
    "            else:\n",
    "                lcs_between_prefixes[A_idx][B_idx] = max(compute_lcs_between_prefixes(A_idx, B_idx - 1), compute_lcs_between_prefixes(A_idx - 1, B_idx))\n",
    "        return lcs_between_prefixes[A_idx][B_idx]\n",
    "    \n",
    "    lcs_between_prefixes = [[-1] * len(B) for _ in A]\n",
    "    return compute_lcs_between_prefixes(len(A) - 1, len(B) - 1)\n",
    "\n",
    "A = \"Carthorse\"\n",
    "B = \"Orchestra\"\n",
    "print(f'The lenght of longest common subsequence between {A} and {B} is {longest_common_subsequence(A, B)}') \n",
    "A = \"AGGTAB\"\n",
    "B = \"GXTXAYB\"\n",
    "print(f'The lenght of longest common subsequence between {A} and {B} is {longest_common_subsequence(A, B)}') "
   ]
  },
  {
   "cell_type": "markdown",
   "metadata": {},
   "source": [
    "### Variant: Min number of deletions to convert string to palindrome"
   ]
  },
  {
   "cell_type": "code",
   "execution_count": 64,
   "metadata": {},
   "outputs": [
    {
     "name": "stdout",
     "output_type": "stream",
     "text": [
      "The length of the longest palindromic subsequence in GEEKSFORGEEKS is 5\n",
      "Minimum number of deletions requried to convert GEEKSFORGEEKS to palindrome are 8\n",
      "\n",
      "The length of the longest palindromic subsequence in aebbda is 4\n",
      "Minimum number of deletions requried to convert aebbda to palindrome are 2\n"
     ]
    }
   ],
   "source": [
    "# Variant: Given a string A, compute teh minimum number of characters you need to delete from A to make the resulting string a palindrome\n",
    "# Ref: https://www.geeksforgeeks.org/minimum-number-deletions-make-string-palindrome/\n",
    "\n",
    "# Brute Force: Remove all subseqences one by one and check if the string is a palindrome Time Complexity:O(n*2^n)\n",
    "\n",
    "# DP Approach: An efficient approach uses the concept of finding the length of the longest palindromic subsequence of a given sequence.\n",
    "\n",
    "# DP to compute length of longest palindromic subsequence: https://www.geeksforgeeks.org/longest-palindromic-subsequence-dp-12/\n",
    "# For a string, let LPS(A[0,a-1]) be the length of longest palindromic subsequence. we get the following two cases:\n",
    "# - If first char of A equal to last char of A, then LPS(A[0,a-1]) = 2 + LPS(A[1,a-2])\n",
    "# - else LPS(A[0,a-1]) = max(L(A[1,a-1]), L(A[0,a-2]))\n",
    "# Time Complexity: O(a^2) Space Complexity: O(a^2)\n",
    "def longest_palindromic_subsequence(A):\n",
    "    def compute_lps_between_prefixes(A_idx_start, A_idx_end):\n",
    "        if A_idx_start > A_idx_end:\n",
    "            return 0\n",
    "        elif A_idx_start == A_idx_end: # string A is of odd lenght\n",
    "            return 1\n",
    "        elif A_idx_end < 0:\n",
    "            return 0\n",
    "        \n",
    "        if lps_between_prefixes[A_idx_start][A_idx_end] == -1: # check not to compute same value multiple times\n",
    "            if(A[A_idx_start] == A[A_idx_end]):\n",
    "                lps_between_prefixes[A_idx_start][A_idx_end] = 2 + compute_lps_between_prefixes(A_idx_start + 1, A_idx_end - 1)\n",
    "            else:\n",
    "                lps_between_prefixes[A_idx_start][A_idx_end] = max(compute_lps_between_prefixes(A_idx_start + 1, A_idx_end), compute_lps_between_prefixes(A_idx_start, A_idx_end - 1))\n",
    "        return lps_between_prefixes[A_idx_start][A_idx_end]\n",
    "    \n",
    "    lps_between_prefixes = [[-1] * len(A) for _ in A]\n",
    "    return compute_lps_between_prefixes(0, len(A) - 1)\n",
    "\n",
    "A = \"GEEKSFORGEEKS\"\n",
    "lps = longest_palindromic_subsequence(A)\n",
    "min_num_of_deletions = len(A) - lps\n",
    "print(f'The length of the longest palindromic subsequence in {A} is {lps}')\n",
    "print(f'Minimum number of deletions requried to convert {A} to palindrome are {min_num_of_deletions}\\n')\n",
    "A = \"aebbda\"\n",
    "lps = longest_palindromic_subsequence(A)\n",
    "min_num_of_deletions = len(A) - lps\n",
    "print(f'The length of the longest palindromic subsequence in {A} is {lps}')\n",
    "print(f'Minimum number of deletions requried to convert {A} to palindrome are {min_num_of_deletions}')"
   ]
  },
  {
   "cell_type": "markdown",
   "metadata": {},
   "source": [
    "## 16.3 Count the number of ways to traverse a 2D array"
   ]
  },
  {
   "cell_type": "code",
   "execution_count": 14,
   "metadata": {},
   "outputs": [
    {
     "name": "stdout",
     "output_type": "stream",
     "text": [
      "The number of ways to go from top left to the bottom right in 5 by 5 matrix are 70\n",
      "The number of ways to go from top left to the bottom right in 3 by 3 matrix are 6\n",
      "\n",
      "Iterative:The number of ways to go from top left to the bottom right in 5 by 5 matrix are 70\n",
      "Iterative:The number of ways to go from top left to the bottom right in 3 by 3 matrix are 6\n",
      "\n",
      "SpaceOpt:The number of ways to go from top left to the bottom right in 5 by 5 matrix are 70\n",
      "SpaceOpt:The number of ways to go from top left to the bottom right in 3 by 3 matrix are 6\n",
      "\n",
      "Combinatorics:The number of ways to go from top left to the bottom right in 5 by 5 matrix are 70\n",
      "Combinatorics:The number of ways to go from top left to the bottom right in 3 by 3 matrix are 6\n",
      "\n"
     ]
    }
   ],
   "source": [
    "# In this problem you are to count the number of ways of starting at the top-left comer of a2D array and getting to the bottom-right comer. \n",
    "# All moves must either go right or down. \n",
    "# Task: Write a program that counts how many ways you can go from the top-left to the bottom-right in a 2D array.\n",
    "\n",
    "# Brute Force: Enumerate all possible paths. Time complexity: Exponential\n",
    "\n",
    "# Approach: The number of ways to get to the bottom right is equal to the sum of number of ways to get entry immediately above it and left to it.\n",
    "# Generalizing, number of ways to get to (i,j) = # ways to get to (i-1,j) + # ways to get to (i, j-1). we can cache the result and improve performance.\n",
    "# Time Complexity: O(nm) Space Complexity: O(nm) where n is the number of rows and m is the number of cols\n",
    "def number_of_ways(n, m):\n",
    "    def compute_number_of_ways_to_xy(x,y):\n",
    "        if x == y == 0:\n",
    "            return 1\n",
    "        \n",
    "        if number_of_ways[x][y] == 0: # condition that ensures same values are not computed more than one time\n",
    "            ways_top = 0 if x == 0 else compute_number_of_ways_to_xy(x - 1, y)\n",
    "            ways_left = 0 if y == 0 else compute_number_of_ways_to_xy(x, y - 1)\n",
    "            number_of_ways[x][y] = ways_top + ways_left\n",
    "        return number_of_ways[x][y]\n",
    "    \n",
    "    number_of_ways = [[0] * m for _ in range(n)]\n",
    "    return compute_number_of_ways_to_xy(n-1, m-1)\n",
    "\n",
    "n = 5\n",
    "m = 5\n",
    "print(f'The number of ways to go from top left to the bottom right in {n} by {m} matrix are {number_of_ways(n,m)}')\n",
    "n = 3\n",
    "m = 3\n",
    "print(f'The number of ways to go from top left to the bottom right in {n} by {m} matrix are {number_of_ways(n,m)}\\n')\n",
    "\n",
    "def number_of_ways_iterative(n,m):\n",
    "    number_of_ways = [[0] * m for _ in range(n)]\n",
    "    number_of_ways[0][0] = 1 # there is only one way to reach if the matrix has only one cell\n",
    "    \n",
    "    for i in range(n):\n",
    "        for j in range(m):\n",
    "            if number_of_ways[i][j] == 0:\n",
    "                number_of_ways[i][j] = number_of_ways[i-1][j] + number_of_ways[i][j-1]\n",
    "    return number_of_ways[n-1][m-1]\n",
    "n = 5\n",
    "m = 5\n",
    "print(f'Iterative:The number of ways to go from top left to the bottom right in {n} by {m} matrix are {number_of_ways_iterative(n,m)}')\n",
    "n = 3\n",
    "m = 3\n",
    "print(f'Iterative:The number of ways to go from top left to the bottom right in {n} by {m} matrix are {number_of_ways_iterative(n,m)}\\n')\n",
    "\n",
    "# Time Complexity: O(nm) Space Complexity: O(m) #Ref: https://www.geeksforgeeks.org/count-possible-paths-top-left-bottom-right-nxm-matrix/\n",
    "def number_of_ways_space_opt(n, m):\n",
    "    number_of_ways = [0] * m;\n",
    "    number_of_ways[0] = 1;\n",
    "    for i in range(n):\n",
    "        for j in range(1,m):\n",
    "            number_of_ways[j] += number_of_ways[j-1]\n",
    "    return number_of_ways[m-1]\n",
    "\n",
    "n = 5\n",
    "m = 5\n",
    "print(f'SpaceOpt:The number of ways to go from top left to the bottom right in {n} by {m} matrix are {number_of_ways_space_opt(n,m)}')\n",
    "n = 3\n",
    "m = 3\n",
    "print(f'SpaceOpt:The number of ways to go from top left to the bottom right in {n} by {m} matrix are {number_of_ways_space_opt(n,m)}\\n')\n",
    "\n",
    "# The problem can also be solved using combinatorics. Total number of ways = ((m-1) + (n-1))!/((m-1)!*(n-1)!)\n",
    "def number_of_ways_formula(n, m):\n",
    "    path = 1\n",
    "    for i in range(n, m+n-1):\n",
    "        path *= i\n",
    "        path //= (i - n + 1) #(m-1)!\n",
    "    return path\n",
    "n = 5\n",
    "m = 5\n",
    "print(f'Combinatorics:The number of ways to go from top left to the bottom right in {n} by {m} matrix are {number_of_ways_formula(n,m)}')\n",
    "n = 3\n",
    "m = 3\n",
    "print(f'Combinatorics:The number of ways to go from top left to the bottom right in {n} by {m} matrix are {number_of_ways_formula(n,m)}\\n')"
   ]
  },
  {
   "cell_type": "markdown",
   "metadata": {},
   "source": [
    "## 16.4 Compute the binomial coefficients"
   ]
  },
  {
   "cell_type": "code",
   "execution_count": 39,
   "metadata": {},
   "outputs": [
    {
     "name": "stdout",
     "output_type": "stream",
     "text": [
      "The number of sets of size 2 in a set of size 5 are 10\n",
      "Iterative:The number of sets of size 2 in a set of size 5 are 10\n",
      "Space Opt:The number of sets of size 2 in a set of size 5 are 10\n"
     ]
    }
   ],
   "source": [
    "# The symbol (nCk) is the short form for the expression (n*(n-1)*(n-2)*...*(n-k+1))/(k*(k-1)*...(3)*(2)*(1)). It is the number of ways to choose a \n",
    "# k-element subset from an n-element set. The result might not be integrer always and sometimes it can lead to overflow also.\n",
    "\n",
    "# Task: Design an efficient algorithm for computing (nCk) which has the property that it never overflows if the final result fits in the integer word size.\n",
    "# Brute Force: Compute numerator first and then denominator then divide both of them. But this can lead to overflow.\n",
    "\n",
    "# Approach: we can completely avoid multiplications and divisions by understanding the problem properly. (nCk) is finding the number of subsets of size k in a set of size n.\n",
    "# This can be written as (nCk) = (n-1Ck) + (n-1Ck-1) as it is the union of subsets of size k with nth element not included + nth element included.\n",
    "# Base Case: rCr = 1 and rC0 = 1. By caching results the complexity can reduced.\n",
    "# Time Complexity: O(nk) Space Complexity: O(nk)\n",
    "def compute_binomial_coefficient(n, k):\n",
    "    def compute_x_choose_y(x, y):\n",
    "        if y in (x, 0):\n",
    "            return 1\n",
    "        \n",
    "        if x_choose_y[x][y] == 0:\n",
    "            without_x = compute_x_choose_y(x-1, y)\n",
    "            with_x = compute_x_choose_y(x-1, y-1)\n",
    "            x_choose_y[x][y] = without_x + with_x\n",
    "        return x_choose_y[x][y]\n",
    "    \n",
    "    x_choose_y = [[0] * (k + 1) for _ in range(n + 1)] # we want the value of nCk so the size of the matrix will be (n+1)*(k+1)\n",
    "    return compute_x_choose_y(n,k)\n",
    "n = 5\n",
    "k = 2\n",
    "print(f'The number of sets of size {k} in a set of size {n} are {compute_binomial_coefficient(n,k)}')\n",
    "\n",
    "# Time Complexity: O(nk) Space Complexity: O(nk)\n",
    "def compute_binomial_coefficient_iterative(n, k):\n",
    "    x_choose_y = [[0] * (k + 1) for _ in range(n + 1)]\n",
    "    for i in range(n+1):\n",
    "        for j in range(min(i,k)+1):\n",
    "            if j == 0 or j == i:\n",
    "                x_choose_y[i][j] = 1\n",
    "            else:\n",
    "                x_choose_y[i][j] = x_choose_y[i-1][j] + x_choose_y[i-1][j-1]\n",
    "    return x_choose_y[n][k]\n",
    "n = 5\n",
    "k = 2\n",
    "print(f'Iterative:The number of sets of size {k} in a set of size {n} are {compute_binomial_coefficient_iterative(n,k)}')\n",
    "\n",
    "# Time Complexity:O(nk) Space Complexity:O(k) Ref:https://www.geeksforgeeks.org/binomial-coefficient-dp-9/\n",
    "# This method uses pascal traingle concept\n",
    "def compute_binomial_coefficient_space_opt(n, k):\n",
    "    x_choose_y = [0]*(k+1)\n",
    "    x_choose_y[0] = 1 # base case\n",
    "    \n",
    "    for i in range(1,n+1):\n",
    "        for j in range(min(i,k), 0, -1):# we are computing from reverse because the next row of pascal traingle is computed using the previous row\n",
    "             x_choose_y[j] += x_choose_y[j-1] \n",
    "    return x_choose_y[k]\n",
    "n = 5\n",
    "k = 2\n",
    "print(f'Space Opt:The number of sets of size {k} in a set of size {n} are {compute_binomial_coefficient_space_opt(n,k)}')            "
   ]
  },
  {
   "cell_type": "markdown",
   "metadata": {},
   "source": [
    "## 16.5 Search for a sequence in a 2D array"
   ]
  },
  {
   "cell_type": "code",
   "execution_count": 51,
   "metadata": {},
   "outputs": [
    {
     "name": "stdout",
     "output_type": "stream",
     "text": [
      "Pattern is present in the grid:True\n",
      "Pattern is present in the grid:False\n"
     ]
    }
   ],
   "source": [
    "# Suppose you are given a 2D array of integers (the \"grid\"), and a 1D array of integers (the \"pattern\"). We say the pattern occurs in the grid if it is possible to start from some entry in the grid and traverse adjacent entries in the order specified by the pattem till all entries in the pattern have been visited.\n",
    "# For a grid: [1 2 3; 3 4 5; 5 6 7] the pattern <1,3,4,6> occurs in the grid whereas the pattern <1,2,3,4> does not occur in the grid.\n",
    "\n",
    "# Task: Write a Program that takes as arguments a 2D array and a 1D array, and checks whether the 1D array occurs in the 2D array.\n",
    "# Brute Force: Generate all 1D sub arrays of 2D array. Inefficient as we are not using the target 1D subarray.\n",
    "\n",
    "# Guided Approach: Let the 2D aray be A, and the 1D array be S. Here is a guided way to search for matches. Let's say we have a suffix of S to match, and a starting point to match from. \n",
    "# If the suffix is empty, we are done. Otherwise, for the suffix to occur from the starting point, the first entry of the suffix must equal the entry at the starting point, and the remainder of the suffix must occur starting at a point adjacent to the starting point\n",
    "# Time Complexity: O(nm|S|) where n,m are dimensions of the grid\n",
    "def is_pattern_contained_in_grid(grid, S):\n",
    "    def is_pattern_suffix_contained_starting_at_xy(x, y, offset):\n",
    "        if len(S) == offset:\n",
    "            return True # Nothing left - reached the end of pattern\n",
    "        \n",
    "        # checking if the coordinates are within the grid and can we get the pattern from this (x,y)\n",
    "        if(0<=x<len(grid) and 0<=y<len(grid[x]) and grid[x][y] == S[offset] and (x,y,offset) not in previous_attempts):\n",
    "            if(any(is_pattern_suffix_contained_starting_at_xy(x+a,y+b,offset+1) for (a,b) in ((-1,0), (1,0), (0,-1), (0,1)))):\n",
    "                #print(f'x={x}, y={y}, entered')\n",
    "                return True\n",
    "        previous_attempts.add((x,y,offset))\n",
    "        return False\n",
    "    \n",
    "    previous_attempts = set()\n",
    "    return any(is_pattern_suffix_contained_starting_at_xy(i,j,0) for i in range(len(grid)) for j in range(len(grid[i])))\n",
    "\n",
    "grid = [[1, 2, 3], [3, 4, 5], [5, 6, 7]]\n",
    "pattern = [1,3,4,6]\n",
    "print(f'Pattern is present in the grid:{is_pattern_contained_in_grid(grid, pattern)}')\n",
    "pattern = [1,2,3,4]\n",
    "print(f'Pattern is present in the grid:{is_pattern_contained_in_grid(grid, pattern)}')"
   ]
  },
  {
   "cell_type": "markdown",
   "metadata": {},
   "source": [
    "## 16.6 The Knapsack problem"
   ]
  },
  {
   "cell_type": "code",
   "execution_count": 61,
   "metadata": {},
   "outputs": [
    {
     "name": "stdout",
     "output_type": "stream",
     "text": [
      "The optimum value is 80\n"
     ]
    }
   ],
   "source": [
    "# Task: Write a program for the knapsack problem that selects a subset of items that has maximum value and satisfies the weight constraint. All items have integer weights and values. Retum the value of the subset.\n",
    "# Brute Force: Find all subsets to get the optimum solution. Time Complexity: Exponential\n",
    "\n",
    "# Approach: Keeping the weight constriant in mind, find out what is the optimum solution if a clock is chosen and what is the optimum solution if a clock is not chosen.\n",
    "# Time Complexity: O(nw) Space Complexity: O(nw)\n",
    "import collections\n",
    "Item = collections.namedtuple('Item', ('weight', 'value'))\n",
    "def optimum_subject_to_capacity(items, capacity):\n",
    "    def optimum_subject_to_item_and_capacity(k, available_capacity):\n",
    "        if k < 0: # no items left\n",
    "            return 0\n",
    "        \n",
    "        if V[k][available_capacity] == -1: # cell not computed till now\n",
    "            without_curr_item = optimum_subject_to_item_and_capacity(k-1, available_capacity)\n",
    "            with_curr_item = 0 if(available_capacity < items[k].weight) else (items[k].value + optimum_subject_to_item_and_capacity(k-1, available_capacity - items[k].weight))\n",
    "            V[k][available_capacity] = max(without_curr_item, with_curr_item)\n",
    "            \n",
    "        return V[k][available_capacity]\n",
    "    \n",
    "    V = [[-1] * (capacity + 1) for _ in items]\n",
    "    return optimum_subject_to_item_and_capacity(len(items)-1, capacity)\n",
    "\n",
    "Items = [Item(5,60), Item(3,50), Item(4,70), Item(2,30)]\n",
    "capacity = 5\n",
    "print(f'The optimum value is {optimum_subject_to_capacity(Items, capacity)}')"
   ]
  },
  {
   "cell_type": "code",
   "execution_count": null,
   "metadata": {},
   "outputs": [],
   "source": []
  }
 ],
 "metadata": {
  "kernelspec": {
   "display_name": "Python 3",
   "language": "python",
   "name": "python3"
  },
  "language_info": {
   "codemirror_mode": {
    "name": "ipython",
    "version": 3
   },
   "file_extension": ".py",
   "mimetype": "text/x-python",
   "name": "python",
   "nbconvert_exporter": "python",
   "pygments_lexer": "ipython3",
   "version": "3.8.3"
  }
 },
 "nbformat": 4,
 "nbformat_minor": 2
}
