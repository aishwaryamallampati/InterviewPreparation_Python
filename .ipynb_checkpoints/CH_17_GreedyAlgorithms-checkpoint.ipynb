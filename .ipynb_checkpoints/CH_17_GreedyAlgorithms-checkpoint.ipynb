{
 "cells": [
  {
   "cell_type": "markdown",
   "metadata": {},
   "source": [
    "# CH17 Greedy Algorithms"
   ]
  },
  {
   "cell_type": "code",
   "execution_count": 3,
   "metadata": {},
   "outputs": [],
   "source": [
    "# Some important notes:\n",
    "# Greedy algo makes a decision that is locally optimum at each step and it never changes that decision.\n",
    "# Does not necessarily product the optimum solution\n",
    "# A greedy algo is often the right choice for an optimization problem where there's a natural set of choices to select from.\n",
    "# Conceptulize greedy algo recursively then implement it using iteration for higher performance\n",
    "# Sometimes the correct greedy algorithm is not obvious"
   ]
  },
  {
   "cell_type": "code",
   "execution_count": 2,
   "metadata": {},
   "outputs": [
    {
     "name": "stdout",
     "output_type": "stream",
     "text": [
      "Number of coins for 353 cents:7\n"
     ]
    }
   ],
   "source": [
    "# For US currency, wherein coins take values 1,5, 10,25,50,100 cents, the greedy algorithm for making change results in the minimum number of coins\n",
    "def change_making(cents):\n",
    "    COINS = [100, 50, 25, 10, 5, 1] # sorted in decreasing order\n",
    "    num_coins = 0\n",
    "    for coin in COINS: # Time Complexity: O(1) - or O(N) where N is the number of values coins can take\n",
    "        num_coins += cents // coin\n",
    "        cents %= coin\n",
    "    return num_coins\n",
    "\n",
    "print(f'Number of coins for 353 cents:{change_making(353)}')"
   ]
  },
  {
   "cell_type": "markdown",
   "metadata": {},
   "source": [
    "## 17.1 Compute an optimum assignment of tasks"
   ]
  },
  {
   "cell_type": "code",
   "execution_count": 10,
   "metadata": {},
   "outputs": [
    {
     "name": "stdout",
     "output_type": "stream",
     "text": [
      "Optimum Assignment:[[1, 6], [2, 5], [4, 4]]\n",
      "Time taken by each worker to complete the task:[7, 7, 8]\n",
      "Total Time needed:8\n",
      "\n",
      "\n",
      "Optimum Assignment:[[1, 10], [8, 9]]\n",
      "Time taken by each worker to complete the task:[11, 17]\n",
      "Total Time needed:17\n"
     ]
    }
   ],
   "source": [
    "# We consider the problem of assigning tasks to workers. Each worker must be assigned exactly two\n",
    "# tasks. Each task takes a fixed amount of time. Tasks are independent, i.e., there are no constraints of\n",
    "# the form \"Task 4 cannot start before Task 3 is completed .\" Any task can be assigned to any worker.\n",
    "# For example: Time taken:{5,2,1,6,4,4} 1st worker:(5,2) 2nd:(1,6) 3rd:(4,4) total time taken:max(7,7,8) = 8\n",
    "# Design an algorithm that takes as input a set of tasks and retums an optimum assignment.\n",
    "\n",
    "# Time Complexity: O(nlogn) - as we are using sorting\n",
    "def task_assignment(task_times):\n",
    "    task_times = sorted(task_times)\n",
    "    assignment  = []\n",
    "    total_time = []\n",
    "    total_tasks = len(task_times)\n",
    "    for i in range(0, ((total_tasks//2))):\n",
    "        assignment.append([task_times[i], task_times[total_tasks - i - 1]])\n",
    "        total_time.append(task_times[i] + task_times[total_tasks - i - 1])\n",
    "    \n",
    "    print(f'Optimum Assignment:{assignment}')\n",
    "    print(f'Time taken by each worker to complete the task:{total_time}')\n",
    "    print(f'Total Time needed:{max(total_time)}')\n",
    "        \n",
    "\n",
    "task_times = [5, 2, 1, 6, 4, 4]\n",
    "task_assignment(task_times)\n",
    "print('\\n')\n",
    "task_times = [1,8,9,10]\n",
    "task_assignment(task_times)"
   ]
  },
  {
   "cell_type": "code",
   "execution_count": null,
   "metadata": {},
   "outputs": [],
   "source": []
  }
 ],
 "metadata": {
  "kernelspec": {
   "display_name": "Python 3",
   "language": "python",
   "name": "python3"
  },
  "language_info": {
   "codemirror_mode": {
    "name": "ipython",
    "version": 3
   },
   "file_extension": ".py",
   "mimetype": "text/x-python",
   "name": "python",
   "nbconvert_exporter": "python",
   "pygments_lexer": "ipython3",
   "version": "3.7.4"
  }
 },
 "nbformat": 4,
 "nbformat_minor": 2
}
