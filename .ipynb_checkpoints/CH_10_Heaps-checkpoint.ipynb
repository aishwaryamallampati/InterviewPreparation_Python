{
 "cells": [
  {
   "cell_type": "markdown",
   "metadata": {},
   "source": [
    "# CH10 Heaps"
   ]
  },
  {
   "cell_type": "code",
   "execution_count": 1,
   "metadata": {},
   "outputs": [],
   "source": [
    "# Some important notes:\n",
    "# A heap is a specialized binary tree. Specifically, it is a complete binary tree.\n",
    "# The keys must satisfy heap property - the key at each node is atleast as great as the keys stored at its children.\n",
    "# A max-heap can be implemented as an array => the children of the node at index i are at indices 2i+1 and 2i+2.\n",
    "# A max-heap supports O(logn) insertions, O(1) time lookup for the max element, and O(logn) deletion of the max element.\n",
    "# The extract-max operation is defined to delete and return the maximum element.\n",
    "# Use heaps when the problem needs largest and smallest elements and does not care about fast lookup, delete, or search operations for arbitrary elements\n",
    "# A heap is a good choice when you need to compute the k largest(min-heap) or k smallest(max-heap) elements in a collection.\n",
    "# The following are the functionalities provided by Pythons heapq module:\n",
    "# - heapq.heapify(L), which transforms the elements in L into a heap in-place,\n",
    "# - heapq.nlargest(k, L) (heapq.nsmallest(k, L))retumstheklargest(smallest)elementsin L\n",
    "# - heapq. heappush(h, e), which pushes a new element on the heap,\n",
    "# - heapq.heappop(h), which pops the smallest element from the heap,\n",
    "# - heapq.heappushpop(h, a), which pushes a on the heap and then pops and retums the smallest element, and\n",
    "# - e = h[0], which returns the smallest element on the heap without popping it.\n",
    "# - heapq.merge(*iterables), merges multiple sorted inputs into a single sorted outputs\n",
    "# - heapq only supports min-heap functionality. To use this module to build max-heap, negate the input elements \n",
    "# The enumerate() function takes a collection (e.g. a tuple) and returns it as an enumerate object.\n",
    "# The enumerate() function adds a counter as the key of the enumerate object."
   ]
  },
  {
   "cell_type": "code",
   "execution_count": 2,
   "metadata": {},
   "outputs": [
    {
     "name": "stdout",
     "output_type": "stream",
     "text": [
      "['abcc', 'aaaaaaa']\n"
     ]
    }
   ],
   "source": [
    "# Task: Suppose you were asked to write a program which takes a sequence of strings presented in \"streaming\" fashion: you cannot back up to read an earlier value. \n",
    "# Your program must compute the k longest strings in the sequence. All that is required is the k longest strings-it is not required to order these strings.\n",
    "\n",
    "# We need to remove the smallest string each time a better string appears. So, we can build a min-heap to solve this problem.\n",
    "# Time Complexity: O(nlogk) where O(logk) time is used to process each string, which is the time to add and to remove the minimum element from the heap\n",
    "import itertools\n",
    "import heapq\n",
    "def top_k(k, stream):\n",
    "    min_heap =  [(len(s),s) for s in itertools.islice(stream, k)]\n",
    "    heapq.heapify(min_heap) # Transform list x into a heap, in-place, in linear time.\n",
    "    \n",
    "    for next_string in stream:\n",
    "        # Push item on the heap, then pop and return the smallest item from the heap. \n",
    "        # The combined action runs more efficiently than heappush() followed by a separate call to heappop().\n",
    "        if(len(next_string) > len(min_heap[0])): #opt code using this check to reduce the number of push pops \n",
    "            heapq.heappushpop(min_heap, (len(next_string), next_string))\n",
    "    \n",
    "    # heapq.nsmallest: Return a list with the n smallest elements from the dataset defined by iterable. \n",
    "    # key, if provided, specifies a function of one argument that is used to extract a comparison key from each element in the iterable: key=str.lower Equivalent to: sorted(iterable, key=key)[:n]\n",
    "    return [p[1] for p in heapq.nsmallest(k, min_heap)]\n",
    "\n",
    "stream = ['abcc', 'ad', 'e', 'aaaaaaa', 'b']\n",
    "k = 2\n",
    "print(top_k(2, stream)) # Returns the k largest strings in the stream"
   ]
  },
  {
   "cell_type": "markdown",
   "metadata": {},
   "source": [
    "## 10.1 Mege sorted files"
   ]
  },
  {
   "cell_type": "code",
   "execution_count": 3,
   "metadata": {},
   "outputs": [
    {
     "name": "stdout",
     "output_type": "stream",
     "text": [
      "The final sorted merged list: [1, 2, 3, 4, 5, 50, 60, 70, 100, 150, 200, 300, 1000]\n",
      "The final sorted merged list: [1, 2, 3, 4, 5, 50, 60, 70, 100, 150, 200, 300, 1000]\n"
     ]
    }
   ],
   "source": [
    "# You are given 500 files, each containing stock trade information for an S&P 500 company. \n",
    "# Each trade is encoded by a line in the following format: 1232111, AAPL, 30, 456. 12.\n",
    "# The first number is the time of the trade expressed as the number of milliseconds since the start\n",
    "# of the day's trading. Lines within each file are sorted in increasing order of time. The remaining\n",
    "# values are the stock symbol, number of shares, and price. You are to create a single file containing\n",
    "# all the trades from the 500 files, sorted in order of increasing trade times. The individual files are\n",
    "# of the order of 5-100 megabytes; the combined file will be of the order of five gigabytes. In the\n",
    "# abstract, we are trying to solve the following problem.\n",
    "\n",
    "# Write a program that takes as input a set of sorted sequences and computes the union of these sequences as a sorted sequence. \n",
    "# For example, if the input is <3,5,7>, (0,5), and <0,6,28>, then the output is (0, 0, 3, 5, 6, 6,7, 28).\n",
    "\n",
    "# Brute Force: Merge all the files and then sort them Time Complexity: O(nlogn) where n is the total # entries in all files\n",
    "# Optimized Approach: Create a min-heap of size 500 then initialize it with all the 0th elements of each file.\n",
    "# Pop the smallest element from the heap and push the next element from the popped element file\n",
    "\n",
    "# Time Complexity: O(nlogk) where logk is the time taken to extract-min and insert new element.\n",
    "# Space Complexity: O(k) + additional space to store result\n",
    "def merge_sorted_arrays(sorted_arrays):\n",
    "    min_heap = []\n",
    "    # Build a list of iterators for each sorted array\n",
    "    sorted_arrays_iters = [iter(x) for x in sorted_arrays]\n",
    "    \n",
    "    # Create the min-heap with 0th elements taken from each sorted array\n",
    "    for array_num, it in enumerate(sorted_arrays_iters):# The enumerate() function adds a counter as the key of the enumerate object.\n",
    "        first_element = next(it, None)\n",
    "        if first_element is not None:\n",
    "            heapq.heappush(min_heap, (first_element, array_num))\n",
    "    \n",
    "    result  = []\n",
    "    while min_heap:\n",
    "        smallest_element, smallest_array_num = heapq.heappop(min_heap)\n",
    "        smallest_array_iter = sorted_arrays_iters[smallest_array_num]\n",
    "        result.append(smallest_element)\n",
    "        next_element = next(smallest_array_iter, None)\n",
    "        if next_element is not None:\n",
    "            heapq.heappush(min_heap, (next_element, smallest_array_num))\n",
    "    return result\n",
    "\n",
    "l1 = [1,2,3,4,5, 1000]\n",
    "l2 = [100,200,300]\n",
    "l3 = [50,60,70,150]\n",
    "sorted_arrays = [l1, l2, l3]\n",
    "print(f'The final sorted merged list: {merge_sorted_arrays(sorted_arrays)}')\n",
    "\n",
    "def merge_sorted_arrays_pythonic(sorted_arrays):\n",
    "    # heapq.merge(*iterables) Merge multiple sorted inputs into a single sorted output \n",
    "    # (for example, merge timestamped entries from multiple log files). Returns an iterator over the sorted values.\n",
    "    return list(heapq.merge(*sorted_arrays))\n",
    "print(f'The final sorted merged list: {merge_sorted_arrays_pythonic(sorted_arrays)}')\n",
    "\n",
    "# Alternatively, k files can be merged by taking two at a time using the merge step from merge sort.\n",
    "# Time Complexity is going to be same O(nlogk) as there are going to be logk stages\n",
    "# Space Complexity: merge sort space complexity is always going to be more than heap O(n)"
   ]
  },
  {
   "cell_type": "markdown",
   "metadata": {},
   "source": [
    "## 10.2 Sort an increasing-decreasing array"
   ]
  },
  {
   "cell_type": "code",
   "execution_count": 5,
   "metadata": {},
   "outputs": [
    {
     "name": "stdout",
     "output_type": "stream",
     "text": [
      "Sorted Array: [57, 131, 190, 221, 294, 339, 418, 442, 452, 493]\n"
     ]
    }
   ],
   "source": [
    "# An array is said to be k-increasing-decreasing if elements repeatedly increase up to a certain index\n",
    "# after which they decrease, then again increase, a total of k times.\n",
    "# Design an efficient algorithm for sorting a k-increasing-decreasing array.\n",
    "\n",
    "# Brute Force: Sort the array normally Time Complexity:O(NlogN)\n",
    "# Optimized Approach: Reverse all decreasing sequences. Then, we have sorted sub arrays which can be merged in O(NlogK) time.\n",
    "def sort_k_increasing_decreasing_array(A):\n",
    "    sorted_subarrays = []\n",
    "    INCREASING, DECREASING = range(2)\n",
    "    subarray_type = INCREASING\n",
    "    start_idx = 0\n",
    "    for i in range(1, len(A) + 1): \n",
    "        # append if reached end of the array or at the end of a decreasing or an increasing seq\n",
    "        if((i==len(A) or (A[i-1]<A[i] and subarray_type == DECREASING) or (A[i-1] >= A[i] and subarray_type == INCREASING))):\n",
    "            sorted_subarrays.append(A[start_idx:i] if subarray_type == INCREASING else A[i-1:start_idx-1:-1])\n",
    "            # new seq started at i\n",
    "            start_idx = i\n",
    "            subarry_type = DECREASING if subarray_type == INCREASING else INCREASING\n",
    "    return merge_sorted_arrays(sorted_subarrays)\n",
    "\n",
    "A = [57, 131, 493, 294, 221, 339, 418, 452, 442, 190]\n",
    "print(f'Sorted Array: {sort_k_increasing_decreasing_array(A)}')"
   ]
  },
  {
   "cell_type": "markdown",
   "metadata": {},
   "source": [
    "## 10.3 Sort an almost sorted array"
   ]
  },
  {
   "cell_type": "code",
   "execution_count": 7,
   "metadata": {},
   "outputs": [
    {
     "name": "stdout",
     "output_type": "stream",
     "text": [
      "Sorted Array: [-1, 2, 3, 3, 4, 5, 6]\n"
     ]
    }
   ],
   "source": [
    "# Write a Program which takes as input a very long sequence of numbers and prints the numbers in\n",
    "# sorted order. Each number is at most k away from its correctly sorted position. (Such an array is\n",
    "# sometimes referred to as being k-sorted.) Fo rexample,no number in the sequence(3, -1,2,6,4,5,8)\n",
    "# is more than 2 away from its final sorted position.\n",
    "\n",
    "# Brute Force: Place the input in arrays -> sort it Time Complexity: O(nlogn) Space Complexity:O(n)\n",
    "# Optimized Approach: we can take advantage of the almost-sorted property. The smallest number of the input seq must be in positions 0,1,2.\n",
    "# So, store k+1 numbers in min-heap -> extract min and place it in the array.\n",
    "# Time Complexity: O(nlogk) Additional Space Complexity:O(k)\n",
    "def sort_approximately_sorted_array(sequence, k):\n",
    "    result = []\n",
    "    min_heap = []\n",
    "    # push first k elements into the heap\n",
    "    for x in range(0,k):\n",
    "        heapq.heappush(min_heap, sequence[x])\n",
    "    \n",
    "    # for every new element, push it into heap and then pop min\n",
    "    for x in range(k, len(sequence)):\n",
    "        smallest = heapq.heappushpop(min_heap, x)\n",
    "        result.append(smallest)\n",
    "    \n",
    "    # seq is exhausted, pop elements from min_heap and append them to the result\n",
    "    while min_heap:\n",
    "        smallest = heapq.heappop(min_heap)\n",
    "        result.append(smallest)\n",
    "    return result\n",
    "\n",
    "sequence = [3, -1, 2, 6, 4, 5, 8]\n",
    "k = 2\n",
    "print(f'Sorted Array: {sort_approximately_sorted_array(sequence, k)}')"
   ]
  },
  {
   "cell_type": "markdown",
   "metadata": {},
   "source": [
    "## 10.4 Compute the k closest stars"
   ]
  },
  {
   "cell_type": "code",
   "execution_count": 11,
   "metadata": {},
   "outputs": [
    {
     "name": "stdout",
     "output_type": "stream",
     "text": [
      "(1,1,1) (1,2,3) "
     ]
    }
   ],
   "source": [
    "# Consider a coordinate system for the Milky Way, in which Earth is at (0,0,0). Model stars as points,\n",
    "# and assume distances are in light years. The Milky Way consists of approximately 1012 stars, and\n",
    "# their coordinates are stored in a file.\n",
    "\n",
    "# Task: How would you compute the k stars which are closest to Earth?\n",
    "\n",
    "# Brute Force: If RAM is not a limitation, we can place input in array -> sort it and find k smallest. Space Complexity: O(N) but input cannot be stored in RAM for the given dataset.\n",
    "# Optimized Approach: Store the first k elements in a max-heap, when a new element comes in then place it in max-heap if it is closer to Earth than the farthest element in the heap.\n",
    "# we can simply add new elements to the heap, once k+1 elements are present in the heap then we can start removing the max and then push new element in every iteration\n",
    "# Time Complexity: O(nlogk) Space Complexity: O(k)\n",
    "import math\n",
    "class Star: \n",
    "    def __init__(self, x, y, z):\n",
    "        self.x, self.y, self.z = x, y, z\n",
    "    \n",
    "    @property\n",
    "    def distance(self):\n",
    "        return math.sqrt(self.x**2 + self.y**2 + self.z**2)\n",
    "    \n",
    "    def __lt__(self, rhs):\n",
    "        return self.distance < rhs.distance\n",
    "\n",
    "def find_closest_k_stars(stars, k):\n",
    "    max_heap = []\n",
    "    for star in stars:\n",
    "        heapq.heappush(max_heap, (-star.distance, star)) # negation as we want max heap property\n",
    "        if len(max_heap) == k+1:\n",
    "            heapq.heappop(max_heap)\n",
    "    \n",
    "    return [s[1] for s in heapq.nlargest(k, max_heap)] \n",
    "\n",
    "stars = []\n",
    "stars.append(Star(1,1,1))\n",
    "stars.append(Star(4,5,6))\n",
    "stars.append(Star(1,2,3))\n",
    "stars.append(Star(11,12,13))\n",
    "stars.append(Star(21,25,26))\n",
    "k = 2\n",
    "result = find_closest_k_stars(stars, k)\n",
    "for s in result:\n",
    "    print(f'({s.x},{s.y},{s.z})', end=\" \")\n",
    "    "
   ]
  },
  {
   "cell_type": "code",
   "execution_count": 12,
   "metadata": {},
   "outputs": [],
   "source": [
    "# Variant Design an O(nlogk) time algorithm that reads a sequence of n elements and for each\n",
    "# element, starting from the kth element, prints the kth largest element read up to that point. The\n",
    "# length of the sequence is not known in advance. Your algorithm cannot use more than O(k)\n",
    "# additional storage. What are the worst-case inputs for your algorithm?\n",
    "\n",
    "# Appraoch: Store the first k elements in a min-heap. kth largest element is going to be the min element of the heap. \n",
    "# when a new element comes in, check if it is larger than the smallest element of the heap if so replace it.\n",
    "\n",
    "# Worst case input: decreasing seq"
   ]
  },
  {
   "cell_type": "markdown",
   "metadata": {},
   "source": [
    "## 10.5 Compute the median of online data"
   ]
  },
  {
   "cell_type": "code",
   "execution_count": 14,
   "metadata": {},
   "outputs": [
    {
     "name": "stdout",
     "output_type": "stream",
     "text": [
      "Medians:[1, 0.5, 1, 2.0, 2, 1.5]\n"
     ]
    }
   ],
   "source": [
    "# Design an algorithm for computing the running median of a sequence.\n",
    "# For ex: input=<1,0,3,5,2,0,1> Output:<1,0.5,1,2,1.5,1>\n",
    "\n",
    "# Brute Force: Store all elements seen so far in an array and then compute the median. Time Complexity: O(n^2)\n",
    "# But this solution is not incremental. A median divides the array into two halves. When a new element is added to the collection, the parts can change by at\n",
    "# most one element, and the element to be moved is the largest of the smaller half or the smallest of the larger half.\n",
    "# Optimized Approach: Use two heaps: one min_heap and one max_heap - keep the heaps balanced in size.\n",
    "# Time Complexity: O(logn) corresponding to insertion and extraction from a heap\n",
    "def online_median(sequence):\n",
    "    min_heap = []\n",
    "    max_heap = [] # values in max_heap are negative\n",
    "    result = []\n",
    "    \n",
    "    for x in sequence:\n",
    "        # Push new element into min_heap, pop the largest element from min_heap and place it in max_heap\n",
    "        heapq.heappush(max_heap, -heapq.heappushpop(min_heap, x))\n",
    "        # If even number of elements => both should have equal len else min_heap should have one element more than max_heap\n",
    "        if(len(max_heap) > len(min_heap)):\n",
    "            heapq.heappush(min_heap, -heapq.heappop(max_heap))\n",
    "        result.append((0.5 * (min_heap[0] + -max_heap[0])) if len(min_heap) == len(max_heap) else min_heap[0])\n",
    "    return result\n",
    "\n",
    "sequence = [1, 0, 3, 5, 2, 1]\n",
    "print(f'Medians:{online_median(sequence)}')\n",
    "    "
   ]
  },
  {
   "cell_type": "markdown",
   "metadata": {},
   "source": [
    "## 10.6 Compute the k largest elements in a max-heap"
   ]
  },
  {
   "cell_type": "code",
   "execution_count": 16,
   "metadata": {},
   "outputs": [
    {
     "name": "stdout",
     "output_type": "stream",
     "text": [
      "4 largestest elements: [561, 401, 359, 314]\n"
     ]
    }
   ],
   "source": [
    "# Given a max-heap, represented as an array A, design an algorithm that computes the k\n",
    "# largest elements stored in the max-heap. You cannot modify the heap. For example, the array representation is\n",
    "# <561,314,401,28,756,359,271,11,3), the four largest elements are 561,,31,4,401, and 359.\n",
    "\n",
    "# Brute Force: Perform k extract max operations but this approach modifies the heap.\n",
    "# Optimized Approach: Take another max heap->put the root in it then pop it append it to result -> then fill the max_heap with the children of popped element.\n",
    "def k_largest_in_binary_heap(A, k):\n",
    "    if k <= 0:\n",
    "        return []\n",
    "    \n",
    "    candidate_max_heap = []\n",
    "    candidate_max_heap.append((-A[0], 0))\n",
    "    result = []\n",
    "    for _ in range(k):\n",
    "        # Append root of the max_heap to the result\n",
    "        candidate_idx = candidate_max_heap[0][1]\n",
    "        result.append(-heapq.heappop(candidate_max_heap)[0])\n",
    "        \n",
    "        # Push left and right child of appended root to the max_heap\n",
    "        left_child_idx = 2 * candidate_idx + 1\n",
    "        if left_child_idx < len(A):\n",
    "            heapq.heappush(candidate_max_heap, (-A[left_child_idx], left_child_idx))\n",
    "        \n",
    "        right_child_idx = 2 * candidate_idx + 2\n",
    "        if right_child_idx < len(A):\n",
    "            heapq.heappush(candidate_max_heap, (-A[right_child_idx], right_child_idx))\n",
    "    return result\n",
    "\n",
    "A = [561, 314, 401, 28, 156, 359, 271, 11, 3]\n",
    "k = 4\n",
    "print(f'{k} largestest elements: {k_largest_in_binary_heap(A,k)}')"
   ]
  },
  {
   "cell_type": "code",
   "execution_count": null,
   "metadata": {},
   "outputs": [],
   "source": []
  }
 ],
 "metadata": {
  "kernelspec": {
   "display_name": "Python 3",
   "language": "python",
   "name": "python3"
  },
  "language_info": {
   "codemirror_mode": {
    "name": "ipython",
    "version": 3
   },
   "file_extension": ".py",
   "mimetype": "text/x-python",
   "name": "python",
   "nbconvert_exporter": "python",
   "pygments_lexer": "ipython3",
   "version": "3.8.3"
  }
 },
 "nbformat": 4,
 "nbformat_minor": 2
}
