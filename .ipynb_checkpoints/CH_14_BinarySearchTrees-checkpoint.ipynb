{
 "cells": [
  {
   "cell_type": "markdown",
   "metadata": {},
   "source": [
    "# CH14 Binary Search Trees"
   ]
  },
  {
   "cell_type": "code",
   "execution_count": 1,
   "metadata": {},
   "outputs": [],
   "source": [
    "# Some important notes:\n",
    "# BST can solve almost every data structure problem reasonabley efficiently.\n",
    "# They can efficiently: search a key, find min and max, look for successor or predecessor of a search key and enumerate the keys in a range in sorted order.\n",
    "# BST property: nodes stores keys which are integers or strings, key > left_child and key < right_child\n",
    "# Insertion, deletion and lookup can take O(logn) - height of the tree if implemented efficiently\n",
    "# Height-balanced BSTs example - Red black trees\n",
    "# Important applications of BST:\n",
    "# - Searching is the fundamental application of BST. Find min, max, next largest/next smallest, lookup, delete and find all take O(logn) time using library imeplementations\n",
    "# - Both BST and hash table use O(n) space - generally BST use more space\n",
    "# - We can iterate through elements in sorted order in O(n) time using BST even if it is not balanced\n",
    "# - Sometimes it is better to use a combination of BST and hashtable to solve problems\n",
    "# Python does not have a built-in BST library. we can use bintrees module which implements sorted sets and sorted dictionaries using balanced BSTs.\n",
    "# Below, we describe the functionalities added by bintrees:(Time Complexity - O(logn) for each operation)\n",
    "# - insert(e) inserts new element e in the BST.\n",
    "# - discard(e) removes e in the BST if present.\n",
    "# - min-item()/max-item() yield the smallest and largest key-value pair in the BST.\n",
    "# - min-key()/max-key() yield the smallest and largest key in the BST.\n",
    "# - pop_min()/pop_max() remove and then return the smallest and largest key-value pair in the BST.\n",
    "# sortedcontainers module is the best-in-class module for sorted sets and sorted dictionaries"
   ]
  },
  {
   "cell_type": "code",
   "execution_count": 2,
   "metadata": {},
   "outputs": [
    {
     "name": "stdout",
     "output_type": "stream",
     "text": [
      "Collecting bintrees\n",
      "  Downloading bintrees-2.1.0-cp38-cp38-win_amd64.whl (66 kB)\n",
      "Installing collected packages: bintrees\n",
      "Successfully installed bintrees-2.1.0\n"
     ]
    }
   ],
   "source": [
    "# Installations\n",
    "!pip install bintrees"
   ]
  },
  {
   "cell_type": "code",
   "execution_count": 2,
   "metadata": {},
   "outputs": [],
   "source": [
    "class BSTNode:\n",
    "    def __init__(self, data = None, left = None, right = None):\n",
    "        self.data = data\n",
    "        self.left = left\n",
    "        self.right = right"
   ]
  },
  {
   "cell_type": "code",
   "execution_count": 4,
   "metadata": {},
   "outputs": [],
   "source": [
    "# Example Binary Tree\n",
    "root = BSTNode(314)\n",
    "root.left = BSTNode(6)\n",
    "root.left.left = BSTNode(271)\n",
    "root.left.left.left = BSTNode(28)\n",
    "root.left.left.right = BSTNode(0)\n",
    "root.left.right = BSTNode(561)\n",
    "root.left.right.right = BSTNode(3)\n",
    "root.left.right.right.left = BSTNode(17)\n",
    "root.right = BSTNode(6)\n",
    "root.right.left = BSTNode(2)\n",
    "root.right.left.right = BSTNode(1)\n",
    "root.right.left.right.left = BSTNode(401)\n",
    "root.right.left.right.left.right = BSTNode(641)\n",
    "root.right.left.right.right = BSTNode(257)\n",
    "root.right.right = BSTNode(271)\n",
    "root.right.right.right = BSTNode(28)\n",
    "\n",
    "# Example BST Tree\n",
    "bst_root = BSTNode(8)\n",
    "bst_root.left = BSTNode(3)\n",
    "bst_root.left.left = BSTNode(1)\n",
    "bst_root.left.right = BSTNode(6)\n",
    "bst_root.left.right.left = BSTNode(4)\n",
    "bst_root.left.right.right = BSTNode(7)\n",
    "bst_root.right = BSTNode(10)\n",
    "bst_root.right.right = BSTNode(14)\n",
    "bst_root.right.right.left = BSTNode(13)"
   ]
  },
  {
   "cell_type": "code",
   "execution_count": 9,
   "metadata": {},
   "outputs": [
    {
     "name": "stdout",
     "output_type": "stream",
     "text": [
      "8\n",
      "3\n",
      "6\n",
      "6\n"
     ]
    }
   ],
   "source": [
    "# Searching an element in a BST using recursion\n",
    "# Time Complexity: O(h) where h is the height of the tree = O(logn)\n",
    "def search_bst(tree, key):\n",
    "    print(tree.data)\n",
    "    if not tree:\n",
    "        return tree\n",
    "    elif tree.data == key:\n",
    "        print(tree.data)\n",
    "        return tree\n",
    "    else:\n",
    "        if key < tree.data:\n",
    "            search_bst(tree.left, key)\n",
    "        else:\n",
    "            search_bst(tree.right, key)\n",
    "key_node = search_bst(bst_root, 6)\n",
    "#print(key_node.data)"
   ]
  },
  {
   "cell_type": "code",
   "execution_count": 9,
   "metadata": {},
   "outputs": [
    {
     "name": "stdout",
     "output_type": "stream",
     "text": [
      "Bravo\n",
      "(2, 'Bravo') (7, 'Charlie')\n",
      "RBTree({2: 'Bravo', 3: 'Delta', 5: 'Alfa', 6: 'Echo', 7: 'Charlie', 9: 'Golf'})\n",
      "2 9\n",
      "RBTree({2: 'Bravo', 5: 'Alfa', 6: 'Echo', 7: 'Charlie', 9: 'Golf'})\n",
      "RBTree({5: 'Alfa', 6: 'Echo', 7: 'Charlie', 9: 'Golf'})\n",
      "RBTree({5: 'Alfa', 6: 'Echo', 7: 'Charlie'})\n"
     ]
    }
   ],
   "source": [
    "# Examples to use bintrees module\n",
    "import bintrees\n",
    "t = bintrees.RBTree([(5, 'Alfa'), (2, 'Bravo'), (7,'Charlie'), (3,'Delta'), (6,'Echo')])\n",
    "print(t[2])\n",
    "print(t.min_item(), t.max_item())\n",
    "t.insert(9, 'Golf')\n",
    "print(t)\n",
    "print(t.min_key(), t.max_key())\n",
    "t.discard(3)\n",
    "print(t)\n",
    "a = t.pop_min()\n",
    "print(t)\n",
    "b = t.pop_max()\n",
    "print(t)"
   ]
  },
  {
   "cell_type": "markdown",
   "metadata": {},
   "source": [
    "## 14.1 Test if a binary tree satisfies the BST property"
   ]
  },
  {
   "cell_type": "code",
   "execution_count": 18,
   "metadata": {},
   "outputs": [
    {
     "name": "stdout",
     "output_type": "stream",
     "text": [
      "False\n",
      "True\n",
      "False\n",
      "True\n"
     ]
    }
   ],
   "source": [
    "import collections\n",
    "# Task: Write a Program that takes as input a binary tree and checks if the tree satisfies the BST property.\n",
    "\n",
    "# Basic Approach: starting from root-> compute largest in left subtree and smallest in right subtree -> check if BST property holds, then recursively move to next nodes\n",
    "# Time Compelxity:O(n^2)=> can be improved to O(n) by caching the largest and smallest keys at each node which requires O(n) additional storage\n",
    "\n",
    "# Optimized first approach: suppose if the range of all values in a BST is in the range [l,u] and if w is the root then the range of values in left subtree must be [l,w]\n",
    "# and the range of values in right subtree must be [w,u]\n",
    "# Time Complexity: O(N) Additional space complexity: O(h) \n",
    "def is_binary_tree_bst(tree, low_range=float('-inf'), high_range=float('inf')):\n",
    "    if not tree:\n",
    "        return True\n",
    "    elif not low_range <= tree.data <= high_range:\n",
    "        return False\n",
    "    return (is_binary_tree_bst(tree.left, low_range, tree.data) and is_binary_tree_bst(tree.right, tree.data, high_range))\n",
    "\n",
    "# This approach recursivly checks everynode until it reaches the end even if it finds a violation=> a BFS can be used to stop immediately a violation is found\n",
    "# Time Complexity: O(n) Additional space complexity: O(n)\n",
    "def is_binary_tree_bst_bfs(tree):\n",
    "    QueueEntry = collections.namedtuple('QueueEntry', ('node', 'lower', 'upper'))\n",
    "    bfs_queue = collections.deque([QueueEntry(tree, float('-inf'), float('inf'))])\n",
    "    \n",
    "    while bfs_queue:\n",
    "        front = bfs_queue.popleft()\n",
    "        if front.node:\n",
    "            if not front.lower <= front.node.data <= front.upper:\n",
    "                return False\n",
    "            bfs_queue += [QueueEntry(front.node.left, front.lower, front.node.data), QueueEntry(front.node.right, front.node.data, front.upper)]\n",
    "    return True\n",
    "\n",
    "# Optimized second approach: Inorder traversal of a BST must be in ascending order. If inorder traversal of given binary tree is in ascending order then it is a BST\n",
    "# Time Complexity: O(N)\n",
    "\n",
    "# Testing the code using examples\n",
    "print(is_binary_tree_bst(root))\n",
    "print(is_binary_tree_bst(bst_root))\n",
    "print(is_binary_tree_bst_bfs(root))\n",
    "print(is_binary_tree_bst_bfs(bst_root))"
   ]
  },
  {
   "cell_type": "markdown",
   "metadata": {},
   "source": [
    "## 14.2 Find the first key greater than a given value in a BST"
   ]
  },
  {
   "cell_type": "code",
   "execution_count": 10,
   "metadata": {},
   "outputs": [
    {
     "name": "stdout",
     "output_type": "stream",
     "text": [
      "The first element greater than 5 is 6\n"
     ]
    }
   ],
   "source": [
    "# Task: Write a program that takes as input a BST and a value, and returns the first key that would appear in an inorder traversal which is greater than the input value\n",
    "\n",
    "# Brute Force: Compute inorder traversal and then find the value greater than key. Time Complexity: O(N) - we are not using BST property here\n",
    "\n",
    "# Opt: Keep on updating the first_greater_than_k values while traversing the BST by eliminating subtrees using BST property.\n",
    "# Time Complexity: O(h) where h is the height of the tree Space Complexity: O(1)\n",
    "def find_first_greater_than_k(tree, k):\n",
    "    subtree, first_so_far = tree, None\n",
    "    while subtree:\n",
    "        if subtree.data > k:\n",
    "            first_so_far, subtree = subtree, subtree.left # keep searching in the left subtree\n",
    "        else:\n",
    "            subtree = subtree.right\n",
    "    return first_so_far\n",
    "\n",
    "print(f'The first element greater than 5 is {find_first_greater_than_k(bst_root, 5).data}')"
   ]
  },
  {
   "cell_type": "code",
   "execution_count": 21,
   "metadata": {},
   "outputs": [
    {
     "name": "stdout",
     "output_type": "stream",
     "text": [
      "The first element equal to 108 is 108 and its left child = -10 and right child = 108\n",
      "The first element equal to 108 is 285 and its left child = 243 and right child = 285\n"
     ]
    }
   ],
   "source": [
    "# Variant:  Write a program that takes as input a BST and a value, and returns the node whose key equals the input value and appears first in an inorder traversal of the BST\n",
    "def find_first_equal_to_k(tree, k):\n",
    "    subtree = tree\n",
    "    while subtree:\n",
    "        if subtree.data == k:\n",
    "            if not subtree.left or subtree.left.data < k: # we are only checking left as we want the first occurence in inorder traversal\n",
    "                return subtree\n",
    "            else:\n",
    "                subtree = subtree.left\n",
    "        elif subtree.data > k:\n",
    "            subtree = subtree.left\n",
    "        else:\n",
    "            subtree = subtree.right\n",
    "    return None\n",
    "\n",
    "tree = BSTNode(108)\n",
    "tree.left = BSTNode(108)\n",
    "tree.left.left = BSTNode(-10)\n",
    "tree.left.right = BSTNode(108)\n",
    "tree.left.left.left = BSTNode(-14)\n",
    "tree.left.left.right = BSTNode(2)\n",
    "tree.right = BSTNode(285)\n",
    "tree.right.left = BSTNode(243)\n",
    "tree.right.right = BSTNode(285)\n",
    "tree.right.right.right = BSTNode(401)\n",
    "\n",
    "result = find_first_equal_to_k(tree, 108)\n",
    "print(f'The first element equal to 108 is {result.data} and its left child = {result.left.data} and right child = {result.right.data}')\n",
    "result = find_first_equal_to_k(tree, 285)\n",
    "print(f'The first element equal to 108 is {result.data} and its left child = {result.left.data} and right child = {result.right.data}')"
   ]
  },
  {
   "cell_type": "markdown",
   "metadata": {},
   "source": [
    "## 14.3 Find the k largest elements in a BST"
   ]
  },
  {
   "cell_type": "code",
   "execution_count": 23,
   "metadata": {},
   "outputs": [
    {
     "name": "stdout",
     "output_type": "stream",
     "text": [
      "The 3 largest elements are: [14, 13, 10]\n"
     ]
    }
   ],
   "source": [
    "# Task: Write a program that takes as input a BST and an integer k, and returns the k largest elements in the BST in decreasing order\n",
    "\n",
    "# Brute Force: Perform inorder traversal and return the last k nodes which will be the k largest nodes Time Comeplexity:O(N)\n",
    "\n",
    "# Opt: Skip left subtree if k is smaller. So traverse in revers => reverse inorder : right->root->left stop immediately when the number of visited nodes reached k\n",
    "# Time Complexity: O(h + k) => program descends at most h times which is more than number of times it ascends. one node gets added to the array when the program ascens so at most k.\n",
    "def find_k_largest_in_bst(tree, k):\n",
    "    def find_k_largest_in_bst_helper(tree):\n",
    "        if not tree:\n",
    "            return tree\n",
    "        if len(k_largest_elements) < k:\n",
    "            find_k_largest_in_bst_helper(tree.right)\n",
    "            if len(k_largest_elements) < k:\n",
    "                k_largest_elements.append(tree.data)\n",
    "                find_k_largest_in_bst_helper(tree.left)\n",
    "                \n",
    "    k_largest_elements = []\n",
    "    find_k_largest_in_bst_helper(tree)\n",
    "    return k_largest_elements\n",
    "\n",
    "k = 3\n",
    "print(f'The {k} largest elements are: {find_k_largest_in_bst(bst_root, 3)}')"
   ]
  },
  {
   "cell_type": "markdown",
   "metadata": {},
   "source": [
    "# 14.4 Compute the LCA in a BST"
   ]
  },
  {
   "cell_type": "code",
   "execution_count": 27,
   "metadata": {},
   "outputs": [
    {
     "name": "stdout",
     "output_type": "stream",
     "text": [
      "The lca is 21\n",
      "The lca is 5\n"
     ]
    }
   ],
   "source": [
    "# Computing LCA in a BST is similar to computing LCA in binary tree\n",
    "# Task: Design an algorithm that takes as input a BST and two nodes, and retums the LCA of the two nodes. \n",
    "# Assume all keys are distinct. Nodes do not have references to their parents.\n",
    "\n",
    "# Algo can be improved for BST if the nodes are distinct. Given two nodes s and b (s < b), we have four possibilities:\n",
    "# - s is equal to root => root is the LCA\n",
    "# - s is less than root and b is greater than root => root is the LCA\n",
    "# - s and b both less than root => LCA lies in left subtree\n",
    "# - s and b both greater than root => LCA lies in right subtree\n",
    "\n",
    "# Time Complexity: O(h) as we descend one level with each iteration\n",
    "def find_LCA(tree, s, b):\n",
    "    while tree.data < s.data or tree.data > b.data:\n",
    "        while tree.data < s.data:\n",
    "            tree = tree.right\n",
    "        while tree.data > b.data:\n",
    "            tree = tree.left\n",
    "    # once the while loop condition fails => LCA is found\n",
    "    return tree # s.data <= tree.data and tree.data <= b.data\n",
    "\n",
    "tree = BSTNode(5)\n",
    "tree.left = BSTNode(2)\n",
    "tree.left.left = BSTNode(-4)\n",
    "tree.left.right = BSTNode(3)\n",
    "tree.right = BSTNode(18)\n",
    "tree.right.right = BSTNode(21)\n",
    "tree.right.right.left = BSTNode(19)\n",
    "tree.right.right.right = BSTNode(25)\n",
    "\n",
    "s = tree.right.right.left\n",
    "b = tree.right.right.right\n",
    "print(f'The lca is {find_LCA(tree, s, b).data}')\n",
    "s = tree.left\n",
    "b = tree.right\n",
    "print(f'The lca is {find_LCA(tree, s, b).data}')"
   ]
  },
  {
   "cell_type": "markdown",
   "metadata": {},
   "source": [
    "## 14.5 Reconstruct a BST from traversal data"
   ]
  },
  {
   "cell_type": "code",
   "execution_count": 15,
   "metadata": {},
   "outputs": [
    {
     "name": "stdout",
     "output_type": "stream",
     "text": [
      "The preorder traversal of BST is [5, 2, -4, 3, 18, 21, 19, 25]\n",
      "Method1:The preorder traversal of reconstructed BST from preorder traversal is [5, 2, -4, 3, 18, 21, 19, 25]\n",
      "Method2:The preorder traversal of reconstructed BST from preorder traversal is [5, 2, -4, 3, 18, 21, 19, 25]\n",
      "\n",
      "\n",
      "The postorder traversal of BST is [-4, 3, 2, 19, 25, 21, 18, 5]\n",
      "Method1:The postorder traversal of reconstructed BST from postorder traversal is [-4, 3, 2, 19, 25, 21, 18, 5]\n",
      "Method2:The postorder traversal of reconstructed BST from postorder traversal is [-4, 3, 2, 19, 25, 21, 18, 5]\n"
     ]
    }
   ],
   "source": [
    "# Task: Suppose you are given the sequence in which keys are visited in an inorder traversal of a BST, and all keys are distinct. Can you reconstruct the BST from the sequence? If so, write a program to do so. \n",
    "# Solve the same problem for preorder and postorder traversal sequences.\n",
    "# Sol: Inorder seq is not sufficient to reconstruct BST as BST with different structures can have the same inorder traversal. ex: BST with 1,2,3\n",
    "\n",
    "# Preorder: first node root followed by seq of left subtree(all nodes less than root) followed by seq of right subtree(all nodes greater than root)\n",
    "# we can recursively build a BST given a preorder seq\n",
    "# Time Complexity: worst case(left skewed tree) - O(n^2), best case(right skewed tree) - O(N), balanced BST - O(NlogN)\n",
    "def rebuild_bst_from_preorder(preorder_seq):\n",
    "    if not preorder_seq:\n",
    "        return None\n",
    "    # store the index of the first element that is greater than root \n",
    "    transition_point = next((i for i, a in enumerate(preorder_seq) if a > preorder_seq[0]), len(preorder_seq))\n",
    "    return BSTNode(preorder_seq[0], rebuild_bst_from_preorder(preorder_seq[1:transition_point]), rebuild_bst_from_preorder(preorder_seq[transition_point:]))\n",
    "\n",
    "# Time Complexity: O(N)\n",
    "def rebuild_bst_from_preorder_opt(preorder_seq):\n",
    "    def rebuild_bst_from_preorder_on_value_range(lower_bound, upper_bound):\n",
    "        if root_idx[0] == len(preorder_seq): # the seq is traversed completely\n",
    "            return None\n",
    "        \n",
    "        root = preorder_seq[root_idx[0]]\n",
    "        if not lower_bound <= root <= upper_bound: # checking bst property\n",
    "            return None\n",
    "        root_idx[0] += 1\n",
    "        # Build left and right subtrees recursively using bounds \n",
    "        left_subtree = rebuild_bst_from_preorder_on_value_range(lower_bound, root)\n",
    "        right_subtree = rebuild_bst_from_preorder_on_value_range(root, upper_bound)\n",
    "        return BSTNode(root, left_subtree, right_subtree)\n",
    "    \n",
    "    root_idx = [0]\n",
    "    return rebuild_bst_from_preorder_on_value_range(float('-inf'), float('inf'))\n",
    "\n",
    "# Time Complexity: worst case(left skewed tree) - O(n^2), best case(right skewed tree) - O(N), balanced BST - O(NlogN)\n",
    "def rebuild_bst_from_postorder(postorder_seq):\n",
    "    postorder_seq.reverse() # reverse the postorder seq => first node root followed by right subtree followed by left subtree\n",
    "    def rebuild_bst_from_postorder_helper(postorder_seq):\n",
    "        if not postorder_seq:\n",
    "            return None\n",
    "        # store the index of the first element that is greater than root \n",
    "        transition_point = next((i for i, a in enumerate(postorder_seq) if a < postorder_seq[0]), len(postorder_seq))\n",
    "        return BSTNode(postorder_seq[0], rebuild_bst_from_postorder_helper(postorder_seq[transition_point:]), \n",
    "                       rebuild_bst_from_postorder_helper(postorder_seq[1:transition_point]))\n",
    "    return rebuild_bst_from_postorder_helper(postorder_seq)\n",
    "\n",
    "# Time Complexity: O(N)\n",
    "def rebuild_bst_from_postorder_opt(postorder_seq):\n",
    "    def rebuild_bst_from_postorder_on_value_range(lower_bound, upper_bound):\n",
    "        if root_idx[0] == len(postorder_seq): # the seq is traversed completely\n",
    "            return None\n",
    "        \n",
    "        root = postorder_seq[root_idx[0]]\n",
    "        if not lower_bound <= root <= upper_bound: # checking bst property\n",
    "            return None\n",
    "        root_idx[0] += 1\n",
    "        # Build left and right subtrees recursively using bounds - first right then left\n",
    "        right_subtree = rebuild_bst_from_postorder_on_value_range(root, upper_bound)\n",
    "        left_subtree = rebuild_bst_from_postorder_on_value_range(lower_bound, root)\n",
    "        return BSTNode(root, left_subtree, right_subtree)\n",
    "    \n",
    "    root_idx = [0]\n",
    "    postorder_seq.reverse()\n",
    "    return rebuild_bst_from_postorder_on_value_range(float('-inf'), float('inf'))\n",
    "\n",
    "# preorder: root left right\n",
    "def preorder(root, result):\n",
    "    if root:\n",
    "        #print(root.data,end=\" \")\n",
    "        result.append(root.data)\n",
    "        preorder(root.left, result)\n",
    "        preorder(root.right, result)\n",
    "    return\n",
    "\n",
    "# Postorder: left right root\n",
    "def postorder(root, result):\n",
    "    if root is not None:\n",
    "        postorder(root.left, result)\n",
    "        postorder(root.right, result)\n",
    "        #print(root.data,end=\" \")\n",
    "        result.append(root.data)\n",
    "    return\n",
    "\n",
    "tree = BSTNode(5)\n",
    "tree.left = BSTNode(2)\n",
    "tree.left.left = BSTNode(-4)\n",
    "tree.left.right = BSTNode(3)\n",
    "tree.right = BSTNode(18)\n",
    "tree.right.right = BSTNode(21)\n",
    "tree.right.right.left = BSTNode(19)\n",
    "tree.right.right.right = BSTNode(25)\n",
    "preorder_seq, bst_tree_trav = [], []\n",
    "preorder(tree, preorder_seq)\n",
    "print(f'The preorder traversal of BST is {preorder_seq}')\n",
    "bst_tree = rebuild_bst_from_preorder(preorder_seq)\n",
    "preorder(bst_tree, bst_tree_trav)\n",
    "print(f'Method1:The preorder traversal of reconstructed BST from preorder traversal is {bst_tree_trav}')\n",
    "preorder_seq, bst_tree_trav = [], []\n",
    "preorder(tree, preorder_seq)\n",
    "bst_tree = rebuild_bst_from_preorder_opt(preorder_seq)\n",
    "preorder(bst_tree, bst_tree_trav)\n",
    "print(f'Method2:The preorder traversal of reconstructed BST from preorder traversal is {bst_tree_trav}')\n",
    "print('\\n')\n",
    "postorder_seq, bst_tree_trav = [], []\n",
    "postorder(tree, postorder_seq)\n",
    "print(f'The postorder traversal of BST is {postorder_seq}')\n",
    "bst_tree = rebuild_bst_from_postorder(postorder_seq)\n",
    "postorder(bst_tree, bst_tree_trav)\n",
    "print(f'Method1:The postorder traversal of reconstructed BST from postorder traversal is {bst_tree_trav}')\n",
    "postorder_seq, bst_tree_trav = [], []\n",
    "postorder(tree, postorder_seq)\n",
    "bst_tree = rebuild_bst_from_postorder_opt(postorder_seq)\n",
    "postorder(bst_tree, bst_tree_trav)\n",
    "print(f'Method2:The postorder traversal of reconstructed BST from postorder traversal is {bst_tree_trav}')"
   ]
  },
  {
   "cell_type": "markdown",
   "metadata": {},
   "source": [
    "## 14.6 Find the closest entries in three sorted arrays"
   ]
  },
  {
   "cell_type": "code",
   "execution_count": 27,
   "metadata": {},
   "outputs": [
    {
     "name": "stdout",
     "output_type": "stream",
     "text": [
      "Min distance:1\n",
      "The required triplet is: 15 15 16 "
     ]
    }
   ],
   "source": [
    "# Design an algorithm that takes three sorted arrays and returns one entry from each such that the minimum interval containing these three entries is as small as possible. \n",
    "# For example, if the three arraysare(5,10,15), <3,6,9,1,2,15),and(8,1,6,24>,then (15,15,16) lie in the smallest possible interval.\n",
    "\n",
    "# Brute Force: Take 3 for loops and find the triplet for which the diff of max and min values of the triplet is minimum. Time Complexity: O(lmn)\n",
    "import bintrees\n",
    "# Optimized approad: Take advantage of the sortedness of individual arrays\n",
    "# Get a triplet, find the min in the triplet replace the min with the next element in that corresponding sorted array\n",
    "# Time Complexity: O(NlogK) where N is the number of elements in all the sorted arrays and K is the number of sorted arrays \n",
    "def find_closes_elements_in_sorted_arrays(sorted_arrays):\n",
    "    min_distance_so_far = float('+inf')\n",
    "    result = []\n",
    "    # we repeatedly insert, delete, find minimum, find maximum among k entries\n",
    "    # - BST is a natural choice as these operations can be performed in O(logk)\n",
    "    iters = bintrees.RBTree() # stores iterator for each sorted array\n",
    "    for idx, sorted_array in enumerate(sorted_arrays): # runs 3 times as we have 3 sorted arrays as input\n",
    "        it = iter(sorted_array) # Get iterator for the sorted array\n",
    "        first_min = next(it, None)\n",
    "        if first_min is not None:\n",
    "            # Store ((first_min_value_of_each_array : index_of_current_array_in_sorted_arrays) : array_iterator)\n",
    "            iters.insert((first_min, idx), it) \n",
    "    \n",
    "    while True:\n",
    "        min_value, min_idx = iters.min_key()\n",
    "        max_value = iters.max_key()[0]\n",
    "        min_distance = max_value - min_value\n",
    "        if min_distance < min_distance_so_far:\n",
    "            min_distance_so_far = min_distance\n",
    "            result = list(iters.keys())\n",
    "            #print(result)\n",
    "            \n",
    "        min_distane_so_far = min(max_value - min_value, min_distance_so_far) # update min distance \n",
    "        it = iters.pop_min()[1] # The min value in the triplet has a corresponding sorted array - get its iterator and replace min with next element in that sorted array\n",
    "        next_min = next(it, None)\n",
    "        if next_min is None: # one of the sorted array reached its end - so return the min distance\n",
    "            return min_distance_so_far, result\n",
    "        iters.insert((next_min, min_idx), it)\n",
    "\n",
    "sorted_arrays = [[5,10,15], [3,6,9,12,15], [8,16,24]]\n",
    "min_distance, triplet = find_closes_elements_in_sorted_arrays(sorted_arrays)\n",
    "print(f'Min distance:{min_distance}')\n",
    "print('The required triplet is:', end = \" \")\n",
    "for i in range(len(triplet)):\n",
    "    print(triplet[i][0], end = \" \")"
   ]
  },
  {
   "cell_type": "markdown",
   "metadata": {},
   "source": [
    "## 14.7 Enumerate numbers of the form a+b(sqrt(2))"
   ]
  },
  {
   "cell_type": "code",
   "execution_count": 34,
   "metadata": {},
   "outputs": [
    {
     "name": "stdout",
     "output_type": "stream",
     "text": [
      "The 3 smallest values are:[0.0, 1.0, 1.4142135623730951]\n",
      "The 5 smallest values are:[0.0, 1.0, 1.4142135623730951, 2.0, 2.414213562373095]\n",
      "The 3 smallest values using linear algo are:[0.0, 1.0, 1.4142135623730951]\n",
      "The 5 smallest values using linear algo are:[0.0, 1.0, 1.4142135623730951, 2.0, 2.414213562373095]\n"
     ]
    }
   ],
   "source": [
    "# Design an algorithm for efficiently computing the k smallest numbers of the form a + b(sqrt(2)) tor nonnegative integers a and b\n",
    "\n",
    "# Brute Force: Generate all numbers of the form a + b(sqrt(2)) where a and b are integers, 0<=a,b<=k-1\n",
    "# - we will get k^2 numbers and k smallest numbers must be present in this collection. Sort k^2 numbers and get k smallest\n",
    "# - Time Complexity: O(k^2) + O(k^2log(k^2)) = O(k^2logk)\n",
    "\n",
    "import math\n",
    "\n",
    "# Optimized Approach: we know that the smallest number is 0+0(sqrt(2))=>next smallest 1+0(sqrt(2)), 0+1(sqrt(2)). use a BST to pop min and insert next two elements\n",
    "class ABSqrt2:\n",
    "    def __init__(self, a, b):\n",
    "        self.a, self.b = a, b\n",
    "        self.val = a + b*(math.sqrt(2))\n",
    "    \n",
    "    def __lt__(self, other):\n",
    "        return self.val < other.val\n",
    "    \n",
    "    def __eq__(self, other):\n",
    "        return self.val == other.val\n",
    "    \n",
    "# Time Complexity:O(klogk) as we perform one deletion(O(logk)) and two insertion(O(logk)) for k times \n",
    "# Space Complexity: O(k) since there are not more than 2k insertions\n",
    "def generate_first_k_a_b_sqrt2(k):\n",
    "    candidates = bintrees.RBTree([(ABSqrt2(0,0),None)]) # initialize RBTree with 0+0(sqrt(2))\n",
    "    \n",
    "    result = []\n",
    "    while len(result) < k:\n",
    "        next_smallest = candidates.pop_min()[0] # pop smallest key from RBTree and add it to result\n",
    "        result.append(next_smallest.val)\n",
    "        # Perform 2 insertions using the popped smallest value\n",
    "        candidates[ABSqrt2(next_smallest.a+1, next_smallest.b)] = None\n",
    "        candidates[ABSqrt2(next_smallest.a, next_smallest.b + 1)] = None\n",
    "    return result\n",
    "\n",
    "# Linear Time Approach: Find the next smallest A[i] + 1 or A[j] + sqrt(2) such that A[i] + 1 > A[n-1] and A[j] +sqrt(2) > A[n-1]\n",
    "# - choose the smallest among A[i] + 1 and A[j] + sqrt(2) and place it in A[n] and increment i or j value accordringly. If both are equal, increment both\n",
    "# Time Complexity: O(k) where k is the number of smallest elements needed\n",
    "def generate_first_k_a_b_sqrt2_linear(k):\n",
    "    cand = [ABSqrt2(0,0)] # will store the values in a list\n",
    "    i = j = 0\n",
    "    for _ in range(1,k):\n",
    "        cand_i_plus_1 = ABSqrt2(cand[i].a+1, cand[i].b)\n",
    "        cand_j_plus_sqrt2 = ABSqrt2(cand[j].a , cand[j].b+1)\n",
    "        cand.append(min(cand_i_plus_1, cand_j_plus_sqrt2))\n",
    "        if cand_i_plus_1.val == cand[-1].val:\n",
    "            i += 1\n",
    "        if cand_j_plus_sqrt2.val == cand[-1].val:\n",
    "            j += 1\n",
    "    return [a.val for a in cand]\n",
    "\n",
    "k = 3\n",
    "print(f'The {k} smallest values are:{generate_first_k_a_b_sqrt2(k)}')\n",
    "k = 5\n",
    "print(f'The {k} smallest values are:{generate_first_k_a_b_sqrt2(k)}')\n",
    "k = 3\n",
    "print(f'The {k} smallest values using linear algo are:{generate_first_k_a_b_sqrt2_linear(k)}')\n",
    "k = 5\n",
    "print(f'The {k} smallest values using linear algo are:{generate_first_k_a_b_sqrt2_linear(k)}')"
   ]
  },
  {
   "cell_type": "markdown",
   "metadata": {},
   "source": [
    "## 14.8 Build a minimum height BST from a sorted array"
   ]
  },
  {
   "cell_type": "code",
   "execution_count": 36,
   "metadata": {},
   "outputs": [
    {
     "name": "stdout",
     "output_type": "stream",
     "text": [
      "Height of the constructed bst is 3\n"
     ]
    }
   ],
   "source": [
    "# Task: How would you build a BST of minimum possible height from a sorted array?\n",
    "# Brute Force: Generating all possible BST using the sorted array leads to nontrivial recursion with enormous time complexity\n",
    "\n",
    "# To get min height BST, the BST needs to be balanced\n",
    "# Given a sorted array of size n => choose floor(n/2)the element as the root and build the BST on either side recrusively\n",
    "# Time Complexity: T(n) = 2T(n/2) + O(1)which solves to T(n) = O(n)\n",
    "# Another explanation for the time complexity is that we make exactly n calls to the recursive function and spend O(1) within each call.\n",
    "def build_min_height_bst_from_sorted_array(A):\n",
    "    def build_min_height_bst_from_sorted_sub_array(start, end):\n",
    "        if start >= end: # end is not included so we check >=\n",
    "            return None\n",
    "        mid = (start + end) // 2\n",
    "        return BSTNode(A[mid], build_min_height_bst_from_sorted_sub_array(start, mid), build_min_height_bst_from_sorted_sub_array(mid+1, end))\n",
    "    return build_min_height_bst_from_sorted_sub_array(0, len(A)) \n",
    "\n",
    "sorted_array = [2,3,5,7,11,13,17,19,23]\n",
    "min_height_bst = build_min_height_bst_from_sorted_array(sorted_array)\n",
    "\n",
    "def get_tree_height(root, height):\n",
    "    if root:\n",
    "        if root.left or root.right:\n",
    "            h_l = get_tree_height(root.left, height+1)\n",
    "            h_r = get_tree_height(root.right, height+1)\n",
    "            height = max(h_l, h_r)\n",
    "    return height\n",
    "\n",
    "print(f'Height of the constructed bst is {get_tree_height(min_height_bst, 0)}')"
   ]
  },
  {
   "cell_type": "markdown",
   "metadata": {},
   "source": [
    "## 14.9 Test if three BST nodes are totally ordered"
   ]
  },
  {
   "cell_type": "code",
   "execution_count": 40,
   "metadata": {},
   "outputs": [
    {
     "name": "stdout",
     "output_type": "stream",
     "text": [
      "are totally ordered:True\n",
      "are totally ordered:False\n"
     ]
    }
   ],
   "source": [
    "# Write a program which takes two nodes in a BST and a third node, the \"middle\" node, \n",
    "# and determines if one of the two nodes is a proper ancestor and the other a proper descendant of the middle. \n",
    "# All keys are unique and nodes do not have pointers to their parent\n",
    "\n",
    "# Brute Force: check if first node is proper ancestor of middle and second node is proper descendant=> if not swap nodes and check again\n",
    "# - Time Complexity: O(h) \n",
    "\n",
    "# Optimized Approach: search for middle from both nodes in an interleaved fashion => once middle is found start searching for second from middle node\n",
    "# Time Complexity: if nodes are totally ordered then O(d) where d is difference between depth of both nodes\n",
    "# - If nodes are not totally ordered, then time complexity is O(h) which corresponds to worst-case search in BST\n",
    "def pair_includes_ancestor_and_descendant_of_m(possible_anc_or_dec_0, possible_anc_or_dec_1, middle):\n",
    "    search_0, search_1 = possible_anc_or_dec_0, possible_anc_or_dec_1\n",
    "    # Perform interleaved searching for middle form both nodes\n",
    "    while((search_0 or search_1) and search_0 is not possible_anc_or_dec_1 and search_0 is not middle and \n",
    "         search_1 is not possible_anc_or_dec_0 and search_1 is not middle):\n",
    "        if search_0:\n",
    "            search_0 = search_0.left if search_0.data > middle.data else search_0.right\n",
    "        if search_1:\n",
    "            search_1 = search_1.left if search_1.data > middle.data else search_1.right\n",
    "    \n",
    "    # If search_0 reached search_1 or search_1 reached search_0 without seeing middle then middle cannot be between them\n",
    "    if((search_0 is not middle and search_1 is not middle) or search_0 is possible_anc_or_dec_1 or search_1 is possible_anc_or_dec_0):\n",
    "        return False\n",
    "    \n",
    "    def search_target(source, target):\n",
    "        while source and source is not target:\n",
    "            source = source.left if source.data > target.data else source.right\n",
    "        return source is target\n",
    "    \n",
    "    # middle is reached from search_0 or search_1(got ancestor of middle) so search for second node from middle(check if second node is descendant of middle)\n",
    "    return search_target(middle, possible_anc_or_dec_0 if search_1 is middle else possible_anc_or_dec_1)\n",
    "\n",
    "tree = BSTNode(5)\n",
    "tree.left = BSTNode(2)\n",
    "tree.left.left = BSTNode(-4)\n",
    "tree.left.right = BSTNode(3)\n",
    "tree.right = BSTNode(18)\n",
    "tree.right.right = BSTNode(21)\n",
    "tree.right.right.left = BSTNode(19)\n",
    "tree.right.right.right = BSTNode(25)\n",
    "print(f'are totally ordered:{pair_includes_ancestor_and_descendant_of_m(tree, tree.left.left, tree.left)}')\n",
    "print(f'are totally ordered:{pair_includes_ancestor_and_descendant_of_m(tree.right, tree.right.right.left, tree.left)}')"
   ]
  },
  {
   "cell_type": "markdown",
   "metadata": {},
   "source": [
    "## 14.10 The range lookup problem"
   ]
  },
  {
   "cell_type": "code",
   "execution_count": 49,
   "metadata": {},
   "outputs": [
    {
     "name": "stdout",
     "output_type": "stream",
     "text": [
      "The bst nodes in the given interval are:[2, 3, 5, 18, 19, 21]\n"
     ]
    }
   ],
   "source": [
    "# Task: Write a program that takes as input a BST and an interval and retums the BST keys that lie in the interval\n",
    "# Application example: nearest restaurant finder in a range given the current location\n",
    "\n",
    "# Brute Force: perform traversal(inorder, preorder, postorder) of the bst and return nodes in the given range. Time Complexity: O(N)\n",
    "import collections\n",
    "# Opt: use bst property:\n",
    "# - if root cantains value less than left endpoint of the interval, prune left subtree\n",
    "# - if root contrains value greater than right endpoint og the interval, prune right subtree\n",
    "def range_lookup_in_bst(tree, interval):\n",
    "    def range_lookup_in_bst_helper(tree):\n",
    "        if tree is None:\n",
    "            return None\n",
    "        \n",
    "        if interval.left <= tree.data <= interval.right:\n",
    "            # tree.data lies in the interval\n",
    "            range_lookup_in_bst_helper(tree.left)\n",
    "            result.append(tree.data)\n",
    "            range_lookup_in_bst_helper(tree.right)\n",
    "        elif interval.left > tree.data:\n",
    "            range_lookup_in_bst_helper(tree.right)\n",
    "        elif interval.right < tree.data:\n",
    "            range_lookup_in_bst_helper(tree.left)\n",
    "    \n",
    "    result = []\n",
    "    range_lookup_in_bst_helper(tree)\n",
    "    return result\n",
    "\n",
    "tree = BSTNode(5)\n",
    "tree.left = BSTNode(2)\n",
    "tree.left.left = BSTNode(-4)\n",
    "tree.left.right = BSTNode(3)\n",
    "tree.right = BSTNode(18)\n",
    "tree.right.right = BSTNode(21)\n",
    "tree.right.right.left = BSTNode(19)\n",
    "tree.right.right.right = BSTNode(25)\n",
    "Interval = collections.namedtuple('Interval',('left', 'right'))\n",
    "interval = Interval(left = 1, right = 22)\n",
    "print(f'The bst nodes in the given interval are:{range_lookup_in_bst(tree, interval)}')\n",
    "\n",
    "# Time complexity: O(m+h)\n",
    "# we can do better by augmenting the BST with size field. Given a interval [l,r]\n",
    "# - find number of nodes less than l and delete them - size can be updated with O(h)\n",
    "# - find number of nodes greater than r and delete them \n",
    "# this gives us a time complexity of O(h) which is much better than O(m+h) when m is large"
   ]
  },
  {
   "cell_type": "markdown",
   "metadata": {},
   "source": [
    "# 14.11 Add Credits"
   ]
  },
  {
   "cell_type": "code",
   "execution_count": null,
   "metadata": {},
   "outputs": [],
   "source": [
    "# Consider a server that a large number of clients connect to. Each client is identified by a string. Each client has a \"credit\", which is a nonnegative integer value. \n",
    "# The server needs to maintain a data structure to which clients can be added, removed, queried, or updated. In addition, the server needs to be able to add a specified number of credits to all clients simultaneously.\n",
    "# Design a data structure that implements the following methods: \n",
    "# - Insert: add a client with specified credit, replacing any existing entry for the client. \n",
    "# - Remove: delete the specified client.\n",
    "# - Lookup: return the number of credits associated with the specified client. \n",
    "# - Add-to-all: increment the credit count for all current clients by the specified amount. \n",
    "# - Max: retum a client with the highest number of credits.\n",
    "\n",
    "# sol: hast table can be used but it does not have efficient max and add-to-all. BST supports all operations efficiently except add-to-all.\n",
    "# so, use a wrapper which stores the clients in a bst and add-to-all is handled by the wrapper\n",
    "\n",
    "class ClientsCreditsInfo:\n",
    "    def __into__(self):\n",
    "        self._offset = 0\n",
    "        self._client_to_credit = {} # hash table to store key=client : value=credit # makes insert, remove, lookup by client efficient\n",
    "        self._credit_to_clients = bintrees.RBTree() # bst to store key=credit and value=clients with that credit - makes max efficient\n",
    "    \n",
    "    # Time Compelxity: dominated by bst - O(logn) where n is the number of clients in the data structure\n",
    "    def insert(self, client_id, c):\n",
    "        self.remove(client_id)\n",
    "        self._client_to_credit[client_id] = c\n",
    "        self._credit_to_clients.setdefault(c-self._offset, set()).add(client_id)\n",
    "    \n",
    "    # Time Compelxity: dominated by bst - O(logn) where n is the number of clients in the data structure\n",
    "    def remove(self, client_id):\n",
    "        credit = self._client_to_credit[client_id]\n",
    "        if credit is not None:\n",
    "            self._credit_to_clients[clients].remove(client_id) # remove client_id from the list of all clients for this credit for bst\n",
    "            if not self._credit_to_clients[clients]: # if the list becomes empty for this credit, remove credit from bst\n",
    "                del self._credit_to_clients[clients]\n",
    "            del self.__client_to_credit[client_id]\n",
    "            return True\n",
    "        return False\n",
    "    \n",
    "    # Time Complexity: only used hash table = O(1)\n",
    "    def lookup(self, client_id):\n",
    "        credit = self._client_to_credit.get(client_id)\n",
    "        return -1 if credit is None else credit + self._offset\n",
    "    \n",
    "    # Time Complexity: only used hash table = O(1)\n",
    "    def add_all(self, C):\n",
    "        self._offset += C\n",
    "    \n",
    "    # library bst implementations uses cache to perform max so O(1)\n",
    "    def max_credit(self):\n",
    "        if not self._credit_to_clients:\n",
    "            return ''\n",
    "        clients = self._credit_to_clients.max_item()[1]\n",
    "        return '' if not clients else next(iter(clients))"
   ]
  }
 ],
 "metadata": {
  "kernelspec": {
   "display_name": "Python 3",
   "language": "python",
   "name": "python3"
  },
  "language_info": {
   "codemirror_mode": {
    "name": "ipython",
    "version": 3
   },
   "file_extension": ".py",
   "mimetype": "text/x-python",
   "name": "python",
   "nbconvert_exporter": "python",
   "pygments_lexer": "ipython3",
   "version": "3.8.3"
  }
 },
 "nbformat": 4,
 "nbformat_minor": 2
}
