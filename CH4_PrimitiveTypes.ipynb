{
 "cells": [
  {
   "cell_type": "markdown",
   "metadata": {},
   "source": [
    "# CH4 Primitive Types"
   ]
  },
  {
   "cell_type": "code",
   "execution_count": null,
   "metadata": {},
   "outputs": [],
   "source": [
    "# Some important notes:\n"
   ]
  },
  {
   "cell_type": "code",
   "execution_count": 5,
   "metadata": {},
   "outputs": [
    {
     "name": "stdout",
     "output_type": "stream",
     "text": [
      "Number of 1s in 1 is 1\n",
      "Number of 1s in 3 is 2\n"
     ]
    }
   ],
   "source": [
    "# Task: Count the number of bits that are set to 1 in a positive integer\n",
    "# Time Complexity: O(n)\n",
    "def count_bits(x):\n",
    "    num_bits = 0\n",
    "    while x:\n",
    "        num_bits += x & 1\n",
    "        x = x >> 1\n",
    "    return num_bits\n",
    "\n",
    "print(f\"Number of 1s in 1 is {count_bits(1)}\")\n",
    "print(f\"Number of 1s in 3 is {count_bits(3)}\")\n",
    "# print(f\"Number of 1s in -3 is {count_bits(-3)}\") # this leads to infinite loop "
   ]
  },
  {
   "cell_type": "code",
   "execution_count": null,
   "metadata": {},
   "outputs": [],
   "source": [
    "# Section4.1: Computing the parity of a  word"
   ]
  },
  {
   "cell_type": "code",
   "execution_count": 8,
   "metadata": {},
   "outputs": [
    {
     "name": "stdout",
     "output_type": "stream",
     "text": [
      "Parity of 3 is 0\n",
      "Parity of 1 is 1\n"
     ]
    }
   ],
   "source": [
    "# Task: Find the parity of a number\n",
    "# Parity is 1 if the number of ones in a binary number is odd else parity is zero\n",
    "# Time Complexity: O(n)\n",
    "def parity(x):\n",
    "    result = 0\n",
    "    while x:\n",
    "        result ^= x & 1\n",
    "        x >>= 1\n",
    "    return result\n",
    "\n",
    "print(f'Parity of 3 is {parity(3)}')\n",
    "print(f'Parity of 1 is {parity(1)}')"
   ]
  },
  {
   "cell_type": "code",
   "execution_count": 10,
   "metadata": {},
   "outputs": [
    {
     "name": "stdout",
     "output_type": "stream",
     "text": [
      "entered\n",
      "Parity of 3 is 0\n",
      "entered\n",
      "Parity of 1 is 1\n"
     ]
    }
   ],
   "source": [
    "# Trick: x&(x-1) equls x with its least set bit erased\n",
    "# The first one from RHS will be set to 0\n",
    "# Time Complexity: O(k) where k os the number of ones in the given input \n",
    "def parity(x):\n",
    "    result = 0\n",
    "    while(x):\n",
    "        result ^= 1\n",
    "        x &= (x-1)\n",
    "    return result\n",
    "print(f'Parity of 3 is {parity(3)}')\n",
    "print(f'Parity of 1 is {parity(1)}')"
   ]
  },
  {
   "cell_type": "code",
   "execution_count": 13,
   "metadata": {},
   "outputs": [
    {
     "name": "stdout",
     "output_type": "stream",
     "text": [
      "Isolate lowest bit 1 from 10(1010) is 2\n",
      "Isolate lowest bit 1 from 11(1011) is 1\n"
     ]
    }
   ],
   "source": [
    "# Trick: x&(x-1) isolates lowest bit that is 1 in x\n",
    "def isolate(x):\n",
    "    return x&~(x-1)\n",
    "\n",
    "print(f\"Isolate lowest bit 1 from 10(1010) is {isolate(10)}\")\n",
    "print(f\"Isolate lowest bit 1 from 11(1011) is {isolate(11)}\")    "
   ]
  },
  {
   "cell_type": "code",
   "execution_count": 1,
   "metadata": {},
   "outputs": [
    {
     "name": "stdout",
     "output_type": "stream",
     "text": [
      "Parity = 1\n"
     ]
    }
   ],
   "source": [
    "# Cache can be used to compute parity of large words\n",
    "# Precomputing parity of 2^64 bits is not possible as we would need large storage space\n",
    "# So lets precompute for 2^16 bits as it would be 65536 which is a small number \n",
    "# Time complexity = O(n/l) here n = 64 and l = 16 which is chosen sub word lenght \n",
    "def parity(x):\n",
    "    result = 0\n",
    "    while(x):\n",
    "        result ^= 1\n",
    "        x &= (x-1)\n",
    "    return result\n",
    "        \n",
    "def precomputeParity(MASK_SIZE):\n",
    "    PRECOMPUTED_PARITY = {}\n",
    "    for i in range(0,2**MASK_SIZE):\n",
    "        PRECOMPUTED_PARITY[i] = parity(i)\n",
    "    return PRECOMPUTED_PARITY    \n",
    "\n",
    "def parity_cache(x):\n",
    "    MASK_SIZE = 16\n",
    "    PRECOMPUTED_PARITY = precomputeParity(MASK_SIZE)\n",
    "    BIT_MASK = 0xFFFF\n",
    "    result = PRECOMPUTED_PARITY[x >> (3 * MASK_SIZE)] ^ PRECOMPUTED_PARITY[(x >> (2 * MASK_SIZE)) & BIT_MASK] ^ PRECOMPUTED_PARITY[(x >> (MASK_SIZE)) & BIT_MASK] ^ PRECOMPUTED_PARITY[(x & BIT_MASK)]\n",
    "    return result \n",
    "\n",
    "input = 12005418564949\n",
    "print(f\"Parity = {parity_cache(input)}\")"
   ]
  },
  {
   "cell_type": "code",
   "execution_count": 5,
   "metadata": {},
   "outputs": [
    {
     "name": "stdout",
     "output_type": "stream",
     "text": [
      "Parity = 1\n"
     ]
    }
   ],
   "source": [
    "# XOR is 1 if one bit is 1 and other is 0 this is similar to parity\n",
    "# Computing parity using XOR as XOR is associative(does not matter how the bits are groupued) and commutative(order does not matter)\n",
    "# Time Complexity: O(logn)\n",
    "# TimeComplexity: O(1)\n",
    "def parity(x):\n",
    "    x ^= x >> 32\n",
    "    x ^= x >> 16\n",
    "    x ^= x >> 8\n",
    "    x ^= x >> 4\n",
    "    x ^= x >> 2\n",
    "    x ^= x >> 1\n",
    "    return x & 0x1\n",
    "\n",
    "input = 12005418564949\n",
    "print(f\"Parity = {parity_cache(input)}\")"
   ]
  },
  {
   "cell_type": "code",
   "execution_count": 15,
   "metadata": {},
   "outputs": [
    {
     "name": "stdout",
     "output_type": "stream",
     "text": [
      "95\n"
     ]
    }
   ],
   "source": [
    "# Task: Right propagate the rightmost set bit in x, e.9., tums (01010000)2=(80) to (01011111)2 = (95) in O(1)\n",
    "def propagate(x):\n",
    "    isolate = x&~(x-1)\n",
    "    propagate = (x | ((isolate-1)))\n",
    "    return propagate\n",
    "\n",
    "print(propagate(80))"
   ]
  },
  {
   "cell_type": "code",
   "execution_count": 27,
   "metadata": {},
   "outputs": [
    {
     "name": "stdout",
     "output_type": "stream",
     "text": [
      "13\n",
      "1\n"
     ]
    }
   ],
   "source": [
    "# Task: Compute r mod a power of two, e.9., retums 13 for77 mod 64.\n",
    "# If y is 2^n then strip all bits but keep the lowest n bits of the number\n",
    "# https://stackoverflow.com/questions/6670715/mod-of-power-2-on-bitwise-operators\n",
    "# TimeComplexity: O(1)\n",
    "def mod(x, y):\n",
    "    return (x & (y-1))\n",
    "\n",
    "print(mod(77, 64))\n",
    "print(mod(77,4))"
   ]
  },
  {
   "cell_type": "code",
   "execution_count": 30,
   "metadata": {},
   "outputs": [
    {
     "name": "stdout",
     "output_type": "stream",
     "text": [
      "True\n",
      "False\n"
     ]
    }
   ],
   "source": [
    "# Task: Test if x is a power of 2, ie, evalueates to true for x = 1,2,4,8 ... false for all other values\n",
    "# Logic: powers of 2 has exactly one 1 in the whole binary number => removing it leads to zero\n",
    "# TimeComplexity: O(1)\n",
    "def isPowerOf2(x):\n",
    "    if(x & (x-1)):\n",
    "        return False\n",
    "    else:\n",
    "        return True\n",
    "    \n",
    "print(isPowerOf2(16))\n",
    "print(isPowerOf2(5))"
   ]
  },
  {
   "cell_type": "code",
   "execution_count": 32,
   "metadata": {},
   "outputs": [
    {
     "name": "stdout",
     "output_type": "stream",
     "text": [
      "11\n"
     ]
    }
   ],
   "source": [
    "# Section4.2: Swap Bits\n",
    "\n",
    "# Bits need to be swapped only if they are different\n",
    "# Swapping is nothing but toggling bits at the given locations if they are different\n",
    "# TimeComplexity: O(1)\n",
    "def swap_bits(x, i, j):\n",
    "    if(((x >> i) & 1) != ((x >> j) & 1)): # Extracting the bits at ith an jth positions\n",
    "        bit_mask = (1 << i) | (1 << j) \n",
    "        x ^= bit_mask # toggle\n",
    "    return x\n",
    "print(swap_bits(73,1,6 ))"
   ]
  },
  {
   "cell_type": "code",
   "execution_count": 8,
   "metadata": {},
   "outputs": [
    {
     "name": "stdout",
     "output_type": "stream",
     "text": [
      "5\n",
      "31\n"
     ]
    }
   ],
   "source": [
    "# Section4.3: Reverse Bits\n",
    "import math\n",
    "# Task: Given a 64 bit unsigned integer => return 64 bit unsigned interger in reverse order.\n",
    "# Brute Force: Similar to swap TimeComplexity: O(N)\n",
    "def reverse_bits(x):\n",
    "    n = int(math.log(x,2))\n",
    "    print(n)\n",
    "    for i in range(0,n):\n",
    "        j = n-i\n",
    "        if(((x >> i) & 1) != ((x >> j) & 1)): # Extracting the bits at ith an jth positions\n",
    "            bit_mask = (1 << i) | (1 << j) \n",
    "            x ^= bit_mask # toggle\n",
    "    return x\n",
    "print(reverse_bits(62))"
   ]
  },
  {
   "cell_type": "code",
   "execution_count": 17,
   "metadata": {},
   "outputs": [
    {
     "name": "stdout",
     "output_type": "stream",
     "text": [
      "input:0b111000110101111001110111011101000111111000111110010010101010111110\n",
      "output:0b101010111111111110001111100111011101110100011000110101111001\n"
     ]
    }
   ],
   "source": [
    "# If we want to use reverse multiple times then we can precompute the values and use a look up table.\n",
    "# Time complexity = O(n/l) here n = 64 and l = 16 which is chosen sub word length\n",
    "import math\n",
    "def reverse(x):\n",
    "    n = int(math.log(x,2))\n",
    "    for i in range(0,n):\n",
    "        j = n-i\n",
    "        if(((x >> i) & 1) != ((x >> j) & 1)): # Extracting the bits at ith an jth positions\n",
    "            bit_mask = (1 << i) | (1 << j) \n",
    "            x ^= bit_mask # toggle\n",
    "    return x\n",
    "\n",
    "def precomputeReverse(MASK_SIZE):\n",
    "    PRECOMPUTED_REVERSE = {}\n",
    "    PRECOMPUTED_REVERSE[0] = 0\n",
    "    PRECOMPUTED_REVERSE[1] = 1\n",
    "    for i in range(2, 2**MASK_SIZE):\n",
    "        PRECOMPUTED_REVERSE[i] = reverse(i)\n",
    "    return PRECOMPUTED_REVERSE\n",
    "\n",
    "def reverse_bits(x):\n",
    "    MASK_SIZE = 16\n",
    "    BIT_MASK = 0xFFFF\n",
    "    PRECOMPUTED_REVERSE = precomputeReverse(MASK_SIZE)\n",
    "    result = ((PRECOMPUTED_REVERSE[x & BIT_MASK] << (3 * MASK_SIZE)) | (PRECOMPUTED_REVERSE[(x >> MASK_SIZE) & BIT_MASK] << (2 * MASK_SIZE)) | (PRECOMPUTED_REVERSE[(x >>(2 * MASK_SIZE)) & BIT_MASK] << (MASK_SIZE)) | PRECOMPUTED_REVERSE[(x >>(3 * MASK_SIZE)) & BIT_MASK])\n",
    "    return result\n",
    "\n",
    "input = 65534655346553465534\n",
    "print(f\"input:{bin(input)}\")\n",
    "print(f'output:{bin(reverse_bits(input))}')"
   ]
  },
  {
   "cell_type": "code",
   "execution_count": null,
   "metadata": {},
   "outputs": [],
   "source": [
    "# Section4.4: Find a closest integer with same weight\n"
   ]
  }
 ],
 "metadata": {
  "kernelspec": {
   "display_name": "Python 3",
   "language": "python",
   "name": "python3"
  },
  "language_info": {
   "codemirror_mode": {
    "name": "ipython",
    "version": 3
   },
   "file_extension": ".py",
   "mimetype": "text/x-python",
   "name": "python",
   "nbconvert_exporter": "python",
   "pygments_lexer": "ipython3",
   "version": "3.8.3"
  }
 },
 "nbformat": 4,
 "nbformat_minor": 2
}
