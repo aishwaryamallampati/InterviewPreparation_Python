{
 "cells": [
  {
   "cell_type": "markdown",
   "metadata": {},
   "source": [
    "# CH20 Design Problems"
   ]
  },
  {
   "cell_type": "code",
   "execution_count": 1,
   "metadata": {},
   "outputs": [],
   "source": [
    "# Some important notes:\n",
    "# When someone asks about how to design a project, we should demonstrate an ability to think creatively, understand design trade-offs\n",
    "# and attack unfamiliar problems. Sketch dta structures and algo, technology stack(programming language, libraries, OS, hardwara and services) that are needed to solve the problem.\n",
    "# Things to keep in mind when desinging a system are implementation time, extensibility, scalability, testability, security, internationalization and IP issues."
   ]
  }
 ],
 "metadata": {
  "kernelspec": {
   "display_name": "Python 3",
   "language": "python",
   "name": "python3"
  },
  "language_info": {
   "codemirror_mode": {
    "name": "ipython",
    "version": 3
   },
   "file_extension": ".py",
   "mimetype": "text/x-python",
   "name": "python",
   "nbconvert_exporter": "python",
   "pygments_lexer": "ipython3",
   "version": "3.8.3"
  }
 },
 "nbformat": 4,
 "nbformat_minor": 2
}
