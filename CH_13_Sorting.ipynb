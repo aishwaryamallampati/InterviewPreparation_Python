{
 "cells": [
  {
   "cell_type": "markdown",
   "metadata": {},
   "source": [
    "# CH13 Sorting"
   ]
  },
  {
   "cell_type": "code",
   "execution_count": 2,
   "metadata": {},
   "outputs": [],
   "source": [
    "# Some important notes:\n",
    "# A number of sorting algorithms run in O(nlogn) time-heapsort, merge sort, and quicksort are examples. Each has its advantages and disadvantages:\n",
    "# for example, heapsort is in-place but not stable; merge sort is stable but not in-place; quicksort runs O(n2) time in worst-case. \n",
    "# (An in-place sort is one which uses 0(1) space; a stable sort is one where entries which are equal appear in their original order.)\n",
    "# A well implemented quick sort is usually the best choice for sorting.\n",
    "# How to decide which sorting algorithm to use given a particular situation:\n",
    "# - For short arrays, e.g., 10 or fewer elements, insertion sort is easier to code and faster than asymptotically superior sorting algorithms. \n",
    "# - If every element is known to be at most k places from its final location, a min-heap can be used to get an O(nlogk) algorithm (Solution 10.3 on Page 137).\n",
    "# - If there are a small number of distinct keys, e.g., integers in the range [0..255], counting sort, which records for each element, the number of elements less than it, works well. \n",
    "# -- This count can be kept in an array (if the largest number is comparable in value to the size of the set being sorted) or a BST where the keys are the numbers and the values are their frequencies. \n",
    "# -- If there are many duplicate keys we can add the keys to a BST, with linked lists for elements which have the same key; the sorted result can be derived from an in-order traversal of the BST.\n",
    "# Sorting problems occur in the following two types:\n",
    "# - use sorting to make subsequent steps simpler => use a library sort function, possibly with a custom comparator\n",
    "# - design a custom sorting routine => use a data structure like a BST, heap or array indexed by values.\n",
    "# The following are the properties of Python sorting libraries:\n",
    "# - to sort list in-place use the sort() method\n",
    "# -- it returns None, the calling list itself is updated\n",
    "# -- Take two optional input paramets: \n",
    "# --- key which is a func which takes list elements and maps them to objects which are comparable. eg: a[1, 2, 4, 5, 0] a.sort(key=lambda x:str(x)) \n",
    "# --- reverse = True => descending order else ascending order(default)\n",
    "# - to sort an iterable, use the sorted().\n",
    "# -- leaves input unchanged and optional parameters same as sort()"
   ]
  },
  {
   "cell_type": "code",
   "execution_count": 9,
   "metadata": {},
   "outputs": [
    {
     "name": "stdout",
     "output_type": "stream",
     "text": [
      "Students sorted by name:\n",
      "(A, 4.0) (B, 2.0) (C, 3.0) (D, 3.2) Students sorted by GPA:\n",
      "(B, 2.0) (C, 3.0) (D, 3.2) (A, 4.0) "
     ]
    }
   ],
   "source": [
    "# Sort students by their names\n",
    "class Student(object):\n",
    "    def __init__(self, name, grade_point_average):\n",
    "        self.name = name\n",
    "        self.grade_point_average = grade_point_average\n",
    "    \n",
    "    def __lt__(self, other):\n",
    "        return self.name < other.name\n",
    "\n",
    "def print_students_list(students):\n",
    "    for student in students:\n",
    "        print(f'({student.name}, {student.grade_point_average})', end=\" \")\n",
    "        \n",
    "students = [Student('A', 4.0), Student('C', 3.0), Student('B', 2.0), Student('D', 3.2)]\n",
    "\n",
    "# sort students by their name - using sorted() func, the input array remains unchanged\n",
    "students_sorted_by_name = sorted(students)\n",
    "print(f'Students sorted by name:')\n",
    "print_students_list(students_sorted_by_name)\n",
    "\n",
    "# Sort studnets by GPA in-place => the input array will be modified\n",
    "students.sort(key = lambda student: student.grade_point_average)\n",
    "print(f'Students sorted by GPA:')\n",
    "print_students_list(students)\n",
    "\n",
    "# Most library sorts are based on quick sort which has O(1) space complexity and O(nlogn) time complexity."
   ]
  },
  {
   "cell_type": "markdown",
   "metadata": {},
   "source": [
    "## 13.1 Compute the intersection of two sorted arrays"
   ]
  },
  {
   "cell_type": "code",
   "execution_count": 13,
   "metadata": {},
   "outputs": [
    {
     "name": "stdout",
     "output_type": "stream",
     "text": [
      "Intersion of sorted list: [5, 6, 8]\n"
     ]
    }
   ],
   "source": [
    "# Task: Write a program which takes as input two sorted arrays, and returns a new array containing elements that are present in both of the input arrays.\n",
    "# The input arrays may have duplicate entries, but the returned array should be free of duplicates. \n",
    "# For example, the input is <2,3,3,5,5,6,7,7,8,12> and (5,5,6,8 ,8,9,70,10), your output should be (5, 6, 8).\n",
    "\n",
    "# Brute Force: Iterate over one array by comparing each element of other element Time Complexity:O(MN)\n",
    "# Optimized: The arrays are sorted so compare one element if it is smaller mover to next, if both are equal add to output set \n",
    "\n",
    "# Time Complexity: O(M+N)\n",
    "def intersect_two_sorted_arrays(A, B):\n",
    "    i, j, intersection_A_B = 0, 0, []\n",
    "    while i < len(A) and j < len(B):\n",
    "        #print(i,j)\n",
    "        if A[i] < B[j]:\n",
    "            i += 1\n",
    "        elif A[i] == B[j]:\n",
    "            if i == 0 or A[i] != A[i-1]:\n",
    "                intersection_A_B.append(A[i])\n",
    "            i, j = i + 1, j + 1\n",
    "        else:\n",
    "            j += 1\n",
    "    return intersection_A_B\n",
    "\n",
    "A = [2, 3, 3, 5, 5, 6, 7, 7, 8, 12]\n",
    "B = [5, 5, 6, 8, 8, 9, 10, 10]\n",
    "print(f'Intersion of sorted list: {intersect_two_sorted_arrays(A, B)}')"
   ]
  },
  {
   "cell_type": "markdown",
   "metadata": {},
   "source": [
    "## 13.2 Merge two sorted arrays"
   ]
  },
  {
   "cell_type": "code",
   "execution_count": 3,
   "metadata": {},
   "outputs": [
    {
     "name": "stdout",
     "output_type": "stream",
     "text": [
      "The merged sorted list is [3, 5, 7, 11, 13, 17, 19, 0]\n"
     ]
    }
   ],
   "source": [
    "# Write a Program which takes as input two sorted arrays of integers, and updates the first to the\n",
    "# combined entries of the two arrays in sorted order.Assume the first array has enough empty entries\n",
    "# at its end to hold the result.\n",
    "\n",
    "# Brute Force:If we start filling from the beginning, then we might have to shift the first array multiple times. Time Complexity:O(mn)\n",
    "# Approach: Instead, we can start filling from the end. The last element will be at position m+n-1. Traverse both arrays from behind and fill them.\n",
    "# Time Complexity: O(m+n) Space Complexity:O(1) => space used by pointers to track indices\n",
    "def merge_two_sorted_arrays(A, m, B, n):\n",
    "    a, b, write_idx = m - 1, n - 1, m + n - 1\n",
    "    while a>=0 and b>=0:\n",
    "        if B[b] > A[a]:\n",
    "            A[write_idx] = B[b]\n",
    "            b -= 1\n",
    "        else:\n",
    "            A[write_idx] = A[a]\n",
    "            a -= 1\n",
    "        write_idx -= 1\n",
    "    while b >= 0: # B array still has some entries unprocessed\n",
    "        A[write_idx] = B[b]\n",
    "        write_idx -= 1\n",
    "        b -= 1\n",
    "\n",
    "A = [5, 13, 17, 0, 0, 0, 0, 0]\n",
    "B = [3,7,11,19]\n",
    "merge_two_sorted_arrays(A, 3, B, 4)\n",
    "print(f'The merged sorted list is {A}')"
   ]
  },
  {
   "cell_type": "markdown",
   "metadata": {},
   "source": [
    "## 13.3 Remove first-name duplicates"
   ]
  },
  {
   "cell_type": "code",
   "execution_count": 6,
   "metadata": {},
   "outputs": [
    {
     "name": "stdout",
     "output_type": "stream",
     "text": [
      "Input Array:\n",
      "(Ian,Botham) (David,Gower) (Ian,Bell) (Ian,Chappell) \n",
      "\n",
      "Array after sorting:\n",
      "(David,Gower) (Ian,Bell) (Ian,Botham) (Ian,Chappell) \n",
      "\n",
      "Array after removing duplicates:\n",
      "(David,Gower) (Ian,Bell) \n",
      "\n"
     ]
    }
   ],
   "source": [
    "# Design an efficient algorithm for removing all first-name duplicates from an array. For example,\n",
    "# if the input is ((Ian,Botham),(David,Gower),(Ian,Bell),(Ian,Chappell)), one result could be\n",
    "# ((Ian, Bell), (David, Gower)); ((David, Gower), (Ian, Botham)) would also be acceptable.\n",
    "\n",
    "# Brute Force: Use a hash table and if first-name already present in hash table remove that entry from the array. Time Complexity: O(n) Space compelxity:O(n)\n",
    "# Another approch: Sort the array based on first names, if first_name[i] == first_name[i-1] remove i. \n",
    "# Time Complexity: O(nlogn) for sorting + O(n) to remove duplicates Space Complexity:O(1)\n",
    "class Name:\n",
    "    def __init__(self, first_name, last_name):\n",
    "        self.first_name, self.last_name = first_name, last_name\n",
    "    \n",
    "    def __eq__(self, other):\n",
    "        return self.first_name == other.first_name\n",
    "    \n",
    "    def __lt__(self, other):\n",
    "        return (self.first_name < other.first_name if self.first_name != other.first_name else self.last_name < other.last_name)\n",
    "\n",
    "def print_array(A):\n",
    "    for cand in A:\n",
    "        print(f'({cand.first_name},{cand.last_name})', end = \" \")\n",
    "    print(\"\\n\")\n",
    "    \n",
    "def eliminate_duplicates(A):\n",
    "    A.sort()\n",
    "    print('Array after sorting:')\n",
    "    print_array(A)\n",
    "    write_idx = 1\n",
    "    for cand in A[1:]:\n",
    "        if cand != A[write_idx - 1]: # the eq function we wrote in Name class checks the first names of both elements and returns true or false accordingly\n",
    "            A[write_idx] = cand\n",
    "            write_idx += 1\n",
    "    del A[write_idx:] # we have rewritten all the dup entries with distinct entries - so all the entries from write_idx till end are not requried\n",
    "\n",
    "A = []\n",
    "A.append(Name('Ian', 'Botham'))\n",
    "A.append(Name('David', 'Gower'))\n",
    "A.append(Name('Ian', 'Bell'))\n",
    "A.append(Name('Ian', 'Chappell'))\n",
    "print('Input Array:')\n",
    "print_array(A)\n",
    "eliminate_duplicates(A)\n",
    "print('Array after removing duplicates:')\n",
    "print_array(A)"
   ]
  },
  {
   "cell_type": "markdown",
   "metadata": {},
   "source": [
    "## 13.4 Smallest nonconstructible value"
   ]
  },
  {
   "cell_type": "code",
   "execution_count": 12,
   "metadata": {},
   "outputs": [
    {
     "name": "stdout",
     "output_type": "stream",
     "text": [
      "Smallest nonconstructible value for input array [2, 3, 4] is 1\n",
      "Smallest nonconstructible value for input array [1, 2] is 4\n",
      "Smallest nonconstructible value for input array [1, 3] is 2\n",
      "Smallest nonconstructible value for input array [1, 2, 4] is 8\n",
      "Smallest nonconstructible value for input array [1, 2, 5] is 4\n"
     ]
    }
   ],
   "source": [
    "# Write a program which takes an array of positive integers and returns the smallest number which is not to the sum of a subset of elements of the array.\n",
    "# For example: if your coins are <1,1,1,1,1,5,10,25> then the smallest value of change which cannot be made is 21.\n",
    "\n",
    "# Brute Force: Get all the subsets -> compute sums -> sort them and iterate through from 1 till max of sums to find the smallest values that cannot be computed.\n",
    "# Time Complexity: Exponential O(2^n)\n",
    "\n",
    "# Approach: Suppose a collection of elements can product all values from 1 to V but not V+1, then adding a new element u to the collection can have two possibilities:\n",
    "# - if u <= (V+1), then we can produce values upto V+u but cannot produce V+u+1\n",
    "# - if u > (V+1), then even after including u to the collection we cannot product V+1 so break and return V+1\n",
    "# Time Complexity: O(nlong) to sort the input array + O(n) to iterate \n",
    "def smallest_nonconstructible_value(A):\n",
    "    max_constructible_value = 0\n",
    "    for a in sorted(A):\n",
    "        if a > max_constructible_value + 1:\n",
    "            break\n",
    "        max_constructible_value += a\n",
    "    return max_constructible_value + 1\n",
    "\n",
    "A = [2,3,4]\n",
    "print(f'Smallest nonconstructible value for input array {A} is {smallest_nonconstructible_value(A)}')\n",
    "A = [1,2]\n",
    "print(f'Smallest nonconstructible value for input array {A} is {smallest_nonconstructible_value(A)}')\n",
    "A = [1,3]\n",
    "print(f'Smallest nonconstructible value for input array {A} is {smallest_nonconstructible_value(A)}')\n",
    "A = [1,2,4]\n",
    "print(f'Smallest nonconstructible value for input array {A} is {smallest_nonconstructible_value(A)}')\n",
    "A = [1,2,5]\n",
    "print(f'Smallest nonconstructible value for input array {A} is {smallest_nonconstructible_value(A)}')"
   ]
  },
  {
   "cell_type": "markdown",
   "metadata": {},
   "source": [
    "## 13.5 Render a calendar"
   ]
  },
  {
   "cell_type": "code",
   "execution_count": 16,
   "metadata": {},
   "outputs": [
    {
     "name": "stdout",
     "output_type": "stream",
     "text": [
      "Max num of simultaneous events = 3\n"
     ]
    }
   ],
   "source": [
    "# Write a program that takes a set of events, and determines the maximum number of events that take place concurrently.\n",
    "# X axis denotes time and each each event has a start and end time. Ref fig:13.1\n",
    "\n",
    "# Brute Force: There are two points for an interval:start and end=>For n events, we have 2n points. \n",
    "# For each point, find out the number of intervals it is contained in=>O(n). Max of this gives us the maximum number of concurrent events.\n",
    "# Time Complexity:O(2n*n) = O(n^2)\n",
    "\n",
    "# Optimized Approach: Sort the set of all points in ascending order(If two points have same time and if one is start and other is end, then start comes first).\n",
    "# Then keep a counter, increment counter for every start point and decrement it for every end point => the max value attained by counter is the max number of concurrent events.\n",
    "# Time Complexity:O(nlogn) for sorting + O(n) to find max value of counter Space Complexity:O(n) for point array\n",
    "import collections\n",
    "Event = collections.namedtuple('Event',('start','finish'))\n",
    "Endpoint = collections.namedtuple('Endpoint',('time','is_start'))\n",
    "\n",
    "def find_max_simultaneous_events(A):\n",
    "    E = ([Endpoint(event.start, True) for event in A] + [Endpoint(event.finish, False) for event in A]) # creating endpoints array from input events array\n",
    "    # sort the endpoint array by breaking ties by putting start time before end time\n",
    "    E.sort(key = lambda e:(e.time, not e.is_start))\n",
    "    \n",
    "    max_num_simultaneous_events, num_simultaneous_events = 0, 0\n",
    "    for e in E:\n",
    "        if e.is_start:\n",
    "            num_simultaneous_events += 1\n",
    "            max_num_simultaneous_events = max(max_num_simultaneous_events, num_simultaneous_events)\n",
    "        else:\n",
    "            num_simultaneous_events -= 1 # this is reqd because otherwise we will keep on adding events even though they got completed.\n",
    "    return max_num_simultaneous_events\n",
    "\n",
    "A = []\n",
    "A.append(Event(1,5))\n",
    "A.append(Event(6,10))\n",
    "A.append(Event(11,13))\n",
    "A.append(Event(14,15))\n",
    "A.append(Event(2,7))\n",
    "A.append(Event(8,9))\n",
    "A.append(Event(12,15))\n",
    "A.append(Event(4,5))\n",
    "A.append(Event(9,17))\n",
    "print(f'Max num of simultaneous events = {find_max_simultaneous_events(A)}')"
   ]
  },
  {
   "cell_type": "code",
   "execution_count": 17,
   "metadata": {},
   "outputs": [],
   "source": [
    "# variant: Users 1,2,. . .,n share an Intemet connection. User I uses b_{i} bandwidth from time si to fi, inclusive. what is the peak bandwidth usage?\n",
    "# use the same method with counter incrementing itself by b_{i} for each start point. Max of the counter gives the peak bandwidth usage. Decrement counter by b_{i} on each finish point"
   ]
  },
  {
   "cell_type": "markdown",
   "metadata": {},
   "source": [
    "## 13.6 Meging intervals"
   ]
  },
  {
   "cell_type": "code",
   "execution_count": 25,
   "metadata": {},
   "outputs": [
    {
     "name": "stdout",
     "output_type": "stream",
     "text": [
      "Disjoint Intervals Result:\n",
      "[-4,-1] [0,9] [11,12] [14,17] \n",
      "\n"
     ]
    }
   ],
   "source": [
    "# Write a program which takes as input an array of disjoint closed intervals with integer endpoints,\n",
    "# sorted by increasing order of left endpoint, and an interval to be added, and returns the union of\n",
    "# the intervals in the array and the added interval. Your result should be expressed as a union of\n",
    "# disjoint intervals sorted by left endpoint.\n",
    "# For example: if the initial set of intervals is [-4,-1],[0,2],[3,6],[7,9],[11,12],[14,17], and the added interval is [1,8], the result is\n",
    "# [-4,-1], [0,9], [11,12], [14,17].\n",
    "\n",
    "# Brute Force: Find smallest left endpoint and largest right endpoint. Then test every integer between these tow values for membership in an interval.\n",
    "# Time Complexity: O(Dn) where D is the difference between the two extreme values and n i the number of intervals. \n",
    "\n",
    "# Optimized Approach: When a new interval comes in, then three cases are possible:\n",
    "# - all the intervals before this interval can be directly added to the result\n",
    "# - find the union for the intervals with which the new interval intersects\n",
    "# - all the intervals after this interval can be directly added to the result\n",
    "# Time Compelxity: O(N)\n",
    "Interval = collections.namedtuple('Interval',('left', 'right'))\n",
    "def add_interval(disjoint_intervals, new_interval):\n",
    "    i, result = 0, []\n",
    "    # case 1: add all intervals before new interval to the result\n",
    "    while((i < len(disjoint_intervals)) and (new_interval.left > disjoint_intervals[i].right)):\n",
    "        #result.append(disjoint_intervals[i])\n",
    "        i += 1\n",
    "    interval_idx_before_new = i\n",
    "    \n",
    "    # case 2: Finding union of new interval with intersecting intervals\n",
    "    while((i < len(disjoint_intervals)) and (new_interval.right >= disjoint_intervals[i].left)):\n",
    "        # union of (a,b) and (c,d) = [min(a,c), max(b,d)]\n",
    "        new_interval = Interval(min(new_interval.left, disjoint_intervals[i].left), max(new_interval.right, disjoint_intervals[i].right))\n",
    "        i += 1\n",
    "    \n",
    "    return disjoint_intervals[:interval_idx_before_new] + [new_interval] + disjoint_intervals[i:]\n",
    "\n",
    "def print_intervals(A):\n",
    "    for cand in A:\n",
    "        print(f'[{cand.left},{cand.right}]', end=\" \")\n",
    "    print(\"\\n\")\n",
    "\n",
    "A = []\n",
    "A.append(Interval(-4, -1))\n",
    "A.append(Interval(0, 2))\n",
    "A.append(Interval(3, 6))\n",
    "A.append(Interval(7, 9))\n",
    "A.append(Interval(11, 12))\n",
    "A.append(Interval(14, 17))\n",
    "new_interval = Interval(1,8)\n",
    "\n",
    "result = add_interval(A, new_interval)\n",
    "print('Disjoint Intervals Result:')\n",
    "print_intervals(result)"
   ]
  },
  {
   "cell_type": "markdown",
   "metadata": {},
   "source": [
    "## 13.7 Compute the union of intervals"
   ]
  },
  {
   "cell_type": "code",
   "execution_count": 35,
   "metadata": {},
   "outputs": [
    {
     "name": "stdout",
     "output_type": "stream",
     "text": [
      "Output:\n",
      "(0,4] [5,11] [12,17) \n",
      "\n"
     ]
    }
   ],
   "source": [
    "# Design an algorithm that takes as input a set of intervals, and outputs their union expressed as a set of disjoint intervals.\n",
    "# The intervals can be open or closed at either end points. Ref Fig 13.2\n",
    "\n",
    "# Brute Force: Consider every number from min left to max right. Time Complecity:O(DN)\n",
    "# Another Approach: Take a interval randomly, find all the intervals it intersects with => computer their uniton and place it in the result\n",
    "# If the  selected interval, does not intersect with any other interval then add it to the result directly. Time Complexity:O(N^2)\n",
    "\n",
    "# Approach using Sort: Sort the intervals on their left endpoints => break the ties by first placing left closed intervals if two intervals have same left endpoint.\n",
    "# As we iterate through the sorted array of intervals, we get the following cases:\n",
    "# - If the curr interval intersects with the most recently added interval in the result, find union and update the result\n",
    "# - If the curr interval does not intersect with the most recently added interval in the result, add curr interval to the result\n",
    "# Time Complexity: O(nlogn)\n",
    "Endpoint = collections.namedtuple('Endpoint', ('is_closed', 'val'))\n",
    "class Interval:\n",
    "    def __init__(self, left, right):\n",
    "        self.left = left\n",
    "        self.right = right\n",
    "    \n",
    "    def __lt__(self, other):\n",
    "        if self.left.val != other.left.val:\n",
    "            return self.left.val < other.left.val\n",
    "        return self.left.is_closed and not other.left.is_closed # self < other if self.left.is_closed == True and other.left.is_closed == False\n",
    "\n",
    "def union_of_intervals(intervals):\n",
    "    if not intervals:\n",
    "        return []\n",
    "    \n",
    "    intervals.sort() # sort intervals according to left endpoints of intervals\n",
    "    result = [intervals[0]]\n",
    "    for i in intervals:\n",
    "        if intervals and ((i.left.val < result[-1].right.val) or \n",
    "                          ((i.left.val == result[-1].right.val) and (i.left.is_closed or result[-1].right.is_closed))):\n",
    "            if(i.right.val > result[-1].right.val or (i.right.val == result[-1].right.val and i.right.is_closed)):\n",
    "                #print_intervals(result)\n",
    "                result[-1].right = i.right\n",
    "        else:\n",
    "            result.append(i)\n",
    "            #print(f'else:{print_intervals(result)}')\n",
    "    return result\n",
    "\n",
    "def print_intervals(intervals):\n",
    "    for i in intervals:\n",
    "        interval_str = '[' if i.left.is_closed else '('\n",
    "        interval_str += str(i.left.val) + ',' + str(i.right.val)\n",
    "        interval_str += ']' if i.right.is_closed else ')'\n",
    "        print(interval_str, end = \" \")\n",
    "    print(\"\\n\")\n",
    "\n",
    "A = []\n",
    "A.append(Interval(Endpoint(False,0), Endpoint(True, 4)))\n",
    "A.append(Interval(Endpoint(True,5), Endpoint(True, 11)))\n",
    "A.append(Interval(Endpoint(True,12), Endpoint(False, 17)))\n",
    "A.append(Interval(Endpoint(True,1), Endpoint(True, 1)))\n",
    "A.append(Interval(Endpoint(True,3), Endpoint(False, 4)))\n",
    "A.append(Interval(Endpoint(True,7), Endpoint(False, 8)))\n",
    "A.append(Interval(Endpoint(False,12), Endpoint(True, 16)))\n",
    "A.append(Interval(Endpoint(True,2), Endpoint(True, 4)))\n",
    "A.append(Interval(Endpoint(True,8), Endpoint(False, 11)))\n",
    "A.append(Interval(Endpoint(False,13), Endpoint(False, 15)))\n",
    "A.append(Interval(Endpoint(False,16), Endpoint(False, 17)))\n",
    "result = union_of_intervals(A)\n",
    "print('Output:')\n",
    "print_intervals(result)"
   ]
  },
  {
   "cell_type": "markdown",
   "metadata": {},
   "source": [
    "## 13.8 Partitioning and sorting an array with many repeated entries"
   ]
  },
  {
   "cell_type": "code",
   "execution_count": null,
   "metadata": {},
   "outputs": [],
   "source": [
    "# You are given an array of student objects. Each student has an integer-valued age field that is to be\n",
    "# treated as a key. Rearrange the elements of the array so that students of equal age appear together.\n",
    "# The order in which diffurent ages appear is not important. How would your solution change if ages\n",
    "# have to appear in sorted order?\n",
    "\n",
    "# Brute Force: Sort the array based on age. Time complexity:O(nlogn) if array length is n.\n",
    "# Another approach: Create a hash table with age as key and value as the list of students with this age.\n",
    "# Incomplete\n",
    "Person = collections.namedtuple('Person', ('age', 'name'))\n",
    "def group_by_age(people):\n",
    "    age_to_count = collections.Counter([person.age for person in people])\n",
    "    age_to_offset, offset = {}, 0\n",
    "    for age, count in age_to_count.items{}:\n",
    "        age_to_offset[age] = offset\n",
    "        offset += count\n",
    "    \n",
    "    while age_to_offset:\n",
    "        from_age = next(iter(age_to_offset))\n",
    "        form_idx = age_to_offset[from_age]\n",
    "        to_age = people[from_idx].age\n",
    "        to_idx = age_to_offset[people[from_idx].age]\n",
    "        people[from_idx], people[to_idx] = people[to_idx], people[from_idx]\n",
    "        age_to_count[to_age] -= 1\n",
    "        if age_to_count[to_age]:\n",
    "            age_to_offset[to_age] = to_idx + 1\n",
    "        else:\n",
    "            del age_to_offset[to_age]"
   ]
  },
  {
   "cell_type": "markdown",
   "metadata": {},
   "source": [
    "## 13.9 Team Photo Day"
   ]
  },
  {
   "cell_type": "code",
   "execution_count": null,
   "metadata": {},
   "outputs": [],
   "source": [
    "# Design an algorithm that takes as input two teams and the heights of the players in the teams and\n",
    "# checks if it is possible to place players to take the photo subject to the placement constraint."
   ]
  },
  {
   "cell_type": "markdown",
   "metadata": {},
   "source": [
    "## 13.10 Implement a fast sorting algorithm for Linked List"
   ]
  },
  {
   "cell_type": "code",
   "execution_count": null,
   "metadata": {},
   "outputs": [],
   "source": [
    "# Implement a routine which sorts lists efficiently. It should be a stable sort, i.e., the relative positions of equal elements must remain unchanged.\n",
    "\n",
    "# Brute Force: repeatedly delete smallest element of the list and append it at the end of the list. \n",
    "# Time Complexity: O(n^2) Space Complexity: O(n)\n",
    "# we can reorder the nodes in list instead of creating new ones # Incomplete\n",
    "class ListNode:\n",
    "    def __init__(self, data = 0, next_node = None):\n",
    "        self.data = data\n",
    "        self.next_node = next_node\n",
    "        \n",
    "def insertion_sort(L):\n",
    "    dummy_head = ListNode(0, L)\n",
    "    while L and L.next_node:\n",
    "        if L.data > L.next_node.data:\n",
    "            target, pre = L.next_node, dummy_head\n",
    "            while pre.next_node.data < target.data:\n",
    "                pre = pre.next\n",
    "            temp, pre.next_node, L.next_node = pre.next_node, target, target.next_node\n",
    "            target.next = temp\n",
    "        else:\n",
    "            L = L.next_node\n",
    "    return dummy_head.next_node"
   ]
  },
  {
   "cell_type": "markdown",
   "metadata": {},
   "source": [
    "## 13.11 Compute a salary threshold"
   ]
  },
  {
   "cell_type": "code",
   "execution_count": 41,
   "metadata": {},
   "outputs": [
    {
     "name": "stdout",
     "output_type": "stream",
     "text": [
      "Cap is 60.0\n"
     ]
    }
   ],
   "source": [
    "# Design an algorithm for computing the salary cap, given existing salaries and the target payroll.\n",
    "# Every employee who earned more than the cap last year will be paid the cap this year; employees who earned no more than the cap will see no change in their salary.\n",
    "# For example: salaries last year were $90, $30, $100, $40, and $20, and the target payroll this year is $210, then 60 is a suitable salary cap, since 60+30 +60+40+20 = 210.\n",
    "\n",
    "# Brute Force: Infinite possibilities for cap. The cap lies between 0 and maximum current salary.\n",
    "# Analytic Approach: sort the salary array. Take each element of the array and compute target\n",
    "# =>The payrolls for caps equal to the salaries in A<20,30,40,90,100> are <100,140,170,270,280>. The target is 210 so payroll lies between 40 and 90\n",
    "# For a c value greater than 40, payroll will 20+30+40 + 2c = 210 => c = 60\n",
    "# Time Complexity: O(nlogn) which is dominated by sort()\n",
    "def find_salary_cap(target_payroll, current_salaries):\n",
    "    current_salaries.sort()\n",
    "    unadjusted_salary_sum = 0\n",
    "    for i, current_salary in enumerate(current_salaries):\n",
    "        cap = current_salary\n",
    "        adjusted_people = len(current_salaries) - i # number of people who salary is going to be set to curr salary which is cap for this iterateion\n",
    "        adjusted_people_salary = adjusted_people * cap\n",
    "        if unadjusted_salary_sum + adjusted_people_salary >= target_payroll:\n",
    "            return (target_payroll - unadjusted_salary_sum)/(adjusted_people)\n",
    "        unadjusted_salary_sum += cap\n",
    "    return -1 # No solution if target payroll > existing payroll\n",
    "\n",
    "salary = [90, 30, 100, 40, 20]\n",
    "target_payroll = 210\n",
    "print(f'Cap is {find_salary_cap(target_payroll , salary)}')"
   ]
  },
  {
   "cell_type": "code",
   "execution_count": null,
   "metadata": {},
   "outputs": [],
   "source": []
  }
 ],
 "metadata": {
  "kernelspec": {
   "display_name": "Python 3",
   "language": "python",
   "name": "python3"
  },
  "language_info": {
   "codemirror_mode": {
    "name": "ipython",
    "version": 3
   },
   "file_extension": ".py",
   "mimetype": "text/x-python",
   "name": "python",
   "nbconvert_exporter": "python",
   "pygments_lexer": "ipython3",
   "version": "3.8.3"
  }
 },
 "nbformat": 4,
 "nbformat_minor": 2
}
