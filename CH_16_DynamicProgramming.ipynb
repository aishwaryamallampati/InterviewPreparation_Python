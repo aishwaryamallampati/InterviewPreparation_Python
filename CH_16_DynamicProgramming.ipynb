{
 "cells": [
  {
   "cell_type": "markdown",
   "metadata": {},
   "source": [
    "# CH16 Dynamic Programming"
   ]
  },
  {
   "cell_type": "code",
   "execution_count": 1,
   "metadata": {},
   "outputs": [],
   "source": [
    "# Some important notes:\n",
    "# DP is a general technique for solving optimization, search, and counting problems that can be decomposed into subproblems.\n",
    "# what makes DP different is that the same subproblem may reoccur. Therefore, a key to making DP efficient is caching the results of intermediate computations\n",
    "# The key to solving a DP problem efficiently is finding a way to break the problem into subproblems such that:\n",
    "# - the original problem can be solved relatively easily once solutions to the subproblems are available, and\n",
    "# - these subproblem solutions are cached.\n",
    "# Top tips for DP:\n",
    "# - Use DP whenever we have to make choices to arrive at the solution. Specifically, when you construct solution to the given instance from solutions to subinstances of smaller problems of the same kind.\n",
    "# - Apart from optimization problems, DP is also applicable to counting and decision problems\n",
    "# - Although conceptually DP involves recursion, often for efficiency the cache is built \"bottom up\", i.e., iteratively. \n",
    "# -- when DP is implemented recursively, the cache data structure is hash table or BST\n",
    "# -- when DP is implemented iteratively, the cache data structure is one or multi-dimensional array\n",
    "# - DP is based on combining solutions to subproblems to yield a solution to the original problem which might not work for all problems"
   ]
  },
  {
   "cell_type": "markdown",
   "metadata": {},
   "source": [
    "### Fibonacci Series"
   ]
  },
  {
   "cell_type": "code",
   "execution_count": 9,
   "metadata": {},
   "outputs": [
    {
     "name": "stdout",
     "output_type": "stream",
     "text": [
      "13\n",
      "13\n"
     ]
    }
   ],
   "source": [
    "# Fibonacci Series Time Complexity: O(N) Space Complexity: O(N)\n",
    "def fibonacci(n, cache = {}):\n",
    "    if n <= 1:\n",
    "        return n\n",
    "    elif n not in cache.keys():\n",
    "        cache[n] = fibonacci(n-1) + fibonacci(n-2)\n",
    "    return cache[n]\n",
    "\n",
    "print(fibonacci(7))\n",
    "\n",
    "# Time Complexity: O(N) Space Complexity: O(1)\n",
    "def fibonacci_space_opt(n):\n",
    "    if n <= 1:\n",
    "        return n\n",
    "    \n",
    "    f_minus_2, f_minus_1 = 0, 1\n",
    "    for _ in range(1, n):\n",
    "        f = f_minus_2 + f_minus_1\n",
    "        f_minus_2, f_minus_1 = f_minus_1, f\n",
    "    return f_minus_1 # as f is stored in f_minus_1 in the last step\n",
    "\n",
    "print(fibonacci_space_opt(7))"
   ]
  },
  {
   "cell_type": "markdown",
   "metadata": {},
   "source": [
    "### Maximum sum over all subarrays"
   ]
  },
  {
   "cell_type": "code",
   "execution_count": 13,
   "metadata": {},
   "outputs": [
    {
     "name": "stdout",
     "output_type": "stream",
     "text": [
      "Brute Force:\n",
      "The max sum is 1479\n",
      "The max sum is 7\n",
      "\n",
      "Brute Force Optimized:\n",
      "The max sum is 1479\n",
      "The max sum is 7\n",
      "\n",
      "Divide and Conquer:\n",
      "The max sum is 1479\n",
      "The max sum is 7\n",
      "\n",
      "Kadanes Algorithm DP:\n",
      "Found maximum sum between 0 and 3 and the maximum sum is 1479\n",
      "Found maximum sum between 2 and 6 and the maximum sum is 7\n"
     ]
    }
   ],
   "source": [
    "# Task: Find the maximum sum over all subarrays of a given array of integer. The array can have positive and negative integers.\n",
    "# we need to find continous elements with maximum sum. \n",
    "# - If all the elements of the array are positive => max_sum = sum of all elements of the array\n",
    "# - If all the elements of the array are negative => max_sum = max element of the array\n",
    "\n",
    "# Brute Force: we can form all sub arrays and find each sum and then find max using two for loops. First, subarrays of size 1 then subarrays of size 2 etc.\n",
    "# Total number of subarrays: ((n*(n+1))/2) and time to compute sum of each subarray is O(n)=>Time Complexity:O(n^3)\n",
    "def max_sum_subarray_brute_force(a):\n",
    "    ans = float('-inf')\n",
    "    \n",
    "    for sub_array_size in range(1,len(a) + 1):\n",
    "        for start_index in range(0, len(a)):\n",
    "            if (start_index + sub_array_size) > len(a): # subarray exceeds array bounds\n",
    "                break\n",
    "            sum_val = 0\n",
    "            for i in range(start_index, start_index + sub_array_size):\n",
    "                sum_val += a[i]\n",
    "            ans = max(ans, sum_val)\n",
    "    return ans\n",
    "print(f'Brute Force:')\n",
    "a = [904, 40, 523, 12, -335, -385, -124, 481, -31]\n",
    "print(f'The max sum is {max_sum_subarray_brute_force(a)}')\n",
    "a = [-2, -5, 6, -2, -3, 1, 5, -6]\n",
    "print(f'The max sum is {max_sum_subarray_brute_force(a)}')\n",
    "\n",
    "# Brute force algo can be improved by first computing S[k]=sigma(A[0,k]) for all k. Then sum for A[i,j] is then S[j] - S[i-1]. Time complexity can be reduced to O(n^2) in this method.\n",
    "def max_sum_subarray_brute_force_opt(a):\n",
    "    ans = float('-inf')\n",
    "    sum_till_i = []\n",
    "    sum_till_i[0] = a[0]\n",
    "    for i in range(1, len(a)): # sub array sum till k is computed\n",
    "        sum_till_i[i] += sum_till_i[i-1] + a[i]\n",
    "    \n",
    "    # Generating all sub arrays and finding their sum\n",
    "    for sub_array_size in range(1, len(a) + 1):\n",
    "        for start_index in range(0, len(a)):\n",
    "            if start_index + sub_array_size > len(a):\n",
    "                break\n",
    "            end_index = start_index + sub_array_size - 1\n",
    "            sum_val = sum_till_i[end_index] - sum_till_i[start_index-1]\n",
    "            ans = max(ans, sum_val)\n",
    "    return ans\n",
    "print(f'\\nBrute Force Optimized:')\n",
    "a = [904, 40, 523, 12, -335, -385, -124, 481, -31]\n",
    "print(f'The max sum is {max_sum_subarray_brute_force(a)}')\n",
    "a = [-2, -5, 6, -2, -3, 1, 5, -6]\n",
    "print(f'The max sum is {max_sum_subarray_brute_force(a)}')\n",
    "\n",
    "# Divide and conquer: The approach is similar to quick sort. Split array into two halves => compute max sum in left and right=> max subarray sum is going to be max(l+r)\n",
    "# Time Complexity: O(nlogn)\n",
    "def max_sum_subarray_divide_and_conquer(a):\n",
    "    def max_sum_subarray_divide_and_conquer_helper(a, start, end):\n",
    "        if start == end:\n",
    "            return a[start]\n",
    "        \n",
    "        m = (start + ((end - start)//2))\n",
    "        sum_l = max_sum_subarray_divide_and_conquer_helper(a, 0, m)\n",
    "        sum_r = max_sum_subarray_divide_and_conquer_helper(a, m+1, end)\n",
    "        ans = max(ans, sum_l + sum_r)\n",
    "        return ans\n",
    "    \n",
    "    return max_sum_subarray_divide_and_conquer_helper(a, 0, (len(a) - 1))\n",
    "\n",
    "print(f'\\nDivide and Conquer:')\n",
    "a = [904, 40, 523, 12, -335, -385, -124, 481, -31]\n",
    "print(f'The max sum is {max_sum_subarray_brute_force(a)}')\n",
    "a = [-2, -5, 6, -2, -3, 1, 5, -6]\n",
    "print(f'The max sum is {max_sum_subarray_brute_force(a)}')\n",
    "\n",
    "# Kadane's Algorithm: The approach uses dynamic programming and its time complexity is O(n) and space complxity is O(1).\n",
    "# Ref: https://www.baeldung.com/java-maximum-subarray\n",
    "# Formula: maximumSubArraySum[i] = maximumSubArraySum[i-1] + arr[i] if arr[i] < maximumSubArraySum[i-1] + arr[i] else maximumSubArraySum[i] = arr[i]\n",
    "def max_sum_subarray_DP(a):\n",
    "    max_so_far = float('-inf')\n",
    "    max_ending_here = float('-inf')\n",
    "    for i in range(0, len(a)):\n",
    "        if a[i] > max_ending_here + a[i]: # starting a new sub array\n",
    "            start = i\n",
    "            max_ending_here = a[i]\n",
    "        else:\n",
    "            max_ending_here = max_ending_here + a[i] # adding element to the earlier sub array\n",
    "        \n",
    "        if max_so_far < max_ending_here: # updating global maximum\n",
    "            max_so_far = max_ending_here\n",
    "            end = i\n",
    "    print(f'Found maximum sum between {start} and {end} and the maximum sum is {max_so_far}')\n",
    "    return\n",
    "print(f'\\nKadanes Algorithm DP:')\n",
    "a = [904, 40, 523, 12, -335, -385, -124, 481, -31]\n",
    "max_sum_subarray_DP(a)\n",
    "a = [-2, -5, 6, -2, -3, 1, 5, -6]\n",
    "max_sum_subarray_DP(a)"
   ]
  },
  {
   "cell_type": "markdown",
   "metadata": {},
   "source": [
    "## 16.1 Count the numeber of score combinations"
   ]
  },
  {
   "cell_type": "code",
   "execution_count": 20,
   "metadata": {
    "scrolled": true
   },
   "outputs": [
    {
     "name": "stdout",
     "output_type": "stream",
     "text": [
      "The total number of possible combinations are 4\n",
      "i = 0 j = 2 table:[1, 0, 0, 0, 0, 0, 0, 0, 0, 0, 0, 0, 0]\n",
      "i = 0 j = 2 table:[1, 0, 1, 0, 0, 0, 0, 0, 0, 0, 0, 0, 0]\n",
      "i = 0 j = 3 table:[1, 0, 1, 0, 0, 0, 0, 0, 0, 0, 0, 0, 0]\n",
      "i = 0 j = 3 table:[1, 0, 1, 0, 0, 0, 0, 0, 0, 0, 0, 0, 0]\n",
      "i = 0 j = 4 table:[1, 0, 1, 0, 0, 0, 0, 0, 0, 0, 0, 0, 0]\n",
      "i = 0 j = 4 table:[1, 0, 1, 0, 1, 0, 0, 0, 0, 0, 0, 0, 0]\n",
      "i = 0 j = 5 table:[1, 0, 1, 0, 1, 0, 0, 0, 0, 0, 0, 0, 0]\n",
      "i = 0 j = 5 table:[1, 0, 1, 0, 1, 0, 0, 0, 0, 0, 0, 0, 0]\n",
      "i = 0 j = 6 table:[1, 0, 1, 0, 1, 0, 0, 0, 0, 0, 0, 0, 0]\n",
      "i = 0 j = 6 table:[1, 0, 1, 0, 1, 0, 1, 0, 0, 0, 0, 0, 0]\n",
      "i = 0 j = 7 table:[1, 0, 1, 0, 1, 0, 1, 0, 0, 0, 0, 0, 0]\n",
      "i = 0 j = 7 table:[1, 0, 1, 0, 1, 0, 1, 0, 0, 0, 0, 0, 0]\n",
      "i = 0 j = 8 table:[1, 0, 1, 0, 1, 0, 1, 0, 0, 0, 0, 0, 0]\n",
      "i = 0 j = 8 table:[1, 0, 1, 0, 1, 0, 1, 0, 1, 0, 0, 0, 0]\n",
      "i = 0 j = 9 table:[1, 0, 1, 0, 1, 0, 1, 0, 1, 0, 0, 0, 0]\n",
      "i = 0 j = 9 table:[1, 0, 1, 0, 1, 0, 1, 0, 1, 0, 0, 0, 0]\n",
      "i = 0 j = 10 table:[1, 0, 1, 0, 1, 0, 1, 0, 1, 0, 0, 0, 0]\n",
      "i = 0 j = 10 table:[1, 0, 1, 0, 1, 0, 1, 0, 1, 0, 1, 0, 0]\n",
      "i = 0 j = 11 table:[1, 0, 1, 0, 1, 0, 1, 0, 1, 0, 1, 0, 0]\n",
      "i = 0 j = 11 table:[1, 0, 1, 0, 1, 0, 1, 0, 1, 0, 1, 0, 0]\n",
      "i = 0 j = 12 table:[1, 0, 1, 0, 1, 0, 1, 0, 1, 0, 1, 0, 0]\n",
      "i = 0 j = 12 table:[1, 0, 1, 0, 1, 0, 1, 0, 1, 0, 1, 0, 1]\n",
      "i = 1 j = 3 table:[1, 0, 1, 0, 1, 0, 1, 0, 1, 0, 1, 0, 1]\n",
      "i = 1 j = 3 table:[1, 0, 1, 1, 1, 0, 1, 0, 1, 0, 1, 0, 1]\n",
      "i = 1 j = 4 table:[1, 0, 1, 1, 1, 0, 1, 0, 1, 0, 1, 0, 1]\n",
      "i = 1 j = 4 table:[1, 0, 1, 1, 1, 0, 1, 0, 1, 0, 1, 0, 1]\n",
      "i = 1 j = 5 table:[1, 0, 1, 1, 1, 0, 1, 0, 1, 0, 1, 0, 1]\n",
      "i = 1 j = 5 table:[1, 0, 1, 1, 1, 1, 1, 0, 1, 0, 1, 0, 1]\n",
      "i = 1 j = 6 table:[1, 0, 1, 1, 1, 1, 1, 0, 1, 0, 1, 0, 1]\n",
      "i = 1 j = 6 table:[1, 0, 1, 1, 1, 1, 2, 0, 1, 0, 1, 0, 1]\n",
      "i = 1 j = 7 table:[1, 0, 1, 1, 1, 1, 2, 0, 1, 0, 1, 0, 1]\n",
      "i = 1 j = 7 table:[1, 0, 1, 1, 1, 1, 2, 1, 1, 0, 1, 0, 1]\n",
      "i = 1 j = 8 table:[1, 0, 1, 1, 1, 1, 2, 1, 1, 0, 1, 0, 1]\n",
      "i = 1 j = 8 table:[1, 0, 1, 1, 1, 1, 2, 1, 2, 0, 1, 0, 1]\n",
      "i = 1 j = 9 table:[1, 0, 1, 1, 1, 1, 2, 1, 2, 0, 1, 0, 1]\n",
      "i = 1 j = 9 table:[1, 0, 1, 1, 1, 1, 2, 1, 2, 2, 1, 0, 1]\n",
      "i = 1 j = 10 table:[1, 0, 1, 1, 1, 1, 2, 1, 2, 2, 1, 0, 1]\n",
      "i = 1 j = 10 table:[1, 0, 1, 1, 1, 1, 2, 1, 2, 2, 2, 0, 1]\n",
      "i = 1 j = 11 table:[1, 0, 1, 1, 1, 1, 2, 1, 2, 2, 2, 0, 1]\n",
      "i = 1 j = 11 table:[1, 0, 1, 1, 1, 1, 2, 1, 2, 2, 2, 2, 1]\n",
      "i = 1 j = 12 table:[1, 0, 1, 1, 1, 1, 2, 1, 2, 2, 2, 2, 1]\n",
      "i = 1 j = 12 table:[1, 0, 1, 1, 1, 1, 2, 1, 2, 2, 2, 2, 3]\n",
      "i = 2 j = 7 table:[1, 0, 1, 1, 1, 1, 2, 1, 2, 2, 2, 2, 3]\n",
      "i = 2 j = 7 table:[1, 0, 1, 1, 1, 1, 2, 2, 2, 2, 2, 2, 3]\n",
      "i = 2 j = 8 table:[1, 0, 1, 1, 1, 1, 2, 2, 2, 2, 2, 2, 3]\n",
      "i = 2 j = 8 table:[1, 0, 1, 1, 1, 1, 2, 2, 2, 2, 2, 2, 3]\n",
      "i = 2 j = 9 table:[1, 0, 1, 1, 1, 1, 2, 2, 2, 2, 2, 2, 3]\n",
      "i = 2 j = 9 table:[1, 0, 1, 1, 1, 1, 2, 2, 2, 3, 2, 2, 3]\n",
      "i = 2 j = 10 table:[1, 0, 1, 1, 1, 1, 2, 2, 2, 3, 2, 2, 3]\n",
      "i = 2 j = 10 table:[1, 0, 1, 1, 1, 1, 2, 2, 2, 3, 3, 2, 3]\n",
      "i = 2 j = 11 table:[1, 0, 1, 1, 1, 1, 2, 2, 2, 3, 3, 2, 3]\n",
      "i = 2 j = 11 table:[1, 0, 1, 1, 1, 1, 2, 2, 2, 3, 3, 3, 3]\n",
      "i = 2 j = 12 table:[1, 0, 1, 1, 1, 1, 2, 2, 2, 3, 3, 3, 3]\n",
      "i = 2 j = 12 table:[1, 0, 1, 1, 1, 1, 2, 2, 2, 3, 3, 3, 4]\n",
      "Space Opt: The total number of possible combinations are 4\n"
     ]
    }
   ],
   "source": [
    "# In an American football Bame, a play can lead to 2 points (safety), 3 points (field goal), or 7 points (touchdown, assuming the extra point). \n",
    "# Many different combinations of 2,3, and 7 point plays can make up a final score. For example, four combinations of plays yield a score of 12: o 6safeties (2x6=12), o 3 safeties and 2 field goals (2 x 3 + 3 x2 = 12), o 1 safety,l field goal and l touchdown (2 x 1+ 3 x 1 +7 x1= 12), and o 4fieldgoals(3x4=12).\n",
    "# Write a program that takes a final score and scores for individual plays, and returns the number of combinations of plays that result in the final score.\n",
    "\n",
    "# Generalizing an s-point score can be achieved by an s-2 point score, followed by a 2 point play etc.\n",
    "# Brute Force: Enumerate all the sequences and count the distinct combinations within these sequences e.g. by sorting each sequence and inserting into a hash table\n",
    "# Recursion: num_of_combinations[s][n] = num_of_combinations[s-1][n] + num_of_combinations[s][n-s]\n",
    "# DP : This problem is similar to coin change(https://www.geeksforgeeks.org/coin-change-dp-7/). \n",
    "# - Make a table with [0,total_score] cols and 3 rows for 2,3,7 point plays.\n",
    "# - Compute number of combinations possible keeping a 2point play and not keeping a 2 point play in the sequence etc. Then, add both values to get the total number of possible combinations\n",
    "# - we find the number of combinations => order is not important\n",
    "\n",
    "# Time Complexity: O(sn) where s is the len(individual_play_scores) and n = total_score + 1. Space Complexity=O(sn) which is used by the 2D array to store intermediate results\n",
    "def num_combinations_for_final_score(final_score, individual_play_scores):\n",
    "    # There is only one way to reach a final_score of 0. so, all the values in the first col are set to 0\n",
    "    num_combinations_for_score = [([1] + [0]*final_score) for _ in range(len(individual_play_scores))]\n",
    "    \n",
    "    for i in range(len(individual_play_scores)):\n",
    "        for j in range(1, final_score + 1): # compute for one row\n",
    "            num_combinations_without_this_play = num_combinations_for_score[i-1][j] if i >= 1 else 0\n",
    "            num_combinations_with_this_play = num_combinations_for_score[i][j - individual_play_scores[i]] if j >= individual_play_scores[i]  else 0\n",
    "            num_combinations_for_score[i][j] = num_combinations_without_this_play + num_combinations_with_this_play\n",
    "    return num_combinations_for_score[-1][-1]\n",
    "\n",
    "individual_play_scores = [2, 3, 7]\n",
    "final_score = 12\n",
    "print(f'The total number of possible combinations are {num_combinations_for_final_score(final_score, individual_play_scores)}')\n",
    "\n",
    "# variant: Solve the same problem using O(n) space\n",
    "def num_combinations_for_final_score_space_opt(final_score, individual_play_scores):\n",
    "    # There is only one way to reach a final_score of 0. so, the first value is set to 1\n",
    "    num_combinations_for_score = ([1] + [0]*final_score)\n",
    "    \n",
    "    # Pick all the scores one by one after the index greater than or equal to the values of the picked score\n",
    "    for i in range(len(individual_play_scores)):# by the time iteration completes, the 1D array is going to be similar to the ith row in the above 2D-array.\n",
    "        for j in range(individual_play_scores[i], final_score + 1): # compute for one row\n",
    "            #print(f'i = {i} j = {j} table:{num_combinations_for_score}')\n",
    "            num_combinations_for_score[j] += num_combinations_for_score[j-individual_play_scores[i]]\n",
    "            #print(f'i = {i} j = {j} table:{num_combinations_for_score}')\n",
    "            \n",
    "    return num_combinations_for_score[-1]\n",
    "individual_play_scores = [2, 3, 7]\n",
    "final_score = 12\n",
    "print(f'Space Opt: The total number of possible combinations are {num_combinations_for_final_score_space_opt(final_score, individual_play_scores)}')"
   ]
  },
  {
   "cell_type": "code",
   "execution_count": 36,
   "metadata": {},
   "outputs": [
    {
     "name": "stdout",
     "output_type": "stream",
     "text": [
      "Space Opt: The total number of possible permutations are 18\n",
      "\n",
      "Steps: Space Opt: The total number of possible permutations are 5\n"
     ]
    }
   ],
   "source": [
    "# variant: Write a program that takes a final score and scores for individual plays, and returns the number of sequences of plays that result in the final score. \n",
    "# For example, 18 sequences of plays yield a score of 12. Some examples are (2,2,2,3,3), <2,3,2,2,3>, <2,3,7), <7,3,2>.\n",
    "# This problem is asking for permutations \n",
    "# Ref: https://massivealgorithms.blogspot.com/2014/09/count-number-of-score-combinations-epi.html\n",
    "def num_permutations_for_final_score_space_opt(final_score, individual_play_scores):\n",
    "    # There is only one way to reach a final_score of 0. So, the first value is set to 1.\n",
    "    num_permutations_for_score = ([1] + [0]*final_score)\n",
    "    \n",
    "    # reverse the order of the loops to get the permutations\n",
    "    for j in range(0, final_score + 1):\n",
    "        for i in range(len(individual_play_scores)):\n",
    "            #print(f'i = {i} j = {j} table:{num_permutations_for_score}')\n",
    "            if j >= individual_play_scores[i]:\n",
    "                num_permutations_for_score[j] += num_permutations_for_score[j-individual_play_scores[i]]\n",
    "                #print(f'i = {i} j = {j} table:{num_permutations_for_score}')\n",
    "            \n",
    "    return num_permutations_for_score[-1]\n",
    "\n",
    "individual_play_scores = [2, 3, 7]\n",
    "final_score = 12\n",
    "print(f'Space Opt: The total number of possible permutations are {num_permutations_for_final_score_space_opt(final_score, individual_play_scores)}\\n')\n",
    "\n",
    "# variant: You are climbing stairs. You can advance 1 to k steps at a time. Your destination is exactly n steps up. \n",
    "# Write a program which takes as inputs n and k and returns the number of ways in which you can get to your destination. \n",
    "# For example, if n = 4 and k = 2, there are five ways in which to get to the destination: \n",
    "# - o four single stair advances, \n",
    "# - o two single stair advances followed by a double stair advance, \n",
    "# - o a single stair advance followed by a double stair advance followed by a single stair advance, \n",
    "# - o a double stair advance followed by two single stairs advances, and \n",
    "# - o two double stair advances.\n",
    "\n",
    "# The main difference between score and this problem is : score asks for number of combinations whereas steps asks for number of permutations\n",
    "\n",
    "k = 2\n",
    "n = 4\n",
    "individual_play_scores = [k for k in range(1, k + 1)]\n",
    "final_score = n\n",
    "print(f'Steps: Space Opt: The total number of possible permutations are {num_permutations_for_final_score_space_opt(final_score, individual_play_scores)}')"
   ]
  },
  {
   "cell_type": "code",
   "execution_count": 38,
   "metadata": {
    "scrolled": true
   },
   "outputs": [
    {
     "name": "stdout",
     "output_type": "stream",
     "text": [
      "Total permutations for Team1: 2\n",
      "Total permutations for Team2: 1\n",
      "Total permutations for Team1 and Team2 together: 2\n"
     ]
    }
   ],
   "source": [
    "# variant:  Suppose the final score is given in the form (s,s'), i.e., Team 1 scored s points and Team 2 scored s' points. \n",
    "# How would you compute the number of distinct scoring sequences which result in this score? \n",
    "# For example, if the final score is (6,3) then Team 1 scores 3, Team 2 scores 3, Team 1 scores 3 is a scoring sequence which results in this score.\n",
    "individual_play_scores = [2, 3, 7]\n",
    "final_score = 6\n",
    "num_of_permutations_team1 = num_permutations_for_final_score_space_opt(final_score, individual_play_scores)\n",
    "print(f'Total permutations for Team1: {num_of_permutations_team1}')\n",
    "individual_play_scores = [2, 3, 7]\n",
    "final_score = 3\n",
    "num_of_permutations_team2 = num_permutations_for_final_score_space_opt(final_score, individual_play_scores)\n",
    "print(f'Total permutations for Team2: {num_of_permutations_team2}')\n",
    "total_permutations_together = num_of_permutations_team1 * num_of_permutations_team2\n",
    "print(f'Total permutations for Team1 and Team2 together: {total_permutations_together}')"
   ]
  },
  {
   "cell_type": "markdown",
   "metadata": {},
   "source": [
    "## 16.2 Compute the levenshtein distance"
   ]
  },
  {
   "cell_type": "code",
   "execution_count": 42,
   "metadata": {},
   "outputs": [
    {
     "name": "stdout",
     "output_type": "stream",
     "text": [
      "The levenshtein distance between Carthorse and Orchestra is 8\n"
     ]
    }
   ],
   "source": [
    "# Spell checkers make suggestions for misspelled words. Given a misspelled string a spell checker should return words in the dictionary which are close to the misspelled string. \n",
    "# The number of edits needed to transform one word to another is called as levenshtein distance\n",
    "\n",
    "# Task: Write a Program that takes two strings and computes the minimum number of edits needed to transform the first string into the second string.\n",
    "\n",
    "# Brute Force: Enumerate all strings that are at distance 1,2,3 etc and stop once we get the second string. Time complexity: Exponential\n",
    "\n",
    "# A better approach is to \"prune\" the search. For example, if the last character of the first string equals the last character of the second string, we can ignore this character. \n",
    "# - If they are different, we can focus on the initial portion of each string and perform a final edit step. (This final edit step may be an insertion, deletion, or substitution.)\n",
    "# Let E(A[0,a - 1]),B[0,b - 1]) be the Levenshtein distance between the strings A and B. Then, the following two cases are possible:\n",
    "# - If last char of A equal last char of B, then E(A[0,a - 1]),B[0,b - 1]) = E(A[0,a - 2]),B[0,b - 2])\n",
    "# - else E(A[0,a - 1]),B[0,b - 1]) = 1 + min(E(A[0,a - 2]),B[0,b - 2]), E(A[0,a - 1]),B[0,b - 2]), E(A[0,a - 2]),B[0,b - 1])). Transforming A[0,a - 1] to B[0,b - 1]:\n",
    "# ---by transforming A[0,a - 2] to B[0,b - 2] and then substituting A's last character with B's last character. \n",
    "# ---by transforming A[0,a - 1] to B[0,b - 2] and then adding B's last character at the end. \n",
    "# ---by transforming A[0,a - 2] to B[0,b - 1] and then deleting A's last character.\n",
    "\n",
    "# Time Complexity: O(ab) Space Complexity: O(ab)\n",
    "def levenshtein_distance(A, B):\n",
    "    def compute_distance_between_prefixes(A_idx, B_idx):\n",
    "        if A_idx < 0: \n",
    "            return B_idx + 1 # A is empty so add all of B's characters.\n",
    "        elif B_idx < 0:\n",
    "            return A_idx + 1 # B is empty so delete all of A's Charcters\n",
    "        \n",
    "        if distance_between_prefixes[A_idx][B_idx] == -1: # check not to compute same value multiple times\n",
    "            if A[A_idx] == B[B_idx]: # last chars of both strings are equal\n",
    "                distance_between_prefixes[A_idx][B_idx] = compute_distance_between_prefixes(A_idx - 1, B_idx - 1)\n",
    "            else: # finding min of substitution, add, delete\n",
    "                substitute_last = compute_distance_between_prefixes(A_idx - 1, B_idx - 1)\n",
    "                add_last = compute_distance_between_prefixes(A_idx - 1, B_idx)\n",
    "                delete_last = compute_distance_between_prefixes(A_idx, B_idx - 1)\n",
    "                distance_between_prefixes[A_idx][B_idx] = (1 + min(substitute_last, add_last, delete_last))\n",
    "        return distance_between_prefixes[A_idx][B_idx]\n",
    "        \n",
    "    distance_between_prefixes = [[-1] * len(B) for _ in A]\n",
    "    return compute_distance_between_prefixes(len(A) - 1, len(B) - 1)\n",
    "\n",
    "A = \"Carthorse\"\n",
    "B = \"Orchestra\"\n",
    "print(f'The levenshtein distance between {A} and {B} is {levenshtein_distance(A, B)}')       \n",
    "    "
   ]
  },
  {
   "cell_type": "code",
   "execution_count": 46,
   "metadata": {},
   "outputs": [
    {
     "name": "stdout",
     "output_type": "stream",
     "text": [
      "The levenshtein distance between Carthorse and Orchestra is 8\n"
     ]
    }
   ],
   "source": [
    "# Variant: Compute the Levenshtein distance using O(min(a, b)) space and O(ab) time.\n",
    "# Generally if we are filling the i = 10 rows in DP we require only values of 9th row. \n",
    "# Ref: https://www.geeksforgeeks.org/edit-distance-dp-5/\n",
    "\n",
    "# Create table with two rows: use (A_idx % 2) while storing values into the table\n",
    "# Time Complexity: O(ab) Space Complexity: O(b)\n",
    "def levenshtein_distance_space_opt(A, B):\n",
    "    def compute_distance_between_prefixes(A_idx, B_idx):\n",
    "        if A_idx < 0: \n",
    "            return B_idx + 1 # A is empty so add all of B's characters.\n",
    "        elif B_idx < 0:\n",
    "            return A_idx + 1 # B is empty so delete all of A's Charcters\n",
    "        \n",
    "        if distance_between_prefixes[(A_idx%2)][B_idx] == -1:# check not to compute same value multiple times\n",
    "            if A[A_idx] == B[B_idx]: # last chars of both strings are equal\n",
    "                distance_between_prefixes[(A_idx%2)][B_idx] = compute_distance_between_prefixes(A_idx - 1, B_idx - 1)\n",
    "            else: # finding min of substitution, add, delete\n",
    "                substitute_last = compute_distance_between_prefixes(A_idx - 1, B_idx - 1)\n",
    "                add_last = compute_distance_between_prefixes(A_idx - 1, B_idx)\n",
    "                delete_last = compute_distance_between_prefixes(A_idx, B_idx - 1)\n",
    "                distance_between_prefixes[(A_idx%2)][B_idx] = (1 + min(substitute_last, add_last, delete_last))\n",
    "        return distance_between_prefixes[(A_idx%2)][B_idx]\n",
    "        \n",
    "    distance_between_prefixes = [[-1] * len(B) for _ in range(0,2)] # create two rows: one for previous values and one to compute current values\n",
    "    return compute_distance_between_prefixes(len(A) - 1, len(B) - 1)\n",
    "\n",
    "A = \"Carthorse\"\n",
    "B = \"Orchestra\"\n",
    "print(f'The levenshtein distance between {A} and {B} is {levenshtein_distance_space_opt(A, B)}')   "
   ]
  },
  {
   "cell_type": "markdown",
   "metadata": {},
   "source": [
    "### Variant: Longest Common Subsequence"
   ]
  },
  {
   "cell_type": "code",
   "execution_count": 50,
   "metadata": {},
   "outputs": [
    {
     "name": "stdout",
     "output_type": "stream",
     "text": [
      "The lenght of longest common subsequence between Carthorse and Orchestra is 3\n",
      "The lenght of longest common subsequence between AGGTAB and GXTXAYB is 4\n"
     ]
    }
   ],
   "source": [
    "# variant: Given A and B as above, compute a longest sequence of characters that is a subsequence of A and of B. F\n",
    "# For example, the longest subsequence which is present in both strings in \"Carthorse\" and \"Orchestra\" is (r,h,s).\n",
    "\n",
    "# Ref: https://www.geeksforgeeks.org/longest-common-subsequence-dp-4/\n",
    "# A subsequence is a sequence that appears in the same relative order, but not necessarily contiguous.\n",
    "# For ex: \"abc\", \"abg\", \"bdf\", \"aeg\", \"acefg\", ... etc are subsequences of \"abcdefg\"\n",
    "# LCS for input Sequences “ABCDGH” and “AEDFHR” is “ADH” of length 3.\n",
    "# LCS for input Sequences “AGGTAB” and “GXTXAYB” is “GTAB” of length 4.\n",
    "\n",
    "# Brute Force: Number of subsequence of lenght 1,2,...,n is nC0 + nC1 + nC2 + ... + nCn = 2^n and O(n) to check if subsequence is common to both strings => Time Complexity: O(n*(2^n))\n",
    "\n",
    "# DP Approach: For two string (A, B) let L(A[0,a-1],B[0,b-1]) be the length of longest common subsequence. we get the following two cases:\n",
    "# - If last char of A equal last char of B, then L(A[0,a-1], B[0, b-1]) = 1 + L(A[0,a-2], B[0, b-2])\n",
    "# - else L(A[0,a-1], B[0, b-1]) = max(L(A[0,a-2], B[0, b-1]), L(A[0,a-1], B[0, b-2]))\n",
    "# Time Complexity: O(ab) Space Complexity: O(ab)\n",
    "def longest_common_subsequence(A, B):\n",
    "    def compute_lcs_between_prefixes(A_idx, B_idx):\n",
    "        if A_idx < 0:\n",
    "            return 0\n",
    "        elif B_idx < 0:\n",
    "            return 0\n",
    "        \n",
    "        if lcs_between_prefixes[A_idx][B_idx] == -1: # check not to compute same value multiple times\n",
    "            if(A[A_idx] == B[B_idx]):\n",
    "                lcs_between_prefixes[A_idx][B_idx] = 1 + compute_lcs_between_prefixes(A_idx - 1, B_idx - 1)\n",
    "            else:\n",
    "                lcs_between_prefixes[A_idx][B_idx] = max(compute_lcs_between_prefixes(A_idx, B_idx - 1), compute_lcs_between_prefixes(A_idx - 1, B_idx))\n",
    "        return lcs_between_prefixes[A_idx][B_idx]\n",
    "    \n",
    "    lcs_between_prefixes = [[-1] * len(B) for _ in A]\n",
    "    return compute_lcs_between_prefixes(len(A) - 1, len(B) - 1)\n",
    "\n",
    "A = \"Carthorse\"\n",
    "B = \"Orchestra\"\n",
    "print(f'The lenght of longest common subsequence between {A} and {B} is {longest_common_subsequence(A, B)}') \n",
    "A = \"AGGTAB\"\n",
    "B = \"GXTXAYB\"\n",
    "print(f'The lenght of longest common subsequence between {A} and {B} is {longest_common_subsequence(A, B)}') "
   ]
  },
  {
   "cell_type": "markdown",
   "metadata": {},
   "source": [
    "### Variant: Min number of deletions to convert string to palindrome"
   ]
  },
  {
   "cell_type": "code",
   "execution_count": 64,
   "metadata": {},
   "outputs": [
    {
     "name": "stdout",
     "output_type": "stream",
     "text": [
      "The length of the longest palindromic subsequence in GEEKSFORGEEKS is 5\n",
      "Minimum number of deletions requried to convert GEEKSFORGEEKS to palindrome are 8\n",
      "\n",
      "The length of the longest palindromic subsequence in aebbda is 4\n",
      "Minimum number of deletions requried to convert aebbda to palindrome are 2\n"
     ]
    }
   ],
   "source": [
    "# Variant: Given a string A, compute teh minimum number of characters you need to delete from A to make the resulting string a palindrome\n",
    "# Ref: https://www.geeksforgeeks.org/minimum-number-deletions-make-string-palindrome/\n",
    "\n",
    "# Brute Force: Remove all subseqences one by one and check if the string is a palindrome Time Complexity:O(n*2^n)\n",
    "\n",
    "# DP Approach: An efficient approach uses the concept of finding the length of the longest palindromic subsequence of a given sequence.\n",
    "\n",
    "# DP to compute length of longest palindromic subsequence: https://www.geeksforgeeks.org/longest-palindromic-subsequence-dp-12/\n",
    "# For a string, let LPS(A[0,a-1]) be the length of longest palindromic subsequence. we get the following two cases:\n",
    "# - If first char of A equal to last char of A, then LPS(A[0,a-1]) = 2 + LPS(A[1,a-2])\n",
    "# - else LPS(A[0,a-1]) = max(L(A[1,a-1]), L(A[0,a-2]))\n",
    "# Time Complexity: O(a^2) Space Complexity: O(a^2)\n",
    "def longest_palindromic_subsequence(A):\n",
    "    def compute_lps_between_prefixes(A_idx_start, A_idx_end):\n",
    "        if A_idx_start > A_idx_end:\n",
    "            return 0\n",
    "        elif A_idx_start == A_idx_end: # string A is of odd lenght\n",
    "            return 1\n",
    "        elif A_idx_end < 0:\n",
    "            return 0\n",
    "        \n",
    "        if lps_between_prefixes[A_idx_start][A_idx_end] == -1: # check not to compute same value multiple times\n",
    "            if(A[A_idx_start] == A[A_idx_end]):\n",
    "                lps_between_prefixes[A_idx_start][A_idx_end] = 2 + compute_lps_between_prefixes(A_idx_start + 1, A_idx_end - 1)\n",
    "            else:\n",
    "                lps_between_prefixes[A_idx_start][A_idx_end] = max(compute_lps_between_prefixes(A_idx_start + 1, A_idx_end), compute_lps_between_prefixes(A_idx_start, A_idx_end - 1))\n",
    "        return lps_between_prefixes[A_idx_start][A_idx_end]\n",
    "    \n",
    "    lps_between_prefixes = [[-1] * len(A) for _ in A]\n",
    "    return compute_lps_between_prefixes(0, len(A) - 1)\n",
    "\n",
    "A = \"GEEKSFORGEEKS\"\n",
    "lps = longest_palindromic_subsequence(A)\n",
    "min_num_of_deletions = len(A) - lps\n",
    "print(f'The length of the longest palindromic subsequence in {A} is {lps}')\n",
    "print(f'Minimum number of deletions requried to convert {A} to palindrome are {min_num_of_deletions}\\n')\n",
    "A = \"aebbda\"\n",
    "lps = longest_palindromic_subsequence(A)\n",
    "min_num_of_deletions = len(A) - lps\n",
    "print(f'The length of the longest palindromic subsequence in {A} is {lps}')\n",
    "print(f'Minimum number of deletions requried to convert {A} to palindrome are {min_num_of_deletions}')"
   ]
  },
  {
   "cell_type": "code",
   "execution_count": null,
   "metadata": {},
   "outputs": [],
   "source": []
  }
 ],
 "metadata": {
  "kernelspec": {
   "display_name": "Python 3",
   "language": "python",
   "name": "python3"
  },
  "language_info": {
   "codemirror_mode": {
    "name": "ipython",
    "version": 3
   },
   "file_extension": ".py",
   "mimetype": "text/x-python",
   "name": "python",
   "nbconvert_exporter": "python",
   "pygments_lexer": "ipython3",
   "version": "3.8.3"
  }
 },
 "nbformat": 4,
 "nbformat_minor": 2
}
