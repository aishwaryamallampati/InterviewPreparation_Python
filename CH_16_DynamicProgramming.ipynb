{
 "cells": [
  {
   "cell_type": "markdown",
   "metadata": {},
   "source": [
    "# CH16 Dynamic Programming"
   ]
  },
  {
   "cell_type": "code",
   "execution_count": 1,
   "metadata": {},
   "outputs": [],
   "source": [
    "# Some important notes:\n",
    "# DP is a general technique for solving optimization, search, and counting problems that can be decomposed into subproblems.\n",
    "# what makes DP different is that the same subproblem may reoccur. Therefore, a key to making DP efficient is caching the results of intermediate computations\n",
    "# The key to solving a DP problem efficiently is finding a way to break the problem into subproblems such that:\n",
    "# - the original problem can be solved relatively easily once solutions to the subproblems are available, and\n",
    "# - these subproblem solutions are cached.\n",
    "# Top tips for DP:\n",
    "# - Use DP whenever we have to make choices to arrive at the solution. Specifically, when you construct solution to the given instance from solutions to subinstances of smaller problems of the same kind.\n",
    "# - Apart from optimization problems, DP is also applicable to counting and decision problems\n",
    "# - Although conceptually DP involves recursion, often for efficiency the cache is built \"bottom up\", i.e., iteratively. \n",
    "# -- when DP is implemented recursively, the cache data structure is hash table or BST\n",
    "# -- when DP is implemented iteratively, the cache data structure is one or multi-dimensional array\n",
    "# - DP is based on combining solutions to subproblems to yield a solution to the original problem which might not work for all problems"
   ]
  },
  {
   "cell_type": "markdown",
   "metadata": {},
   "source": [
    "### Fibonacci Series"
   ]
  },
  {
   "cell_type": "code",
   "execution_count": 9,
   "metadata": {},
   "outputs": [
    {
     "name": "stdout",
     "output_type": "stream",
     "text": [
      "13\n",
      "13\n"
     ]
    }
   ],
   "source": [
    "# Fibonacci Series Time Complexity: O(N) Space Complexity: O(N)\n",
    "def fibonacci(n, cache = {}):\n",
    "    if n <= 1:\n",
    "        return n\n",
    "    elif n not in cache.keys():\n",
    "        cache[n] = fibonacci(n-1) + fibonacci(n-2)\n",
    "    return cache[n]\n",
    "\n",
    "print(fibonacci(7))\n",
    "\n",
    "# Time Complexity: O(N) Space Complexity: O(1)\n",
    "def fibonacci_space_opt(n):\n",
    "    if n <= 1:\n",
    "        return n\n",
    "    \n",
    "    f_minus_2, f_minus_1 = 0, 1\n",
    "    for _ in range(1, n):\n",
    "        f = f_minus_2 + f_minus_1\n",
    "        f_minus_2, f_minus_1 = f_minus_1, f\n",
    "    return f_minus_1 # as f is stored in f_minus_1 in the last step\n",
    "\n",
    "print(fibonacci_space_opt(7))"
   ]
  },
  {
   "cell_type": "markdown",
   "metadata": {},
   "source": [
    "### Maximum sum over all subarrays"
   ]
  },
  {
   "cell_type": "code",
   "execution_count": 13,
   "metadata": {},
   "outputs": [
    {
     "name": "stdout",
     "output_type": "stream",
     "text": [
      "Brute Force:\n",
      "The max sum is 1479\n",
      "The max sum is 7\n",
      "\n",
      "Brute Force Optimized:\n",
      "The max sum is 1479\n",
      "The max sum is 7\n",
      "\n",
      "Divide and Conquer:\n",
      "The max sum is 1479\n",
      "The max sum is 7\n",
      "\n",
      "Kadanes Algorithm DP:\n",
      "Found maximum sum between 0 and 3 and the maximum sum is 1479\n",
      "Found maximum sum between 2 and 6 and the maximum sum is 7\n"
     ]
    }
   ],
   "source": [
    "# Task: Find the maximum sum over all subarrays of a given array of integer. The array can have positive and negative integers.\n",
    "# we need to find continous elements with maximum sum. \n",
    "# - If all the elements of the array are positive => max_sum = sum of all elements of the array\n",
    "# - If all the elements of the array are negative => max_sum = max element of the array\n",
    "\n",
    "# Brute Force: we can form all sub arrays and find each sum and then find max using two for loops. First, subarrays of size 1 then subarrays of size 2 etc.\n",
    "# Total number of subarrays: ((n*(n+1))/2) and time to compute sum of each subarray is O(n)=>Time Complexity:O(n^3)\n",
    "def max_sum_subarray_brute_force(a):\n",
    "    ans = float('-inf')\n",
    "    \n",
    "    for sub_array_size in range(1,len(a) + 1):\n",
    "        for start_index in range(0, len(a)):\n",
    "            if (start_index + sub_array_size) > len(a): # subarray exceeds array bounds\n",
    "                break\n",
    "            sum_val = 0\n",
    "            for i in range(start_index, start_index + sub_array_size):\n",
    "                sum_val += a[i]\n",
    "            ans = max(ans, sum_val)\n",
    "    return ans\n",
    "print(f'Brute Force:')\n",
    "a = [904, 40, 523, 12, -335, -385, -124, 481, -31]\n",
    "print(f'The max sum is {max_sum_subarray_brute_force(a)}')\n",
    "a = [-2, -5, 6, -2, -3, 1, 5, -6]\n",
    "print(f'The max sum is {max_sum_subarray_brute_force(a)}')\n",
    "\n",
    "# Brute force algo can be improved by first computing S[k]=sigma(A[0,k]) for all k. Then sum for A[i,j] is then S[j] - S[i-1]. Time complexity can be reduced to O(n^2) in this method.\n",
    "def max_sum_subarray_brute_force_opt(a):\n",
    "    ans = float('-inf')\n",
    "    sum_till_i = []\n",
    "    sum_till_i[0] = a[0]\n",
    "    for i in range(1, len(a)): # sub array sum till k is computed\n",
    "        sum_till_i[i] += sum_till_i[i-1] + a[i]\n",
    "    \n",
    "    # Generating all sub arrays and finding their sum\n",
    "    for sub_array_size in range(1, len(a) + 1):\n",
    "        for start_index in range(0, len(a)):\n",
    "            if start_index + sub_array_size > len(a):\n",
    "                break\n",
    "            end_index = start_index + sub_array_size - 1\n",
    "            sum_val = sum_till_i[end_index] - sum_till_i[start_index-1]\n",
    "            ans = max(ans, sum_val)\n",
    "    return ans\n",
    "print(f'\\nBrute Force Optimized:')\n",
    "a = [904, 40, 523, 12, -335, -385, -124, 481, -31]\n",
    "print(f'The max sum is {max_sum_subarray_brute_force(a)}')\n",
    "a = [-2, -5, 6, -2, -3, 1, 5, -6]\n",
    "print(f'The max sum is {max_sum_subarray_brute_force(a)}')\n",
    "\n",
    "# Divide and conquer: The approach is similar to quick sort. Split array into two halves => compute max sum in left and right=> max subarray sum is going to be max(l+r)\n",
    "# Time Complexity: O(nlogn)\n",
    "def max_sum_subarray_divide_and_conquer(a):\n",
    "    def max_sum_subarray_divide_and_conquer_helper(a, start, end):\n",
    "        if start == end:\n",
    "            return a[start]\n",
    "        \n",
    "        m = (start + ((end - start)//2))\n",
    "        sum_l = max_sum_subarray_divide_and_conquer_helper(a, 0, m)\n",
    "        sum_r = max_sum_subarray_divide_and_conquer_helper(a, m+1, end)\n",
    "        ans = max(ans, sum_l + sum_r)\n",
    "        return ans\n",
    "    \n",
    "    return max_sum_subarray_divide_and_conquer_helper(a, 0, (len(a) - 1))\n",
    "\n",
    "print(f'\\nDivide and Conquer:')\n",
    "a = [904, 40, 523, 12, -335, -385, -124, 481, -31]\n",
    "print(f'The max sum is {max_sum_subarray_brute_force(a)}')\n",
    "a = [-2, -5, 6, -2, -3, 1, 5, -6]\n",
    "print(f'The max sum is {max_sum_subarray_brute_force(a)}')\n",
    "\n",
    "# Kadane's Algorithm: The approach uses dynamic programming and its time complexity is O(n) and space complxity is O(1).\n",
    "# Ref: https://www.baeldung.com/java-maximum-subarray\n",
    "# Formula: maximumSubArraySum[i] = maximumSubArraySum[i-1] + arr[i] if arr[i] < maximumSubArraySum[i-1] + arr[i] else maximumSubArraySum[i] = arr[i]\n",
    "def max_sum_subarray_DP(a):\n",
    "    max_so_far = float('-inf')\n",
    "    max_ending_here = float('-inf')\n",
    "    for i in range(0, len(a)):\n",
    "        if a[i] > max_ending_here + a[i]: # starting a new sub array\n",
    "            start = i\n",
    "            max_ending_here = a[i]\n",
    "        else:\n",
    "            max_ending_here = max_ending_here + a[i] # adding element to the earlier sub array\n",
    "        \n",
    "        if max_so_far < max_ending_here: # updating global maximum\n",
    "            max_so_far = max_ending_here\n",
    "            end = i\n",
    "    print(f'Found maximum sum between {start} and {end} and the maximum sum is {max_so_far}')\n",
    "    return\n",
    "print(f'\\nKadanes Algorithm DP:')\n",
    "a = [904, 40, 523, 12, -335, -385, -124, 481, -31]\n",
    "max_sum_subarray_DP(a)\n",
    "a = [-2, -5, 6, -2, -3, 1, 5, -6]\n",
    "max_sum_subarray_DP(a)"
   ]
  },
  {
   "cell_type": "markdown",
   "metadata": {},
   "source": [
    "## 16.1 Count the numeber of score combinations"
   ]
  },
  {
   "cell_type": "code",
   "execution_count": null,
   "metadata": {},
   "outputs": [],
   "source": [
    "# In an American football Bame, a play can lead to 2 points (safety), 3 points (field goal), or 7 points (touchdown, assuming the extra point). \n",
    "# Many different combinations of 2,3, and 7 point plays can make up a final score. For example, four combinations of plays yield a score of 12: o 6safeties (2x6=12), o 3 safeties and 2 field goals (2 x 3 + 3 x2 = 12), o 1 safety,l field goal and l touchdown (2 x 1+ 3 x 1 +7 x1= 12), and o 4fieldgoals(3x4=12).\n",
    "# Write a program that takes a final score and scores for individual plays, and returns the number of combinations of plays that result in the final score.\n"
   ]
  }
 ],
 "metadata": {
  "kernelspec": {
   "display_name": "Python 3",
   "language": "python",
   "name": "python3"
  },
  "language_info": {
   "codemirror_mode": {
    "name": "ipython",
    "version": 3
   },
   "file_extension": ".py",
   "mimetype": "text/x-python",
   "name": "python",
   "nbconvert_exporter": "python",
   "pygments_lexer": "ipython3",
   "version": "3.8.3"
  }
 },
 "nbformat": 4,
 "nbformat_minor": 2
}
