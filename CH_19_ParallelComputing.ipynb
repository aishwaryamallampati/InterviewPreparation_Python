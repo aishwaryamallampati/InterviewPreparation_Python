{
 "cells": [
  {
   "cell_type": "markdown",
   "metadata": {},
   "source": [
    "# CH19 Parallel Computing"
   ]
  },
  {
   "cell_type": "code",
   "execution_count": 1,
   "metadata": {},
   "outputs": [],
   "source": [
    "# CH19 Parallel Computing\n",
    "# Parallelism provides a number of benefits: High performance, Better use of resources, convenience, fault tolerance\n",
    "# There are two primary models for parallel computation:\n",
    "# - shared memory: Each processor can access any location in memory (appropriate for multicore)\n",
    "# - distributed memory: Each processor must explicitly send a message to another processor to access its memory.(appropriate for clusters)\n",
    "# Challenges in parallel programming:\n",
    "# - starvation, deadlock, livelock(a processor keeps retrying an operation that always fails)\n",
    "# Semaphore\n",
    "# - A semaphore is a very powerful synchronization construct. Conceptually, a semaphore maintains a set of permits. \n",
    "# - A thread calling acquire() on a semaphore waits, if necessary until a permit is available, and then takes it. \n",
    "# - A thread calling release() on a semaphore adds a permit and notifies threads waiting on that semaphore, potentially releasing a blocking acquirer."
   ]
  },
  {
   "cell_type": "code",
   "execution_count": 6,
   "metadata": {},
   "outputs": [],
   "source": [
    "#Ref: https://docs.python.org/3/library/threading.html\n",
    "import threading\n",
    "\n",
    "class Semaphore():\n",
    "    def __init__(self, max_available): \n",
    "        # A condition variable allows one or more threads to wait until they are notified by another thread.\n",
    "        self.cv = threading.Condition \n",
    "        self.MAX_AVAILABLE = max_available\n",
    "        self.taken = 0\n",
    "    \n",
    "    def acquire(self):\n",
    "        self.cv.acquire() # acquire the semaphore to access taken var\n",
    "        while(self.taken == self.MAX_AVAILABLE): # all the resources are in use by different threads\n",
    "            self.cv.wait()\n",
    "        self.taken += 1\n",
    "        self.cv.release() # work completed calling release\n",
    "    \n",
    "    def release(self):\n",
    "        self.cv.acquire()\n",
    "        self.taken -= 1\n",
    "        self.cv.notify() # notify all other threads that resource is free\n",
    "        self.cv.release()"
   ]
  },
  {
   "cell_type": "markdown",
   "metadata": {},
   "source": [
    "## 19.1 Implement caching for a multithreaded dictionary"
   ]
  },
  {
   "cell_type": "code",
   "execution_count": 7,
   "metadata": {},
   "outputs": [],
   "source": [
    "# Check book. The main logic is \n",
    "# - If threads are trying to read or write something from the cache then that particular code block needs to be locked."
   ]
  },
  {
   "cell_type": "code",
   "execution_count": 8,
   "metadata": {},
   "outputs": [],
   "source": [
    "# Variant: There are n threads and the execute a method critical(). Before this, they execute a method called rendezvous(). \n",
    "# The synchronization constriant is that only one thread can execute critical() at a time, and all threads must have completed\n",
    "# executing rendezvous() before critical() can be called. \n",
    "\n",
    "# Task: Design a synchronization mechanism for threads.\n",
    "\n",
    "def critical():\n",
    "    pass\n",
    "\n",
    "def rendezvous():\n",
    "    pass\n",
    "\n"
   ]
  },
  {
   "cell_type": "markdown",
   "metadata": {},
   "source": [
    "# Other Material"
   ]
  },
  {
   "cell_type": "markdown",
   "metadata": {},
   "source": [
    "### Python threading tutorial: Run code concurrently using the threading Module"
   ]
  },
  {
   "cell_type": "code",
   "execution_count": 11,
   "metadata": {},
   "outputs": [
    {
     "name": "stdout",
     "output_type": "stream",
     "text": [
      "Sleeping 1 second...Sleeping 1 second...\n",
      "\n",
      "Done Sleeping...Done Sleeping...\n",
      "\n",
      "Finished in 1.01 seconds\n"
     ]
    }
   ],
   "source": [
    "# Ref: https://www.youtube.com/watch?v=IEEhzQoKtQU\n",
    "# Threads basics\n",
    "import time\n",
    "start = time.perf_counter()\n",
    "\n",
    "def do_something():\n",
    "    print('Sleeping 1 second...')\n",
    "    time.sleep(1)\n",
    "    print('Done Sleeping...')\n",
    "\n",
    "# Creation of two threads by setting the target function\n",
    "t1 = threading.Thread(target=do_something)\n",
    "t2 = threading.Thread(target=do_something)\n",
    "# Start the threads\n",
    "t1.start()\n",
    "t2.start()\n",
    "# Waits until execution of all the threads is over\n",
    "t1.join()\n",
    "t2.join()\n",
    "finish = time.perf_counter()\n",
    "\n",
    "print(f'Finished in {round(finish-start, 2)} seconds')"
   ]
  },
  {
   "cell_type": "code",
   "execution_count": 12,
   "metadata": {},
   "outputs": [
    {
     "name": "stdout",
     "output_type": "stream",
     "text": [
      "Sleeping 1 second...\n",
      "Sleeping 1 second...\n",
      "Sleeping 1 second...\n",
      "Sleeping 1 second...\n",
      "Sleeping 1 second...\n",
      "Sleeping 1 second...\n",
      "Sleeping 1 second...\n",
      "Sleeping 1 second...\n",
      "Sleeping 1 second...Sleeping 1 second...\n",
      "\n",
      "Done Sleeping...\n",
      "Done Sleeping...Done Sleeping...\n",
      "\n",
      "Done Sleeping...Done Sleeping...\n",
      "\n",
      "Done Sleeping...\n",
      "Done Sleeping...\n",
      "Done Sleeping...\n",
      "Done Sleeping...Done Sleeping...\n",
      "\n",
      "Finished in 1.03 seconds\n"
     ]
    }
   ],
   "source": [
    "# Creating multiple threads using for loops\n",
    "start = time.perf_counter()\n",
    "threads = []\n",
    "for _ in range(10):\n",
    "    t = threading.Thread(target = do_something)\n",
    "    t.start()\n",
    "    threads.append(t)\n",
    "\n",
    "for thread in threads:\n",
    "    thread.join()\n",
    "    \n",
    "finish = time.perf_counter()\n",
    "print(f'Finished in {round(finish-start, 2)} seconds')"
   ]
  },
  {
   "cell_type": "code",
   "execution_count": null,
   "metadata": {},
   "outputs": [],
   "source": []
  }
 ],
 "metadata": {
  "kernelspec": {
   "display_name": "Python 3",
   "language": "python",
   "name": "python3"
  },
  "language_info": {
   "codemirror_mode": {
    "name": "ipython",
    "version": 3
   },
   "file_extension": ".py",
   "mimetype": "text/x-python",
   "name": "python",
   "nbconvert_exporter": "python",
   "pygments_lexer": "ipython3",
   "version": "3.8.3"
  }
 },
 "nbformat": 4,
 "nbformat_minor": 2
}
