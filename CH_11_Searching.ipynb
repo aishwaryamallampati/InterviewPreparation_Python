{
 "cells": [
  {
   "cell_type": "markdown",
   "metadata": {},
   "source": [
    "# CH11 Searching"
   ]
  },
  {
   "cell_type": "code",
   "execution_count": 1,
   "metadata": {},
   "outputs": [],
   "source": [
    "# Some important notes\n",
    "# Binary Search: a natural elimination-based strategy for searching a sorted array.\n",
    "# Binary search is an effective search tool. It can also be used to search an interval of real numbers or integers\n",
    "# If your searching algo requires sorting and if the computation after sorting is faster than sorting (O(n) or O(logn)), look for solutions that do not perform complete sort\n",
    "# Consider time/space tradeoffs, such as making multiple passes through the data\n",
    "# The bisect module provides binary search functions for sorted list. Consider A is a sorted list:\n",
    "# - To find the first element that is not less than a targeted value, use bisect.bisect_left (a , x). This call retums the index of the first entry that is greater than or equal to the targeted value.\n",
    "#   If all elements in the list are less than x, the retumed value is len(a).\n",
    "# - Tofindthefirstelementthatisgreaterthanatargetedvalue,use bisect.bisect_right(a,x). This call retums the index of the first entry that is greater than the targeted value. If all elements\n",
    "#   in the list are less than or equal to x, the retumed value is len(a).\n",
    "#In an interview, if it is allowed, use the above functions, instead of implementing your own binary search."
   ]
  },
  {
   "cell_type": "code",
   "execution_count": 2,
   "metadata": {},
   "outputs": [
    {
     "name": "stdout",
     "output_type": "stream",
     "text": [
      "The index of 5 is 2\n",
      "The index of 5000 is -1\n"
     ]
    }
   ],
   "source": [
    "# Time Complexity: O(logn)\n",
    "# Binary search always needs a sorted array and the time complexity to sort an array is O(nlogn).\n",
    "def binary_search(t, A):\n",
    "    L, U = 0, len(A) - 1\n",
    "    while(L <= U):\n",
    "        mid = ((L + U) // 2)\n",
    "        if t == A[mid]:\n",
    "            return mid\n",
    "        elif t < A[mid]:\n",
    "            U = mid - 1\n",
    "        else:\n",
    "            L = mid + 1\n",
    "    return -1\n",
    "# There is a small bug in the above code: M = ((U + L) / 2) can lead to overflow. \n",
    "# The overflow can be avoided by using M = L + ((U - L) / 2)\n",
    "\n",
    "A = [1, 2, 5, 100, 500, 1000]\n",
    "print(f'The index of 5 is {binary_search(5, A)}')\n",
    "print(f'The index of 5000 is {binary_search(5000, A)}')"
   ]
  },
  {
   "cell_type": "markdown",
   "metadata": {},
   "source": [
    "## 11.1 Search a sorted array for first occurence of k"
   ]
  },
  {
   "cell_type": "code",
   "execution_count": 4,
   "metadata": {},
   "outputs": [
    {
     "name": "stdout",
     "output_type": "stream",
     "text": [
      "The first occurence of 108 is at index 3\n",
      "The first occurence of 285 is at index 6\n",
      "The first occurence of 2 is at index 2\n",
      "The first occurence of 1000 is at index -1\n"
     ]
    }
   ],
   "source": [
    "# Write a method that takes a sorted array and a key and retums the index of the first occurrence of\n",
    "# that key in the array. Return -1 if the key does not appear in the array.\n",
    "\n",
    "# Brute Force Approach: Find key using binary search in O(logn) then track back to find the first occurence O(n) in worst case when all elements of an array are equal to k\n",
    "# Optimized Apprach: Continue binary search to find the first occurence even after finding the element k\n",
    "\n",
    "# Time Complexity: O(logn)\n",
    "def search_first_of_k(A, k):\n",
    "    left, right, result = 0, len(A) - 1, -1\n",
    "    \n",
    "    while(left <= right):\n",
    "        mid = (left + ((right - left) // 2)) \n",
    "        if A[mid] == k:\n",
    "            result = mid\n",
    "            right = mid - 1\n",
    "        elif A[mid] > k:\n",
    "            right = mid - 1\n",
    "        else:\n",
    "            left = mid + 1\n",
    "    return result\n",
    "\n",
    "A = [-14, -10 , 2, 108, 108, 243, 285, 285, 285, 401]\n",
    "print(f'The first occurence of 108 is at index {search_first_of_k(A, 108)}')\n",
    "print(f'The first occurence of 285 is at index {search_first_of_k(A, 285)}')\n",
    "print(f'The first occurence of 2 is at index {search_first_of_k(A, 2)}')\n",
    "print(f'The first occurence of 1000 is at index {search_first_of_k(A, 1000)}')"
   ]
  },
  {
   "cell_type": "code",
   "execution_count": 6,
   "metadata": {},
   "outputs": [
    {
     "name": "stdout",
     "output_type": "stream",
     "text": [
      "The element greater than 108 is at index 5\n",
      "The element greater than 285 is at index 9\n",
      "The element greater than 2 is at index 1\n",
      "The element greater than 1000 is at index -1\n"
     ]
    }
   ],
   "source": [
    "# Variant: Design an efficient algorithm that takes a sorted array and a key, and finds the index of the first occurrence of an element greater than that key.\n",
    "# Time Complexity: O(logn)\n",
    "def search_first_greater_than_k(A, k):\n",
    "    left, right, result = 0, len(A) - 1, -1\n",
    "    \n",
    "    while(left <= right):\n",
    "        mid = (left + ((right - left) // 2)) \n",
    "        if A[mid] > k:\n",
    "            result = mid\n",
    "            right = mid - 1\n",
    "        else:\n",
    "            left = mid + 1\n",
    "    return result\n",
    "\n",
    "A = [-14, -10 , 2, 108, 108, 243, 285, 285, 285, 401]\n",
    "print(f'The element greater than 108 is at index {search_first_greater_than_k(A, 108)}')\n",
    "print(f'The element greater than 285 is at index {search_first_greater_than_k(A, 285)}')\n",
    "print(f'The element greater than 2 is at index {search_first_greater_than_k(A, -13)}')\n",
    "print(f'The element greater than 1000 is at index {search_first_greater_than_k(A, 1000)}')"
   ]
  },
  {
   "cell_type": "markdown",
   "metadata": {},
   "source": [
    "## 11.2 Search a sorted array for entry equal to its index"
   ]
  },
  {
   "cell_type": "code",
   "execution_count": 4,
   "metadata": {},
   "outputs": [
    {
     "name": "stdout",
     "output_type": "stream",
     "text": [
      "Output:3\n",
      "Output:-1\n"
     ]
    }
   ],
   "source": [
    "# Design an efficient algorithm that takes a sorted array of distinct integers, and retums an index I\n",
    "# such that the element at index I equals i. For example, when the input is <-2,0,2,3,6,7,9> your\n",
    "# algorithm should return 2 or 3.\n",
    "\n",
    "# Brute Force: Iterate through the array Time Complexity:O(N)\n",
    "# Optimized Approach: As in binary search, check the middle element if it is equal to index return it. \n",
    "# If mid > index, then skip left and iterate throug right. Similarly, if mid < index, then iterate through left skip right.\n",
    "# Time Complexity: O(lognn)\n",
    "def search_entry_equal_to_its_index(A):\n",
    "    left, right = 0, len(A) - 1\n",
    "    while left <= right:\n",
    "        mid = left + ((right - left) // 2)\n",
    "        difference = A[mid] - mid\n",
    "        if difference == 0:\n",
    "            return mid\n",
    "        elif difference > 0: # skip right\n",
    "            right = mid - 1\n",
    "        else: # skip left\n",
    "            left = mid + 1\n",
    "    return -1\n",
    "\n",
    "A = [-2, 0, 2, 3, 6, 7, 9]\n",
    "print(f'Output:{search_entry_equal_to_its_index(A)}')\n",
    "A = [-2, 0, 2, 2, 3, 3, 3, 5, 6, 9, 9, 9]\n",
    "print(f'Output:{search_entry_equal_to_its_index(A)}')"
   ]
  },
  {
   "cell_type": "code",
   "execution_count": 12,
   "metadata": {},
   "outputs": [
    {
     "name": "stdout",
     "output_type": "stream",
     "text": [
      "Output:2\n"
     ]
    }
   ],
   "source": [
    "# Variant: Solve the same problem when A is sorted but may contain duplicates.\n",
    "# Approach: If mid is not equal to index, then search left then right.\n",
    "# left = (left, min(A[mid], mid-1)) # the array is sorted so the values will be less than mid, so truncate logically\n",
    "# right = (max(A[mid], mid+1), right)\n",
    "# Time Complexity: O(logn)\n",
    "# Ref: https://www.geeksforgeeks.org/find-fixed-point-value-equal-index-given-array-duplicates-allowed/\n",
    "def search_entry_equal_to_its_index_with_dup(A):\n",
    "    def search_entry_equal_to_its_index_with_dup_helper(A, left, right):\n",
    "        if left > right:\n",
    "            return -1\n",
    "        \n",
    "        mid = left + ((right - left) // 2)\n",
    "        difference = A[mid] - mid\n",
    "        if difference == 0:\n",
    "            return mid\n",
    "        \n",
    "        left_output = search_entry_equal_to_its_index_with_dup_helper(A, left, min(A[mid],mid-1))\n",
    "        if left_output != -1:\n",
    "            return left_output\n",
    "        \n",
    "        right_output = search_entry_equal_to_its_index_with_dup_helper(A, max(A[mid], mid + 1), right)\n",
    "        return right_output\n",
    "    \n",
    "    return search_entry_equal_to_its_index_with_dup_helper(A, 0, len(A)-1)\n",
    "    \n",
    "A = [-10, -5, 2, 2, 2, 3, 4, 7, 9, 12, 13]\n",
    "print(f'Output:{search_entry_equal_to_its_index_with_dup(A)}')"
   ]
  },
  {
   "cell_type": "markdown",
   "metadata": {},
   "source": [
    "## 11.3 Search a cyclically sorted array"
   ]
  },
  {
   "cell_type": "code",
   "execution_count": 18,
   "metadata": {},
   "outputs": [
    {
     "name": "stdout",
     "output_type": "stream",
     "text": [
      "output:4\n"
     ]
    }
   ],
   "source": [
    "# An array is said to be cyclically sorted if it is possible to cyclically shift its entries so that it becomes\n",
    "# sorted. For example: A=[378, 478, 550, 631, 103, 203, 220, 234, 279, 368] - a cyclic shift of 4 leads to a sorted array.\n",
    "\n",
    "# Task: Design an O(logn) algorithm for finding the position of the smallest element in a cyclically sorted\n",
    "# array. Assume all elements are distinct.\n",
    "# Brute Force: Iterate through the array comparing the running minimum. Time Complexity: O(N)\n",
    "# Optimized Approach: for any m, if A[m] > A[n - 1], then the minimum value must be an index in the range\n",
    "# [m + 1,n - 1]. Conversely, if A[m] < A[n -1], then no index in the range [m+1, n-1] can be the\n",
    "# index of the minimum value\n",
    "def find_smallest_in_cyclically_sorted_array(A):\n",
    "    left, right = 0, len(A) - 1\n",
    "    while left < right: # loop ends when left == right\n",
    "        mid = left + ((right - left) // 2)\n",
    "        if A[mid] > A[right]: # Minimum must be in A[mid + 1 : right + 1]\n",
    "            left = mid + 1\n",
    "        else: # Minimum cannot be in A[mid + 1: right + 1] so it must be in A[left:mid + 1]\n",
    "            right = mid\n",
    "            \n",
    "    return left\n",
    "\n",
    "A = [378, 478, 550, 631, 103, 203, 220, 234, 279, 368]\n",
    "print(f'output:{find_smallest_in_cyclically_sorted_array(A)}')"
   ]
  },
  {
   "cell_type": "markdown",
   "metadata": {},
   "source": [
    "## 11.4 Compute the integer square root"
   ]
  },
  {
   "cell_type": "code",
   "execution_count": 22,
   "metadata": {},
   "outputs": [
    {
     "name": "stdout",
     "output_type": "stream",
     "text": [
      "Square root of 16 is 4\n",
      "Square root of 300 is 17\n"
     ]
    }
   ],
   "source": [
    "# Write a program that takes a nonnegative integer and returns the largest integer whose square is\n",
    "# less than or equal to the given integer. For ex: input=16 output=4, input=300 output =17\n",
    "# Brute Force: Square each number from 1 to k stopping as soon as the square values exceeds input. Time Complexity:O(k)\n",
    "# Optimized Approach: Let the range be [1,k] then check the square of mid if it is less then eleminate left and so on.\n",
    "# Time Complexity: O(logk)\n",
    "def square_root(k):\n",
    "    left, right = 0, k\n",
    "    # candidate interval [left, right] where everything before left has square <= k, everything after right has square > k\n",
    "    # loop terminates when the interval is empty in which case every number less than l has a square less than or equal to k\n",
    "    # and l's sqaure is greater than k, so the result is l-1.\n",
    "    while left <= right:\n",
    "        mid = left + ((right - left)//2)\n",
    "        mid_squared = mid * mid\n",
    "        if mid_squared <= k:\n",
    "            left = mid + 1\n",
    "        else:\n",
    "            right = mid - 1\n",
    "    return left - 1\n",
    "\n",
    "k = 16\n",
    "print(f'Square root of {k} is {square_root(k)}')\n",
    "k = 300\n",
    "print(f'Square root of {k} is {square_root(k)}')"
   ]
  },
  {
   "cell_type": "markdown",
   "metadata": {},
   "source": [
    "## 11.5 Compute the real square root"
   ]
  },
  {
   "cell_type": "code",
   "execution_count": 26,
   "metadata": {},
   "outputs": [
    {
     "name": "stdout",
     "output_type": "stream",
     "text": [
      "Square root of 14.2 is 3.7682887336239217\n",
      "Square root of 0.7 is 0.8366600262001157\n"
     ]
    }
   ],
   "source": [
    "# Implement a function which takes as input a floating point value and retums its square root.\n",
    "# Approach: Use binary search Time Complexity: O(log(x/s)) where s is the tolerance\n",
    "import math\n",
    "def square_root_float(x):\n",
    "    # Decide the search range according to x's value relative to 1.0\n",
    "    left, right = (x, 1.0) if x < 1.0 else (1.0, x)\n",
    "    \n",
    "    # keep searching as long as left != right\n",
    "    while not math.isclose(left, right):\n",
    "        mid = 0.5 * (left + right)\n",
    "        mid_squared = mid * mid\n",
    "        if mid_squared > x:\n",
    "            right = mid\n",
    "        else:\n",
    "            left = mid\n",
    "    return left\n",
    "\n",
    "x = 14.2\n",
    "print(f'Square root of {x} is {square_root_float(x)}')\n",
    "x = 0.7\n",
    "print(f'Square root of {x} is {square_root_float(x)}')"
   ]
  },
  {
   "cell_type": "code",
   "execution_count": null,
   "metadata": {},
   "outputs": [],
   "source": []
  }
 ],
 "metadata": {
  "kernelspec": {
   "display_name": "Python 3",
   "language": "python",
   "name": "python3"
  },
  "language_info": {
   "codemirror_mode": {
    "name": "ipython",
    "version": 3
   },
   "file_extension": ".py",
   "mimetype": "text/x-python",
   "name": "python",
   "nbconvert_exporter": "python",
   "pygments_lexer": "ipython3",
   "version": "3.8.3"
  }
 },
 "nbformat": 4,
 "nbformat_minor": 2
}
