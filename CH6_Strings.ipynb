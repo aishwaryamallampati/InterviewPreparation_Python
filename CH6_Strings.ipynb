{
 "cells": [
  {
   "cell_type": "markdown",
   "metadata": {},
   "source": [
    "# CH6 STRINGS"
   ]
  },
  {
   "cell_type": "code",
   "execution_count": null,
   "metadata": {},
   "outputs": [],
   "source": [
    "# Imp notes on string:\n",
    "# The key operators and functions on strings are s[3], len(s), s + t, s[2:4],  s in t, s.stri(), s.startswith(prefix), s.endswith(suffix), 'Euclid,Axiom 5,Parallel Lines'.split(','), \n",
    "# 3 * '01', ','.join(('Gauss', 'Prince of Hathematicians', '1777-1855')), s.tolower(), and'Name {name}, Rank {rank}' .format(name='Archimedes', rank=3).  \n",
    "# strings are immutable-operations like s = s[1:] or s += ' 123' imply creating a new array of characters that is then assigned back to s.\n",
    "# Know alternatives to immutable strings, e.g., a list in Python.\n",
    "# Updating a mutable string from the front is slow, so see if it's possible to write values from the back.\n",
    "# ord('9') gives the ASCII value of '9'. The first 128 unicode code points are same as ASCII.\n",
    "# ''.join(list) - joins the elements of the list to a string\n",
    "# reversed(s) - reverses the list and returns it"
   ]
  },
  {
   "cell_type": "code",
   "execution_count": 3,
   "metadata": {},
   "outputs": [
    {
     "name": "stdout",
     "output_type": "stream",
     "text": [
      "False\n",
      "True\n",
      "True\n"
     ]
    }
   ],
   "source": [
    "# check if a given string is a palindrome - reads the same when it is reversed\n",
    "# Time complexity: O(N) Space Complexity: O(1)\n",
    "def is_palindrome(s):\n",
    "    return all(s[i] == s[~i] for i in range(len(s) // 2))\n",
    "\n",
    "print(f'{is_palindrome(\"Google\")}')\n",
    "print(f'{is_palindrome(\"abcdcba\")}')\n",
    "print(f'{is_palindrome(\"abccba\")}')"
   ]
  },
  {
   "cell_type": "markdown",
   "metadata": {},
   "source": [
    "## 6.1 Interconvert strings and integers"
   ]
  },
  {
   "cell_type": "code",
   "execution_count": 6,
   "metadata": {},
   "outputs": [
    {
     "name": "stdout",
     "output_type": "stream",
     "text": [
      "Int 2 str of 50 is 50\n",
      "Str 2 int of -34 is -34\n"
     ]
    }
   ],
   "source": [
    "# Task: Implement an integer to string conversion function and a string to integer conversion function. Do not use inbuilt functions\n",
    "import functools\n",
    "import string\n",
    "def int2str(int_val):\n",
    "    is_negative = False\n",
    "    if(int_val < 0):\n",
    "        int_val, is_negative = -int_val, True\n",
    "    s = []\n",
    "    while(int_val > 0):\n",
    "        s.append(chr(ord('0') + (int_val %10)))\n",
    "        int_val = int_val // 10\n",
    "    return ('-' if is_negative else '') + ''.join(reversed(s))    \n",
    "\n",
    "#lambda func: https://realpython.com/python-lambda/\n",
    "def str2int(s):\n",
    "    # try to understand this properly\n",
    "    return functools.reduce(lambda running_sum, c: running_sum * 10 + string.digits.index(c), s[s[0]=='-':],0) * (-1 if s[0] == '-' else 1)\n",
    "\n",
    "print(f'Int 2 str of 50 is {int2str(50)}')\n",
    "print(f'Str 2 int of -34 is {str2int(\"-34\")}')"
   ]
  },
  {
   "cell_type": "markdown",
   "metadata": {},
   "source": [
    "## 6.2 Base Conversion"
   ]
  },
  {
   "cell_type": "code",
   "execution_count": null,
   "metadata": {},
   "outputs": [],
   "source": [
    "# Task: Write a program that performs base conversion. "
   ]
  }
 ],
 "metadata": {
  "kernelspec": {
   "display_name": "Python 3",
   "language": "python",
   "name": "python3"
  },
  "language_info": {
   "codemirror_mode": {
    "name": "ipython",
    "version": 3
   },
   "file_extension": ".py",
   "mimetype": "text/x-python",
   "name": "python",
   "nbconvert_exporter": "python",
   "pygments_lexer": "ipython3",
   "version": "3.8.3"
  }
 },
 "nbformat": 4,
 "nbformat_minor": 2
}
